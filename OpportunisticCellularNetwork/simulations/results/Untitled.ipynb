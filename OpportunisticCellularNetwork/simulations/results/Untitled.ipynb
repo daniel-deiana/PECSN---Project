{
 "cells": [
  {
   "cell_type": "code",
   "execution_count": 1,
   "id": "6dce57f3",
   "metadata": {},
   "outputs": [],
   "source": [
    "import pandas as pd\n",
    "import numpy as np\n",
    "import matplotlib.pyplot as plt\n",
    "%matplotlib inline\n"
   ]
  },
  {
   "cell_type": "code",
   "execution_count": 4,
   "id": "b8076abd",
   "metadata": {},
   "outputs": [],
   "source": [
    "user3_th = pd.read_csv(\"user3_th.csv\")"
   ]
  },
  {
   "cell_type": "code",
   "execution_count": 5,
   "id": "6f3b503a",
   "metadata": {},
   "outputs": [
    {
     "data": {
      "text/html": [
       "<div>\n",
       "<style scoped>\n",
       "    .dataframe tbody tr th:only-of-type {\n",
       "        vertical-align: middle;\n",
       "    }\n",
       "\n",
       "    .dataframe tbody tr th {\n",
       "        vertical-align: top;\n",
       "    }\n",
       "\n",
       "    .dataframe thead th {\n",
       "        text-align: right;\n",
       "    }\n",
       "</style>\n",
       "<table border=\"1\" class=\"dataframe\">\n",
       "  <thead>\n",
       "    <tr style=\"text-align: right;\">\n",
       "      <th></th>\n",
       "      <th>run</th>\n",
       "      <th>type</th>\n",
       "      <th>module</th>\n",
       "      <th>name</th>\n",
       "      <th>attrname</th>\n",
       "      <th>attrvalue</th>\n",
       "      <th>vectime</th>\n",
       "      <th>vecvalue</th>\n",
       "    </tr>\n",
       "  </thead>\n",
       "  <tbody>\n",
       "    <tr>\n",
       "      <th>0</th>\n",
       "      <td>Validation1-0-20221207-22:46:27-45538</td>\n",
       "      <td>runattr</td>\n",
       "      <td>NaN</td>\n",
       "      <td>NaN</td>\n",
       "      <td>configname</td>\n",
       "      <td>Validation1</td>\n",
       "      <td>NaN</td>\n",
       "      <td>NaN</td>\n",
       "    </tr>\n",
       "    <tr>\n",
       "      <th>1</th>\n",
       "      <td>Validation1-0-20221207-22:46:27-45538</td>\n",
       "      <td>runattr</td>\n",
       "      <td>NaN</td>\n",
       "      <td>NaN</td>\n",
       "      <td>datetime</td>\n",
       "      <td>20221207-22:46:27</td>\n",
       "      <td>NaN</td>\n",
       "      <td>NaN</td>\n",
       "    </tr>\n",
       "    <tr>\n",
       "      <th>2</th>\n",
       "      <td>Validation1-0-20221207-22:46:27-45538</td>\n",
       "      <td>runattr</td>\n",
       "      <td>NaN</td>\n",
       "      <td>NaN</td>\n",
       "      <td>datetimef</td>\n",
       "      <td>20221207-224627</td>\n",
       "      <td>NaN</td>\n",
       "      <td>NaN</td>\n",
       "    </tr>\n",
       "    <tr>\n",
       "      <th>3</th>\n",
       "      <td>Validation1-0-20221207-22:46:27-45538</td>\n",
       "      <td>runattr</td>\n",
       "      <td>NaN</td>\n",
       "      <td>NaN</td>\n",
       "      <td>experiment</td>\n",
       "      <td>Validation1</td>\n",
       "      <td>NaN</td>\n",
       "      <td>NaN</td>\n",
       "    </tr>\n",
       "    <tr>\n",
       "      <th>4</th>\n",
       "      <td>Validation1-0-20221207-22:46:27-45538</td>\n",
       "      <td>runattr</td>\n",
       "      <td>NaN</td>\n",
       "      <td>NaN</td>\n",
       "      <td>inifile</td>\n",
       "      <td>../simulations/omnetpp.ini</td>\n",
       "      <td>NaN</td>\n",
       "      <td>NaN</td>\n",
       "    </tr>\n",
       "  </tbody>\n",
       "</table>\n",
       "</div>"
      ],
      "text/plain": [
       "                                     run     type module name    attrname  \\\n",
       "0  Validation1-0-20221207-22:46:27-45538  runattr    NaN  NaN  configname   \n",
       "1  Validation1-0-20221207-22:46:27-45538  runattr    NaN  NaN    datetime   \n",
       "2  Validation1-0-20221207-22:46:27-45538  runattr    NaN  NaN   datetimef   \n",
       "3  Validation1-0-20221207-22:46:27-45538  runattr    NaN  NaN  experiment   \n",
       "4  Validation1-0-20221207-22:46:27-45538  runattr    NaN  NaN     inifile   \n",
       "\n",
       "                    attrvalue vectime vecvalue  \n",
       "0                 Validation1     NaN      NaN  \n",
       "1           20221207-22:46:27     NaN      NaN  \n",
       "2             20221207-224627     NaN      NaN  \n",
       "3                 Validation1     NaN      NaN  \n",
       "4  ../simulations/omnetpp.ini     NaN      NaN  "
      ]
     },
     "execution_count": 5,
     "metadata": {},
     "output_type": "execute_result"
    }
   ],
   "source": [
    "k"
   ]
  },
  {
   "cell_type": "code",
   "execution_count": 7,
   "id": "337eec8f",
   "metadata": {},
   "outputs": [
    {
     "data": {
      "text/html": [
       "<div>\n",
       "<style scoped>\n",
       "    .dataframe tbody tr th:only-of-type {\n",
       "        vertical-align: middle;\n",
       "    }\n",
       "\n",
       "    .dataframe tbody tr th {\n",
       "        vertical-align: top;\n",
       "    }\n",
       "\n",
       "    .dataframe thead th {\n",
       "        text-align: right;\n",
       "    }\n",
       "</style>\n",
       "<table border=\"1\" class=\"dataframe\">\n",
       "  <thead>\n",
       "    <tr style=\"text-align: right;\">\n",
       "      <th></th>\n",
       "      <th>run</th>\n",
       "      <th>type</th>\n",
       "      <th>module</th>\n",
       "      <th>name</th>\n",
       "      <th>attrname</th>\n",
       "      <th>attrvalue</th>\n",
       "      <th>vectime</th>\n",
       "      <th>vecvalue</th>\n",
       "    </tr>\n",
       "  </thead>\n",
       "  <tbody>\n",
       "    <tr>\n",
       "      <th>20</th>\n",
       "      <td>Validation1-0-20221207-22:46:27-45538</td>\n",
       "      <td>config</td>\n",
       "      <td>NaN</td>\n",
       "      <td>NaN</td>\n",
       "      <td>**.cellular[2].CQI</td>\n",
       "      <td>13</td>\n",
       "      <td>NaN</td>\n",
       "      <td>NaN</td>\n",
       "    </tr>\n",
       "    <tr>\n",
       "      <th>21</th>\n",
       "      <td>Validation1-0-20221207-22:46:27-45538</td>\n",
       "      <td>config</td>\n",
       "      <td>NaN</td>\n",
       "      <td>NaN</td>\n",
       "      <td>**.cellular[3].CQI</td>\n",
       "      <td>14</td>\n",
       "      <td>NaN</td>\n",
       "      <td>NaN</td>\n",
       "    </tr>\n",
       "    <tr>\n",
       "      <th>22</th>\n",
       "      <td>Validation1-0-20221207-22:46:27-45538</td>\n",
       "      <td>config</td>\n",
       "      <td>NaN</td>\n",
       "      <td>NaN</td>\n",
       "      <td>network</td>\n",
       "      <td>OpportunisticCellularNetwork</td>\n",
       "      <td>NaN</td>\n",
       "      <td>NaN</td>\n",
       "    </tr>\n",
       "    <tr>\n",
       "      <th>23</th>\n",
       "      <td>Validation1-0-20221207-22:46:27-45538</td>\n",
       "      <td>config</td>\n",
       "      <td>NaN</td>\n",
       "      <td>NaN</td>\n",
       "      <td>sim-time-limit</td>\n",
       "      <td>3s</td>\n",
       "      <td>NaN</td>\n",
       "      <td>NaN</td>\n",
       "    </tr>\n",
       "    <tr>\n",
       "      <th>24</th>\n",
       "      <td>Validation1-0-20221207-22:46:27-45538</td>\n",
       "      <td>config</td>\n",
       "      <td>NaN</td>\n",
       "      <td>NaN</td>\n",
       "      <td>**.population</td>\n",
       "      <td>4</td>\n",
       "      <td>NaN</td>\n",
       "      <td>NaN</td>\n",
       "    </tr>\n",
       "    <tr>\n",
       "      <th>25</th>\n",
       "      <td>Validation1-0-20221207-22:46:27-45538</td>\n",
       "      <td>config</td>\n",
       "      <td>NaN</td>\n",
       "      <td>NaN</td>\n",
       "      <td>**.antenna.stage</td>\n",
       "      <td>0</td>\n",
       "      <td>NaN</td>\n",
       "      <td>NaN</td>\n",
       "    </tr>\n",
       "    <tr>\n",
       "      <th>26</th>\n",
       "      <td>Validation1-0-20221207-22:46:27-45538</td>\n",
       "      <td>config</td>\n",
       "      <td>NaN</td>\n",
       "      <td>NaN</td>\n",
       "      <td>**.antenna.timeslot</td>\n",
       "      <td>1 ms</td>\n",
       "      <td>NaN</td>\n",
       "      <td>NaN</td>\n",
       "    </tr>\n",
       "    <tr>\n",
       "      <th>27</th>\n",
       "      <td>Validation1-0-20221207-22:46:27-45538</td>\n",
       "      <td>config</td>\n",
       "      <td>NaN</td>\n",
       "      <td>NaN</td>\n",
       "      <td>**.antenna.queueDimension</td>\n",
       "      <td>0</td>\n",
       "      <td>NaN</td>\n",
       "      <td>NaN</td>\n",
       "    </tr>\n",
       "    <tr>\n",
       "      <th>28</th>\n",
       "      <td>Validation1-0-20221207-22:46:27-45538</td>\n",
       "      <td>config</td>\n",
       "      <td>NaN</td>\n",
       "      <td>NaN</td>\n",
       "      <td>**.cellular[*].typeCQI</td>\n",
       "      <td>false</td>\n",
       "      <td>NaN</td>\n",
       "      <td>NaN</td>\n",
       "    </tr>\n",
       "    <tr>\n",
       "      <th>29</th>\n",
       "      <td>Validation1-0-20221207-22:46:27-45538</td>\n",
       "      <td>config</td>\n",
       "      <td>NaN</td>\n",
       "      <td>NaN</td>\n",
       "      <td>**.cellular[*].uniform_r</td>\n",
       "      <td>15</td>\n",
       "      <td>NaN</td>\n",
       "      <td>NaN</td>\n",
       "    </tr>\n",
       "    <tr>\n",
       "      <th>30</th>\n",
       "      <td>Validation1-0-20221207-22:46:27-45538</td>\n",
       "      <td>config</td>\n",
       "      <td>NaN</td>\n",
       "      <td>NaN</td>\n",
       "      <td>num-rngs</td>\n",
       "      <td>3</td>\n",
       "      <td>NaN</td>\n",
       "      <td>NaN</td>\n",
       "    </tr>\n",
       "    <tr>\n",
       "      <th>31</th>\n",
       "      <td>Validation1-0-20221207-22:46:27-45538</td>\n",
       "      <td>config</td>\n",
       "      <td>NaN</td>\n",
       "      <td>NaN</td>\n",
       "      <td>**.cellular[*].rng-0</td>\n",
       "      <td>0</td>\n",
       "      <td>NaN</td>\n",
       "      <td>NaN</td>\n",
       "    </tr>\n",
       "    <tr>\n",
       "      <th>32</th>\n",
       "      <td>Validation1-0-20221207-22:46:27-45538</td>\n",
       "      <td>config</td>\n",
       "      <td>NaN</td>\n",
       "      <td>NaN</td>\n",
       "      <td>**.source[*].rng-0</td>\n",
       "      <td>1</td>\n",
       "      <td>NaN</td>\n",
       "      <td>NaN</td>\n",
       "    </tr>\n",
       "    <tr>\n",
       "      <th>33</th>\n",
       "      <td>Validation1-0-20221207-22:46:27-45538</td>\n",
       "      <td>config</td>\n",
       "      <td>NaN</td>\n",
       "      <td>NaN</td>\n",
       "      <td>** source[*].rng-1</td>\n",
       "      <td>2</td>\n",
       "      <td>NaN</td>\n",
       "      <td>NaN</td>\n",
       "    </tr>\n",
       "    <tr>\n",
       "      <th>34</th>\n",
       "      <td>Validation1-0-20221207-22:46:27-45538</td>\n",
       "      <td>vector</td>\n",
       "      <td>OpportunisticCellularNetwork.cellular[2]</td>\n",
       "      <td>userThroughput:vector</td>\n",
       "      <td>NaN</td>\n",
       "      <td>NaN</td>\n",
       "      <td>0 0.001 0.002 0.003 0.004 0.005 0.006 0.007 0....</td>\n",
       "      <td>0 981 795 863 636 703 1010 959 980 633 677 779...</td>\n",
       "    </tr>\n",
       "    <tr>\n",
       "      <th>35</th>\n",
       "      <td>Validation1-0-20221207-22:46:27-45538</td>\n",
       "      <td>attr</td>\n",
       "      <td>OpportunisticCellularNetwork.cellular[2]</td>\n",
       "      <td>userThroughput:vector</td>\n",
       "      <td>NaN</td>\n",
       "      <td>NaN</td>\n",
       "      <td>NaN</td>\n",
       "      <td>NaN</td>\n",
       "    </tr>\n",
       "    <tr>\n",
       "      <th>36</th>\n",
       "      <td>Validation1-0-20221207-22:46:27-45538</td>\n",
       "      <td>attr</td>\n",
       "      <td>OpportunisticCellularNetwork.cellular[2]</td>\n",
       "      <td>userThroughput:vector</td>\n",
       "      <td>recordingmode</td>\n",
       "      <td>vector</td>\n",
       "      <td>NaN</td>\n",
       "      <td>NaN</td>\n",
       "    </tr>\n",
       "    <tr>\n",
       "      <th>37</th>\n",
       "      <td>Validation1-0-20221207-22:46:27-45538</td>\n",
       "      <td>attr</td>\n",
       "      <td>OpportunisticCellularNetwork.cellular[2]</td>\n",
       "      <td>userThroughput:vector</td>\n",
       "      <td>source</td>\n",
       "      <td>userThroughputSignal</td>\n",
       "      <td>NaN</td>\n",
       "      <td>NaN</td>\n",
       "    </tr>\n",
       "  </tbody>\n",
       "</table>\n",
       "</div>"
      ],
      "text/plain": [
       "                                      run    type  \\\n",
       "20  Validation1-0-20221207-22:46:27-45538  config   \n",
       "21  Validation1-0-20221207-22:46:27-45538  config   \n",
       "22  Validation1-0-20221207-22:46:27-45538  config   \n",
       "23  Validation1-0-20221207-22:46:27-45538  config   \n",
       "24  Validation1-0-20221207-22:46:27-45538  config   \n",
       "25  Validation1-0-20221207-22:46:27-45538  config   \n",
       "26  Validation1-0-20221207-22:46:27-45538  config   \n",
       "27  Validation1-0-20221207-22:46:27-45538  config   \n",
       "28  Validation1-0-20221207-22:46:27-45538  config   \n",
       "29  Validation1-0-20221207-22:46:27-45538  config   \n",
       "30  Validation1-0-20221207-22:46:27-45538  config   \n",
       "31  Validation1-0-20221207-22:46:27-45538  config   \n",
       "32  Validation1-0-20221207-22:46:27-45538  config   \n",
       "33  Validation1-0-20221207-22:46:27-45538  config   \n",
       "34  Validation1-0-20221207-22:46:27-45538  vector   \n",
       "35  Validation1-0-20221207-22:46:27-45538    attr   \n",
       "36  Validation1-0-20221207-22:46:27-45538    attr   \n",
       "37  Validation1-0-20221207-22:46:27-45538    attr   \n",
       "\n",
       "                                      module                   name  \\\n",
       "20                                       NaN                    NaN   \n",
       "21                                       NaN                    NaN   \n",
       "22                                       NaN                    NaN   \n",
       "23                                       NaN                    NaN   \n",
       "24                                       NaN                    NaN   \n",
       "25                                       NaN                    NaN   \n",
       "26                                       NaN                    NaN   \n",
       "27                                       NaN                    NaN   \n",
       "28                                       NaN                    NaN   \n",
       "29                                       NaN                    NaN   \n",
       "30                                       NaN                    NaN   \n",
       "31                                       NaN                    NaN   \n",
       "32                                       NaN                    NaN   \n",
       "33                                       NaN                    NaN   \n",
       "34  OpportunisticCellularNetwork.cellular[2]  userThroughput:vector   \n",
       "35  OpportunisticCellularNetwork.cellular[2]  userThroughput:vector   \n",
       "36  OpportunisticCellularNetwork.cellular[2]  userThroughput:vector   \n",
       "37  OpportunisticCellularNetwork.cellular[2]  userThroughput:vector   \n",
       "\n",
       "                     attrname                     attrvalue  \\\n",
       "20         **.cellular[2].CQI                            13   \n",
       "21         **.cellular[3].CQI                            14   \n",
       "22                    network  OpportunisticCellularNetwork   \n",
       "23             sim-time-limit                            3s   \n",
       "24              **.population                             4   \n",
       "25           **.antenna.stage                             0   \n",
       "26        **.antenna.timeslot                          1 ms   \n",
       "27  **.antenna.queueDimension                             0   \n",
       "28     **.cellular[*].typeCQI                         false   \n",
       "29   **.cellular[*].uniform_r                            15   \n",
       "30                   num-rngs                             3   \n",
       "31       **.cellular[*].rng-0                             0   \n",
       "32         **.source[*].rng-0                             1   \n",
       "33         ** source[*].rng-1                             2   \n",
       "34                        NaN                           NaN   \n",
       "35                        NaN                           NaN   \n",
       "36              recordingmode                        vector   \n",
       "37                     source          userThroughputSignal   \n",
       "\n",
       "                                              vectime  \\\n",
       "20                                                NaN   \n",
       "21                                                NaN   \n",
       "22                                                NaN   \n",
       "23                                                NaN   \n",
       "24                                                NaN   \n",
       "25                                                NaN   \n",
       "26                                                NaN   \n",
       "27                                                NaN   \n",
       "28                                                NaN   \n",
       "29                                                NaN   \n",
       "30                                                NaN   \n",
       "31                                                NaN   \n",
       "32                                                NaN   \n",
       "33                                                NaN   \n",
       "34  0 0.001 0.002 0.003 0.004 0.005 0.006 0.007 0....   \n",
       "35                                                NaN   \n",
       "36                                                NaN   \n",
       "37                                                NaN   \n",
       "\n",
       "                                             vecvalue  \n",
       "20                                                NaN  \n",
       "21                                                NaN  \n",
       "22                                                NaN  \n",
       "23                                                NaN  \n",
       "24                                                NaN  \n",
       "25                                                NaN  \n",
       "26                                                NaN  \n",
       "27                                                NaN  \n",
       "28                                                NaN  \n",
       "29                                                NaN  \n",
       "30                                                NaN  \n",
       "31                                                NaN  \n",
       "32                                                NaN  \n",
       "33                                                NaN  \n",
       "34  0 981 795 863 636 703 1010 959 980 633 677 779...  \n",
       "35                                                NaN  \n",
       "36                                                NaN  \n",
       "37                                                NaN  "
      ]
     },
     "execution_count": 7,
     "metadata": {},
     "output_type": "execute_result"
    }
   ],
   "source": [
    "user3_th.iloc[20:40]"
   ]
  },
  {
   "cell_type": "code",
   "execution_count": 2,
   "id": "f59319d6",
   "metadata": {},
   "outputs": [
    {
     "ename": "NameError",
     "evalue": "name 'user3_th' is not defined",
     "output_type": "error",
     "traceback": [
      "\u001b[0;31m---------------------------------------------------------------------------\u001b[0m",
      "\u001b[0;31mNameError\u001b[0m                                 Traceback (most recent call last)",
      "Cell \u001b[0;32mIn[2], line 1\u001b[0m\n\u001b[0;32m----> 1\u001b[0m \u001b[43muser3_th\u001b[49m[\u001b[38;5;124m'\u001b[39m\u001b[38;5;124mvecvalue\u001b[39m\u001b[38;5;124m'\u001b[39m]\n",
      "\u001b[0;31mNameError\u001b[0m: name 'user3_th' is not defined"
     ]
    }
   ],
   "source": [
    "user3_th['vecvalue']"
   ]
  },
  {
   "cell_type": "code",
   "execution_count": 3,
   "id": "c94e5843",
   "metadata": {},
   "outputs": [
    {
     "ename": "NameError",
     "evalue": "name 'user3_th' is not defined",
     "output_type": "error",
     "traceback": [
      "\u001b[0;31m---------------------------------------------------------------------------\u001b[0m",
      "\u001b[0;31mNameError\u001b[0m                                 Traceback (most recent call last)",
      "Cell \u001b[0;32mIn[3], line 1\u001b[0m\n\u001b[0;32m----> 1\u001b[0m \u001b[43muser3_th\u001b[49m[\u001b[38;5;124m'\u001b[39m\u001b[38;5;124mattrname\u001b[39m\u001b[38;5;124m'\u001b[39m]\n",
      "\u001b[0;31mNameError\u001b[0m: name 'user3_th' is not defined"
     ]
    }
   ],
   "source": [
    "user3_th['attrname']"
   ]
  },
  {
   "cell_type": "code",
   "execution_count": 4,
   "id": "c6e40bf6",
   "metadata": {},
   "outputs": [
    {
     "ename": "NameError",
     "evalue": "name 'pd' is not defined",
     "output_type": "error",
     "traceback": [
      "\u001b[0;31m---------------------------------------------------------------------------\u001b[0m",
      "\u001b[0;31mNameError\u001b[0m                                 Traceback (most recent call last)",
      "Cell \u001b[0;32mIn[4], line 1\u001b[0m\n\u001b[0;32m----> 1\u001b[0m user3_th \u001b[38;5;241m=\u001b[39m \u001b[43mpd\u001b[49m\u001b[38;5;241m.\u001b[39mread_csv(\u001b[38;5;124m\"\u001b[39m\u001b[38;5;124muser3_th.csv\u001b[39m\u001b[38;5;124m\"\u001b[39m)\n",
      "\u001b[0;31mNameError\u001b[0m: name 'pd' is not defined"
     ]
    }
   ],
   "source": [
    "user3_th = pd.read_csv(\"user3_th.csv\")"
   ]
  },
  {
   "cell_type": "code",
   "execution_count": 5,
   "id": "901d1104",
   "metadata": {},
   "outputs": [],
   "source": [
    "import pandas as pd\n",
    "import numpy as np\n",
    "import matplotlib.pyplot as plt\n",
    "%matplotlib inline\n"
   ]
  },
  {
   "cell_type": "code",
   "execution_count": 6,
   "id": "558de6c2",
   "metadata": {},
   "outputs": [],
   "source": [
    "user3_th = pd.read_csv(\"user3_th.csv\")"
   ]
  },
  {
   "cell_type": "code",
   "execution_count": 7,
   "id": "70b951fe",
   "metadata": {},
   "outputs": [
    {
     "data": {
      "text/plain": [
       "0                                                   NaN\n",
       "1                                                   NaN\n",
       "2                                                   NaN\n",
       "3                                                   NaN\n",
       "4                                                   NaN\n",
       "5                                                   NaN\n",
       "6                                                   NaN\n",
       "7                                                   NaN\n",
       "8                                                   NaN\n",
       "9                                                   NaN\n",
       "10                                                  NaN\n",
       "11                                                  NaN\n",
       "12                                                  NaN\n",
       "13                                                  NaN\n",
       "14                                                  NaN\n",
       "15                                                  NaN\n",
       "16                                                  NaN\n",
       "17                                                  NaN\n",
       "18                                                  NaN\n",
       "19                                                  NaN\n",
       "20                                                  NaN\n",
       "21                                                  NaN\n",
       "22                                                  NaN\n",
       "23                                                  NaN\n",
       "24                                                  NaN\n",
       "25                                                  NaN\n",
       "26                                                  NaN\n",
       "27                                                  NaN\n",
       "28                                                  NaN\n",
       "29                                                  NaN\n",
       "30                                                  NaN\n",
       "31                                                  NaN\n",
       "32                                                  NaN\n",
       "33                                                  NaN\n",
       "34    0 981 795 863 636 703 1010 959 980 633 677 779...\n",
       "35                                                  NaN\n",
       "36                                                  NaN\n",
       "37                                                  NaN\n",
       "Name: vecvalue, dtype: object"
      ]
     },
     "execution_count": 7,
     "metadata": {},
     "output_type": "execute_result"
    }
   ],
   "source": [
    "user3_th['vecvalue']"
   ]
  },
  {
   "cell_type": "code",
   "execution_count": 8,
   "id": "405318ed",
   "metadata": {},
   "outputs": [],
   "source": [
    "col = user3_th['vecvalue']"
   ]
  },
  {
   "cell_type": "code",
   "execution_count": 9,
   "id": "6acfc9ea",
   "metadata": {},
   "outputs": [
    {
     "ename": "TypeError",
     "evalue": "'>=' not supported between instances of 'float' and 'str'",
     "output_type": "error",
     "traceback": [
      "\u001b[0;31m---------------------------------------------------------------------------\u001b[0m",
      "\u001b[0;31mTypeError\u001b[0m                                 Traceback (most recent call last)",
      "Cell \u001b[0;32mIn[9], line 1\u001b[0m\n\u001b[0;32m----> 1\u001b[0m \u001b[43mcol\u001b[49m\u001b[38;5;241;43m.\u001b[39;49m\u001b[43mmax\u001b[49m\u001b[43m(\u001b[49m\u001b[43m)\u001b[49m\n",
      "File \u001b[0;32m/usr/local/lib/python3.10/site-packages/pandas/core/generic.py:11941\u001b[0m, in \u001b[0;36mNDFrame._add_numeric_operations.<locals>.max\u001b[0;34m(self, axis, skipna, level, numeric_only, **kwargs)\u001b[0m\n\u001b[1;32m  11921\u001b[0m \u001b[38;5;129m@doc\u001b[39m(\n\u001b[1;32m  11922\u001b[0m     _num_doc,\n\u001b[1;32m  11923\u001b[0m     desc\u001b[38;5;241m=\u001b[39m\u001b[38;5;124m\"\u001b[39m\u001b[38;5;124mReturn the maximum of the values over the requested axis.\u001b[39m\u001b[38;5;130;01m\\n\u001b[39;00m\u001b[38;5;130;01m\\n\u001b[39;00m\u001b[38;5;124m\"\u001b[39m\n\u001b[0;32m   (...)\u001b[0m\n\u001b[1;32m  11939\u001b[0m     \u001b[38;5;241m*\u001b[39m\u001b[38;5;241m*\u001b[39mkwargs,\n\u001b[1;32m  11940\u001b[0m ):\n\u001b[0;32m> 11941\u001b[0m     \u001b[38;5;28;01mreturn\u001b[39;00m \u001b[43mNDFrame\u001b[49m\u001b[38;5;241;43m.\u001b[39;49m\u001b[43mmax\u001b[49m\u001b[43m(\u001b[49m\u001b[38;5;28;43mself\u001b[39;49m\u001b[43m,\u001b[49m\u001b[43m \u001b[49m\u001b[43maxis\u001b[49m\u001b[43m,\u001b[49m\u001b[43m \u001b[49m\u001b[43mskipna\u001b[49m\u001b[43m,\u001b[49m\u001b[43m \u001b[49m\u001b[43mlevel\u001b[49m\u001b[43m,\u001b[49m\u001b[43m \u001b[49m\u001b[43mnumeric_only\u001b[49m\u001b[43m,\u001b[49m\u001b[43m \u001b[49m\u001b[38;5;241;43m*\u001b[39;49m\u001b[38;5;241;43m*\u001b[39;49m\u001b[43mkwargs\u001b[49m\u001b[43m)\u001b[49m\n",
      "File \u001b[0;32m/usr/local/lib/python3.10/site-packages/pandas/core/generic.py:11383\u001b[0m, in \u001b[0;36mNDFrame.max\u001b[0;34m(self, axis, skipna, level, numeric_only, **kwargs)\u001b[0m\n\u001b[1;32m  11375\u001b[0m \u001b[38;5;28;01mdef\u001b[39;00m \u001b[38;5;21mmax\u001b[39m(\n\u001b[1;32m  11376\u001b[0m     \u001b[38;5;28mself\u001b[39m,\n\u001b[1;32m  11377\u001b[0m     axis: Axis \u001b[38;5;241m|\u001b[39m \u001b[38;5;28;01mNone\u001b[39;00m \u001b[38;5;241m|\u001b[39m lib\u001b[38;5;241m.\u001b[39mNoDefault \u001b[38;5;241m=\u001b[39m lib\u001b[38;5;241m.\u001b[39mno_default,\n\u001b[0;32m   (...)\u001b[0m\n\u001b[1;32m  11381\u001b[0m     \u001b[38;5;241m*\u001b[39m\u001b[38;5;241m*\u001b[39mkwargs,\n\u001b[1;32m  11382\u001b[0m ):\n\u001b[0;32m> 11383\u001b[0m     \u001b[38;5;28;01mreturn\u001b[39;00m \u001b[38;5;28;43mself\u001b[39;49m\u001b[38;5;241;43m.\u001b[39;49m\u001b[43m_stat_function\u001b[49m\u001b[43m(\u001b[49m\n\u001b[1;32m  11384\u001b[0m \u001b[43m        \u001b[49m\u001b[38;5;124;43m\"\u001b[39;49m\u001b[38;5;124;43mmax\u001b[39;49m\u001b[38;5;124;43m\"\u001b[39;49m\u001b[43m,\u001b[49m\n\u001b[1;32m  11385\u001b[0m \u001b[43m        \u001b[49m\u001b[43mnanops\u001b[49m\u001b[38;5;241;43m.\u001b[39;49m\u001b[43mnanmax\u001b[49m\u001b[43m,\u001b[49m\n\u001b[1;32m  11386\u001b[0m \u001b[43m        \u001b[49m\u001b[43maxis\u001b[49m\u001b[43m,\u001b[49m\n\u001b[1;32m  11387\u001b[0m \u001b[43m        \u001b[49m\u001b[43mskipna\u001b[49m\u001b[43m,\u001b[49m\n\u001b[1;32m  11388\u001b[0m \u001b[43m        \u001b[49m\u001b[43mlevel\u001b[49m\u001b[43m,\u001b[49m\n\u001b[1;32m  11389\u001b[0m \u001b[43m        \u001b[49m\u001b[43mnumeric_only\u001b[49m\u001b[43m,\u001b[49m\n\u001b[1;32m  11390\u001b[0m \u001b[43m        \u001b[49m\u001b[38;5;241;43m*\u001b[39;49m\u001b[38;5;241;43m*\u001b[39;49m\u001b[43mkwargs\u001b[49m\u001b[43m,\u001b[49m\n\u001b[1;32m  11391\u001b[0m \u001b[43m    \u001b[49m\u001b[43m)\u001b[49m\n",
      "File \u001b[0;32m/usr/local/lib/python3.10/site-packages/pandas/core/generic.py:11353\u001b[0m, in \u001b[0;36mNDFrame._stat_function\u001b[0;34m(self, name, func, axis, skipna, level, numeric_only, **kwargs)\u001b[0m\n\u001b[1;32m  11343\u001b[0m     warnings\u001b[38;5;241m.\u001b[39mwarn(\n\u001b[1;32m  11344\u001b[0m         \u001b[38;5;124m\"\u001b[39m\u001b[38;5;124mUsing the level keyword in DataFrame and Series aggregations is \u001b[39m\u001b[38;5;124m\"\u001b[39m\n\u001b[1;32m  11345\u001b[0m         \u001b[38;5;124m\"\u001b[39m\u001b[38;5;124mdeprecated and will be removed in a future version. Use groupby \u001b[39m\u001b[38;5;124m\"\u001b[39m\n\u001b[0;32m   (...)\u001b[0m\n\u001b[1;32m  11348\u001b[0m         stacklevel\u001b[38;5;241m=\u001b[39mfind_stack_level(),\n\u001b[1;32m  11349\u001b[0m     )\n\u001b[1;32m  11350\u001b[0m     \u001b[38;5;28;01mreturn\u001b[39;00m \u001b[38;5;28mself\u001b[39m\u001b[38;5;241m.\u001b[39m_agg_by_level(\n\u001b[1;32m  11351\u001b[0m         name, axis\u001b[38;5;241m=\u001b[39maxis, level\u001b[38;5;241m=\u001b[39mlevel, skipna\u001b[38;5;241m=\u001b[39mskipna, numeric_only\u001b[38;5;241m=\u001b[39mnumeric_only\n\u001b[1;32m  11352\u001b[0m     )\n\u001b[0;32m> 11353\u001b[0m \u001b[38;5;28;01mreturn\u001b[39;00m \u001b[38;5;28;43mself\u001b[39;49m\u001b[38;5;241;43m.\u001b[39;49m\u001b[43m_reduce\u001b[49m\u001b[43m(\u001b[49m\n\u001b[1;32m  11354\u001b[0m \u001b[43m    \u001b[49m\u001b[43mfunc\u001b[49m\u001b[43m,\u001b[49m\u001b[43m \u001b[49m\u001b[43mname\u001b[49m\u001b[38;5;241;43m=\u001b[39;49m\u001b[43mname\u001b[49m\u001b[43m,\u001b[49m\u001b[43m \u001b[49m\u001b[43maxis\u001b[49m\u001b[38;5;241;43m=\u001b[39;49m\u001b[43maxis\u001b[49m\u001b[43m,\u001b[49m\u001b[43m \u001b[49m\u001b[43mskipna\u001b[49m\u001b[38;5;241;43m=\u001b[39;49m\u001b[43mskipna\u001b[49m\u001b[43m,\u001b[49m\u001b[43m \u001b[49m\u001b[43mnumeric_only\u001b[49m\u001b[38;5;241;43m=\u001b[39;49m\u001b[43mnumeric_only\u001b[49m\n\u001b[1;32m  11355\u001b[0m \u001b[43m\u001b[49m\u001b[43m)\u001b[49m\n",
      "File \u001b[0;32m/usr/local/lib/python3.10/site-packages/pandas/core/series.py:4816\u001b[0m, in \u001b[0;36mSeries._reduce\u001b[0;34m(self, op, name, axis, skipna, numeric_only, filter_type, **kwds)\u001b[0m\n\u001b[1;32m   4812\u001b[0m     \u001b[38;5;28;01mraise\u001b[39;00m \u001b[38;5;167;01mNotImplementedError\u001b[39;00m(\n\u001b[1;32m   4813\u001b[0m         \u001b[38;5;124mf\u001b[39m\u001b[38;5;124m\"\u001b[39m\u001b[38;5;124mSeries.\u001b[39m\u001b[38;5;132;01m{\u001b[39;00mname\u001b[38;5;132;01m}\u001b[39;00m\u001b[38;5;124m does not implement \u001b[39m\u001b[38;5;132;01m{\u001b[39;00mkwd_name\u001b[38;5;132;01m}\u001b[39;00m\u001b[38;5;124m.\u001b[39m\u001b[38;5;124m\"\u001b[39m\n\u001b[1;32m   4814\u001b[0m     )\n\u001b[1;32m   4815\u001b[0m \u001b[38;5;28;01mwith\u001b[39;00m np\u001b[38;5;241m.\u001b[39merrstate(\u001b[38;5;28mall\u001b[39m\u001b[38;5;241m=\u001b[39m\u001b[38;5;124m\"\u001b[39m\u001b[38;5;124mignore\u001b[39m\u001b[38;5;124m\"\u001b[39m):\n\u001b[0;32m-> 4816\u001b[0m     \u001b[38;5;28;01mreturn\u001b[39;00m \u001b[43mop\u001b[49m\u001b[43m(\u001b[49m\u001b[43mdelegate\u001b[49m\u001b[43m,\u001b[49m\u001b[43m \u001b[49m\u001b[43mskipna\u001b[49m\u001b[38;5;241;43m=\u001b[39;49m\u001b[43mskipna\u001b[49m\u001b[43m,\u001b[49m\u001b[43m \u001b[49m\u001b[38;5;241;43m*\u001b[39;49m\u001b[38;5;241;43m*\u001b[39;49m\u001b[43mkwds\u001b[49m\u001b[43m)\u001b[49m\n",
      "File \u001b[0;32m/usr/local/lib/python3.10/site-packages/pandas/core/nanops.py:155\u001b[0m, in \u001b[0;36mbottleneck_switch.__call__.<locals>.f\u001b[0;34m(values, axis, skipna, **kwds)\u001b[0m\n\u001b[1;32m    153\u001b[0m         result \u001b[38;5;241m=\u001b[39m alt(values, axis\u001b[38;5;241m=\u001b[39maxis, skipna\u001b[38;5;241m=\u001b[39mskipna, \u001b[38;5;241m*\u001b[39m\u001b[38;5;241m*\u001b[39mkwds)\n\u001b[1;32m    154\u001b[0m \u001b[38;5;28;01melse\u001b[39;00m:\n\u001b[0;32m--> 155\u001b[0m     result \u001b[38;5;241m=\u001b[39m \u001b[43malt\u001b[49m\u001b[43m(\u001b[49m\u001b[43mvalues\u001b[49m\u001b[43m,\u001b[49m\u001b[43m \u001b[49m\u001b[43maxis\u001b[49m\u001b[38;5;241;43m=\u001b[39;49m\u001b[43maxis\u001b[49m\u001b[43m,\u001b[49m\u001b[43m \u001b[49m\u001b[43mskipna\u001b[49m\u001b[38;5;241;43m=\u001b[39;49m\u001b[43mskipna\u001b[49m\u001b[43m,\u001b[49m\u001b[43m \u001b[49m\u001b[38;5;241;43m*\u001b[39;49m\u001b[38;5;241;43m*\u001b[39;49m\u001b[43mkwds\u001b[49m\u001b[43m)\u001b[49m\n\u001b[1;32m    157\u001b[0m \u001b[38;5;28;01mreturn\u001b[39;00m result\n",
      "File \u001b[0;32m/usr/local/lib/python3.10/site-packages/pandas/core/nanops.py:418\u001b[0m, in \u001b[0;36m_datetimelike_compat.<locals>.new_func\u001b[0;34m(values, axis, skipna, mask, **kwargs)\u001b[0m\n\u001b[1;32m    415\u001b[0m \u001b[38;5;28;01mif\u001b[39;00m datetimelike \u001b[38;5;129;01mand\u001b[39;00m mask \u001b[38;5;129;01mis\u001b[39;00m \u001b[38;5;28;01mNone\u001b[39;00m:\n\u001b[1;32m    416\u001b[0m     mask \u001b[38;5;241m=\u001b[39m isna(values)\n\u001b[0;32m--> 418\u001b[0m result \u001b[38;5;241m=\u001b[39m \u001b[43mfunc\u001b[49m\u001b[43m(\u001b[49m\u001b[43mvalues\u001b[49m\u001b[43m,\u001b[49m\u001b[43m \u001b[49m\u001b[43maxis\u001b[49m\u001b[38;5;241;43m=\u001b[39;49m\u001b[43maxis\u001b[49m\u001b[43m,\u001b[49m\u001b[43m \u001b[49m\u001b[43mskipna\u001b[49m\u001b[38;5;241;43m=\u001b[39;49m\u001b[43mskipna\u001b[49m\u001b[43m,\u001b[49m\u001b[43m \u001b[49m\u001b[43mmask\u001b[49m\u001b[38;5;241;43m=\u001b[39;49m\u001b[43mmask\u001b[49m\u001b[43m,\u001b[49m\u001b[43m \u001b[49m\u001b[38;5;241;43m*\u001b[39;49m\u001b[38;5;241;43m*\u001b[39;49m\u001b[43mkwargs\u001b[49m\u001b[43m)\u001b[49m\n\u001b[1;32m    420\u001b[0m \u001b[38;5;28;01mif\u001b[39;00m datetimelike:\n\u001b[1;32m    421\u001b[0m     result \u001b[38;5;241m=\u001b[39m _wrap_results(result, orig_values\u001b[38;5;241m.\u001b[39mdtype, fill_value\u001b[38;5;241m=\u001b[39miNaT)\n",
      "File \u001b[0;32m/usr/local/lib/python3.10/site-packages/pandas/core/nanops.py:1051\u001b[0m, in \u001b[0;36m_nanminmax.<locals>.reduction\u001b[0;34m(values, axis, skipna, mask)\u001b[0m\n\u001b[1;32m   1049\u001b[0m         result \u001b[38;5;241m=\u001b[39m np\u001b[38;5;241m.\u001b[39mnan\n\u001b[1;32m   1050\u001b[0m \u001b[38;5;28;01melse\u001b[39;00m:\n\u001b[0;32m-> 1051\u001b[0m     result \u001b[38;5;241m=\u001b[39m \u001b[38;5;28;43mgetattr\u001b[39;49m\u001b[43m(\u001b[49m\u001b[43mvalues\u001b[49m\u001b[43m,\u001b[49m\u001b[43m \u001b[49m\u001b[43mmeth\u001b[49m\u001b[43m)\u001b[49m\u001b[43m(\u001b[49m\u001b[43maxis\u001b[49m\u001b[43m)\u001b[49m\n\u001b[1;32m   1053\u001b[0m result \u001b[38;5;241m=\u001b[39m _maybe_null_out(result, axis, mask, values\u001b[38;5;241m.\u001b[39mshape)\n\u001b[1;32m   1054\u001b[0m \u001b[38;5;28;01mreturn\u001b[39;00m result\n",
      "File \u001b[0;32m/usr/local/lib/python3.10/site-packages/numpy/core/_methods.py:40\u001b[0m, in \u001b[0;36m_amax\u001b[0;34m(a, axis, out, keepdims, initial, where)\u001b[0m\n\u001b[1;32m     38\u001b[0m \u001b[38;5;28;01mdef\u001b[39;00m \u001b[38;5;21m_amax\u001b[39m(a, axis\u001b[38;5;241m=\u001b[39m\u001b[38;5;28;01mNone\u001b[39;00m, out\u001b[38;5;241m=\u001b[39m\u001b[38;5;28;01mNone\u001b[39;00m, keepdims\u001b[38;5;241m=\u001b[39m\u001b[38;5;28;01mFalse\u001b[39;00m,\n\u001b[1;32m     39\u001b[0m           initial\u001b[38;5;241m=\u001b[39m_NoValue, where\u001b[38;5;241m=\u001b[39m\u001b[38;5;28;01mTrue\u001b[39;00m):\n\u001b[0;32m---> 40\u001b[0m     \u001b[38;5;28;01mreturn\u001b[39;00m \u001b[43mumr_maximum\u001b[49m\u001b[43m(\u001b[49m\u001b[43ma\u001b[49m\u001b[43m,\u001b[49m\u001b[43m \u001b[49m\u001b[43maxis\u001b[49m\u001b[43m,\u001b[49m\u001b[43m \u001b[49m\u001b[38;5;28;43;01mNone\u001b[39;49;00m\u001b[43m,\u001b[49m\u001b[43m \u001b[49m\u001b[43mout\u001b[49m\u001b[43m,\u001b[49m\u001b[43m \u001b[49m\u001b[43mkeepdims\u001b[49m\u001b[43m,\u001b[49m\u001b[43m \u001b[49m\u001b[43minitial\u001b[49m\u001b[43m,\u001b[49m\u001b[43m \u001b[49m\u001b[43mwhere\u001b[49m\u001b[43m)\u001b[49m\n",
      "\u001b[0;31mTypeError\u001b[0m: '>=' not supported between instances of 'float' and 'str'"
     ]
    }
   ],
   "source": [
    "col.max()"
   ]
  },
  {
   "cell_type": "code",
   "execution_count": 10,
   "id": "36dc7332",
   "metadata": {},
   "outputs": [
    {
     "data": {
      "text/plain": [
       "33                                                  NaN\n",
       "34    0 981 795 863 636 703 1010 959 980 633 677 779...\n",
       "35                                                  NaN\n",
       "36                                                  NaN\n",
       "37                                                  NaN\n",
       "Name: vecvalue, dtype: object"
      ]
     },
     "execution_count": 10,
     "metadata": {},
     "output_type": "execute_result"
    }
   ],
   "source": [
    "col.tail()"
   ]
  },
  {
   "cell_type": "code",
   "execution_count": 11,
   "id": "3a404b86",
   "metadata": {},
   "outputs": [
    {
     "ename": "AttributeError",
     "evalue": "'str' object has no attribute 'tail'",
     "output_type": "error",
     "traceback": [
      "\u001b[0;31m---------------------------------------------------------------------------\u001b[0m",
      "\u001b[0;31mAttributeError\u001b[0m                            Traceback (most recent call last)",
      "Cell \u001b[0;32mIn[11], line 1\u001b[0m\n\u001b[0;32m----> 1\u001b[0m \u001b[43mcol\u001b[49m\u001b[43m[\u001b[49m\u001b[38;5;241;43m34\u001b[39;49m\u001b[43m]\u001b[49m\u001b[38;5;241;43m.\u001b[39;49m\u001b[43mtail\u001b[49m()\n",
      "\u001b[0;31mAttributeError\u001b[0m: 'str' object has no attribute 'tail'"
     ]
    }
   ],
   "source": [
    "col[34].tail()"
   ]
  },
  {
   "cell_type": "code",
   "execution_count": 12,
   "id": "ac7f2c2c",
   "metadata": {},
   "outputs": [
    {
     "data": {
      "text/plain": [
       "'0 981 795 863 636 703 1010 959 980 633 677 779 858 946 638 875 304 1008 847 600 659 682 691 972 543 690 620 768 787 939 854 595 606 620 695 682 606 894 736 547 853 791 936 780 687 796 866 794 1022 626 777 637 606 683 515 680 792 766 796 418 685 792 668 701 626 795 871 1035 547 799 710 523 710 848 597 504 795 944 458 753 635 758 700 714 797 1118 845 788 440 584 757 672 424 850 693 638 834 551 869 849 680 466 939 796 957 632 790 683 938 620 769 708 772 683 649 710 707 747 757 776 767 638 875 547 628 1099 298 932 866 949 632 780 579 714 907 850 595 955 845 792 634 656 690 639 670 948 834 468 496 620 679 676 1031 466 955 843 720 926 774 634 683 929 945 764 519 685 834 790 629 1016 315 869 627 705 606 697 797 908 760 956 696 880 720 847 863 686 875 839 704 457 627 850 866 710 790 750 607 777 693 869 475 790 784 602 938 446 1009 854 472 1089 438 670 745 626 455 843 911 472 943 586 875 696 775 666 710 779 701 1199 538 626 877 955 364 715 876 701 707 1016 800 599 627 918 813 533 472 767 944 664 601 658 787 787 756 692 637 842 864 639 621 949 703 466 844 780 697 878 400 920 829 695 720 866 559 687 869 779 638 526 771 558 960 719 129 709 683 769 936 1160 454 471 519 784 626 560 942 660 839 958 695 938 719 905 548 877 679 713 957 583 684 626 718 875 847 764 518 848 1069 441 685 792 480 717 675 595 538 514 876 667 691 921 436 749 997 869 456 945 764 855 574 765 843 960 762 877 621 543 716 609 712 873 664 987 682 683 550 605 774 716 1061 863 533 536 708 607 788 1037 946 871 536 715 667 550 869 625 621 598 784 757 635 917 399 943 799 594 692 864 797 795 638 919 592 605 761 590 945 471 588 521 770 602 1113 348 795 702 673 710 750 797 1027 467 681 605 786 391 951 606 669 879 1021 602 775 436 1010 670 1026 777 693 858 678 779 676 490 752 703 1100 545 676 665 701 794 551 775 693 364 771 877 1035 625 775 546 624 879 864 516 950 698 611 620 958 793 763 677 720 606 705 794 702 921 960 475 777 688 549 867 692 521 816 959 868 694 720 632 670 679 782 547 833 690 557 602 851 546 852 394 603 679 691 547 782 558 738 874 751 688 960 473 706 768 549 453 953 477 613 540 606 786 1055 546 841 514 837 839 699 874 450 549 707 935 769 617 1037 843 930 587 791 500 1029 716 766 681 848 523 875 773 540 660 789 589 828 548 1003 601 685 790 826 842 539 794 581 633 669 797 978 464 719 1005 634 381 926 614 872 696 876 874 479 453 711 706 560 774 848 436 753 1081 375 505 877 603 636 867 465 714 516 695 717 835 820 613 844 715 1109 508 713 1021 510 788 676 689 571 792 821 762 796 491 750 758 629 703 793 555 637 781 760 830 578 662 618 672 947 474 593 619 621 767 594 675 830 715 608 854 559 933 586 545 793 832 474 779 799 560 945 778 781 696 860 537 762 859 595 598 684 959 389 907 337 846 767 469 1032 795 623 847 369 799 758 689 687 627 660 793 789 557 539 704 714 852 670 593 871 984 689 823 625 844 714 839 880 612 515 900 1089 525 770 548 1068 240 615 1039 770 689 664 1037 372 797 894 777 743 547 692 870 697 833 631 858 549 786 684 610 510 799 954 719 691 540 705 938 781 556 995 638 297 880 549 716 788 847 793 599 737 713 629 671 799 742 928 625 848 518 861 479 749 787 666 869 671 856 556 789 716 782 865 751 855 631 445 771 716 754 793 541 598 734 860 611 289 854 797 777 708 782 631 691 753 820 779 520 626 878 742 683 560 829 700 664 782 622 847 758 656 862 612 754 927 711 933 906 799 1185 462 438 630 899 520 926 594 682 391 855 600 791 983 923 560 767 630 639 695 499 443 773 777 539 696 957 519 720 588 631 687 934 787 455 1002 768 543 708 942 475 588 588 700 769 693 784 850 452 851 677 744 594 857 864 714 866 872 944 443 540 590 592 792 715 735 626 934 867 787 780 832 669 688 606 704 860 753 711 773 960 785 812 622 868 637 822 694 480 549 601 879 786 770 951 871 857 717 903 739 525 853 670 620 720 1112 393 862 773 862 465 868 720 598 776 1021 775 382 595 517 931 927 708 697 718 736 618 632 958 624 687 742 697 580 691 732 282 838 680 679 705 837 705 958 520 682 621 947 630 830 533 606 557 678 795 910 576 923 796 653 731 793 762 983 538 880 717 1022 584 693 1037 479 717 863 720 693 675 703 632 839 714 631 845 589 500 1035 910 388 931 554 1029 548 1027 610 1180 689 470 696 490 603 832 690 536 705 823 774 786 911 867 551 866 655 764 922 947 773 524 937 431 876 636 1084 856 691 671 869 750 608 1096 866 464 1040 632 611 812 1023 378 635 1190 759 579 621 528 855 636 792 368 711 639 741 450 1113 354 543 863 797 866 605 757 1028 604 790 583 778 937 678 877 944 528 754 363 624 960 711 856 799 708 758 712 790 452 861 923 715 959 621 744 278 541 926 793 629 825 567 710 377 763 944 768 1199 433 764 709 696 781 590 991 370 947 397 873 592 592 459 712 1039 701 682 931 600 873 871 773 399 749 775 537 635 689 876 633 443 815 795 717 720 623 689 626 676 656 456 860 934 550 521 880 938 630 856 959 705 774 756 746 554 557 943 616 1025 880 498 559 867 796 792 781 794 991 781 545 623 720 855 768 854 849 457 869 594 557 1002 459 688 873 1028 686 1029 781 757 590 876 387 697 684 556 678 524 764 574 673 682 797 699 798 680 751 792 792 548 787 840 761 584 776 585 766 940 638 848 611 957 797 701 543 450 940 551 1082 797 854 799 864 707 623 939 599 959 782 452 700 552 798 956 536 878 915 557 905 926 546 783 554 688 955 617 956 706 838 774 655 690 839 1131 399 918 622 1189 782 477 841 452 1010 598 687 741 793 654 936 692 714 691 627 716 854 706 717 773 634 707 833 871 628 610 633 623 936 794 823 622 434 950 853 542 619 927 788 938 386 685 934 835 904 629 953 850 794 345 931 764 747 688 836 760 545 852 796 822 705 879 952 638 777 759 699 709 956 773 872 630 1200 855 515 607 854 586 706 783 1119 399 762 754 622 956 597 717 754 597 615 855 524 686 773 720 752 461 793 912 798 391 914 592 586 791 612 867 710 601 461 841 880 626 849 588 638 463 550 944 764 812 874 847 799 388 667 698 683 845 545 1156 787 681 766 996 474 870 753 440 717 676 1064 687 684 800 933 716 684 590 797 701 627 870 1280 552 865 611 854 463 789 776 637 670 777 655 757 632 598 753 931 639 379 730 528 936 556 750 870 711 784 713 1029 533 779 773 696 990 399 909 798 460 687 758 857 777 616 560 765 868 609 868 606 693 717 529 795 1011 720 455 872 608 473 661 878 635 821 385 1015 713 788 719 680 540 712 863 441 679 975 1053 757 633 849 928 788 820 710 584 880 719 715 874 829 468 790 848 614 674 1017 832 547 868 318 814 838 701 857 937 865 701 780 872 781 767 702 530 868 696 847 715 441 995 870 798 789 626 588 707 474 936 852 943 639 797 781 713 769 983 668 860 696 626 780 946 629 930 875 863 463 395 769 759 671 436 846 621 1000 390 1039 520 858 925 449 833 783 823 791 880 907 554 1016 444 865 640 866 767 691 476 959 1039 604 683 638 854 869 868 710 877 996 797 614 875 767 604 934 877 682 873 778 840 705 769 763 867 453 756 817 772 463 590 870 751 631 753 702 1030 621 468 769 611 384 501 620 597 856 701 926 365 478 792 368 706 753 713 455 1147 495 785 878 701 711 891 278 717 904 939 557 742 608 782 683 800 702 788 789 758 1022 717 720 686 500 631 850 715 769 591 609 864 705 697 742 375 640 665 598 1037 346 640 533 894 697 862 863 585 631 638 777 768 946 798 779 696 943 712 874 640 850 797 774 797 703 661 755 526 871 693 517 826 960 558 921 604 764 780 760 747 425 605 595 861 705 388 932 780 558 859 832 347 797 550 1034 871 392 690 374 676 797 940 599 716 858 626 672 627 787 544 674 683 601 796 606 1018 701 788 831 736 673 688 918 838 531 935 844 525 550 830 791 831 1005 761 697 635 1037 634 553 710 627 585 771 445 719 633 714 710 772 695 863 787 954 947 41 958 947 638 687 952 542 852 790 858 693 524 1094 994 923 792 835 786 794 871 540 1094 551 1037 424 749 628 791 688 797 763 672 944 455 874 704 862 943 607 629 633 788 1027 637 680 609 785 863 792 772 513 657 699 596 927 367 872 776 701 932 780 506 717 1012 545 612 527 1117 779 532 847 450 696 909 947 638 451 940 596 840 546 945 657 796 597 675 682 629 477 856 282 785 1112 544 556 461 791 616 1008 766 607 953 766 470 503 704 691 880 720 635 781 700 769 720 524 714 916 710 842 739 1106 414 473 755 755 828 832 866 473 760 689 904 827 719 589 760 537 775 610 913 880 784 712 999 928 706 557 959 784 521 630 702 696 797 1039 869 598 831 705 891 779 762 719 840 606 539 1028 714 1013 680 1145 433 834 707 597 638 761 683 880 660 714 942 790 764 863 839 546 880 776 699 662 615 616 1024 696 508 474 685 630 622 826 509 951 697 657 707 789 616 583 540 761 595 639 838 847 800 550 684 523 548 681 782 871 1088 359 693 714 357 872 600 859 788 479 782 783 712 844 693 712 711 879 932 505 675 640 388 756 531 1113 557 709 632 853 523 863 799 352 797 847 543 928 1106 639 620 737 776 637 626 861 556 681 615 940 475 794 665 670 796 595 799 466 698 1085 553 822 879 462 940 708 744 616 497 749 463 766 959 781 787 797 546 555 866 589 790 658 941 623 694 800 701 876 393 985 709 699 912 628 629 600 874 348 745 633 720 779 510 792 747 663 1110 715 692 552 826 696 1015 541 780 516 550 536 683 879 906 637 852 880 864 799 635 857 790 469 734 633 700 800 781 687 748 953 655 766 859 551 841 693 763 940 652 749 465 679 303 815 617 621 742 718 673 846 697 1010 535 768 900 534 613 784 695 681 953 863 714 875 606 781 850 863 501 596 790 467 637 540 615 384 855 820 677 704 678 590 704 1032 532 540 752 756 786 632 454 1082 390 836 451 633 874 696 636 464 799 762 549 500 798 835 593 583 688 870 593 700 880 535 678 877 777 677 809 546 951 449 774 780 540 927 816 778 733 595 638 767 958 586 587 797 800 523 929 778 703 528 583 849 768 779 613 702 796 959 471 944 455 765 460 612 873 716 688 690 634 763 994 384 959 474 832 690 623 545 749 933 464 757 711 691 425 776 704 470 685 694 623 780 612 591 800 825 764 447 713 955 526 626 699 791 632 770 268 752 1193 395 705 764 951 362 684 867 617 871 624 581 911 499 762 597 705 734 715 685 683 632 774 543 499 1012 706 856 583 993 611 792 786 719 626 1174 615 707 689 717 715 960 512 915 766 709 756 629 1028 300 836 713 377 907 449 857 620 946 447 868 782 629 443 955 777 456 764 676 621 791 918 766 678 661 937 505 872 455 677 782 737 680 785 497 717 848 719 511 706 1011 773 598 717 520 700 913 809 798 356 691 435 769 832 558 661 1034 695 782 945 523 794 793 841 634 1117 604 694 773 616 640 936 787 616 610 577 777 543 630 930 631 781 579 575 615 771 635 782 518 951 957 639 915 398 1113 108 1033 928 698 607 505 620 846 602 704 789 558 864 941 499 698 854 548 1107 836 711 1040 528 763 955 713 858 877 776 556 681 622 612 716 626 794 603 713 610 522 931 615 756 640 636 617 632 829 714 589 864 994 600 942 474 622 837 629 840 943 774 464 909 686 533 509 544 798 661 799 799 687 710 460 779 714 715 910 720 959 839 713 594 794 463 606 732 583 762 850 710 823 640 669 697 611 768 638 682 947 797 708 634 955 631 788 778 636 845 663 461 1106 757 390 763 701 878 690 948 625 847 528 531 792 705 798 944 572 610 1019 785 320 932 768 713 906 583 691 718 703 769 718 837 670 607 542 867 816 773 848 929 635 600 587 931 699 772 528 739 501 772 948 467 449 552 865 638 852 713 497 715 939 303 767 477 952 369 513 495 820 556 800 592 594 823 870 551 597 545 716 714 919 762 517 951 436 638 617 775 1105 692 507 894 695 680 1027 907 539 1001 982 541 686 519 774 796 779 743 637 934 625 619 852 864 877 440 831 859 760 688 688 745 866 542 793 788 821 717 663 794 543 717 622 792 864 786 505 778 1010 545 788 670 819 399 781 618 948 526 786 780 788 664 680 665 557 773 785 959 436 951 612 449 790 911 518 510 693 785 707 791 688 694 764 832 712 479 849 1039 529 520 795 634 637 1003 878 682 705 939 720 748 748 1114 505 715 761 776 695 627 844 771 843 617 948 953 458 874 784 909 818 868 945 858 474 716 600 780 705 798 611 632 953 745 512 634 713 713 590 853 635 1040 698 830 626 375 768 687 690 958 778 602 611 1099 708 543 513 837 612 761 875 386 745 769 717 545 1030 743 477 720 933 553 868 711 587 790 866 787 783 709 755 778 607 790 615 878 608 636 536 618 880 779 605 741 717 863 949 595 618 870 715 791 844 783 534 735 710 857 788 798 858 462 663 717 925 520 1184 277 696 637 877 469 400 949 705 880 607 554 1188 763 759 700 899 632 938 625 958 625 744 868 718 836 758 756 770 545 815 539 799 583 852 587 609 951 555 880 842 694 546 864 938 842 697 770 553 719 718 768 543 1111 622 757 714 731 1027 699 788 448 551 907 989 635 636 777 547 812 857 602 774 636 792 842 686 867 796 855 771 791 719 1036 558 954 509 615'"
      ]
     },
     "execution_count": 12,
     "metadata": {},
     "output_type": "execute_result"
    }
   ],
   "source": [
    "col[34]"
   ]
  },
  {
   "cell_type": "code",
   "execution_count": 13,
   "id": "d9b3266e",
   "metadata": {},
   "outputs": [
    {
     "ename": "AttributeError",
     "evalue": "'str' object has no attribute 'describ'",
     "output_type": "error",
     "traceback": [
      "\u001b[0;31m---------------------------------------------------------------------------\u001b[0m",
      "\u001b[0;31mAttributeError\u001b[0m                            Traceback (most recent call last)",
      "Cell \u001b[0;32mIn[13], line 1\u001b[0m\n\u001b[0;32m----> 1\u001b[0m \u001b[43mcol\u001b[49m\u001b[43m[\u001b[49m\u001b[38;5;241;43m34\u001b[39;49m\u001b[43m]\u001b[49m\u001b[38;5;241;43m.\u001b[39;49m\u001b[43mdescrib\u001b[49m\n",
      "\u001b[0;31mAttributeError\u001b[0m: 'str' object has no attribute 'describ'"
     ]
    }
   ],
   "source": [
    "col[34].describ"
   ]
  },
  {
   "cell_type": "code",
   "execution_count": 14,
   "id": "2957cb40",
   "metadata": {},
   "outputs": [
    {
     "ename": "AttributeError",
     "evalue": "'str' object has no attribute 'describe'",
     "output_type": "error",
     "traceback": [
      "\u001b[0;31m---------------------------------------------------------------------------\u001b[0m",
      "\u001b[0;31mAttributeError\u001b[0m                            Traceback (most recent call last)",
      "Cell \u001b[0;32mIn[14], line 1\u001b[0m\n\u001b[0;32m----> 1\u001b[0m \u001b[43mcol\u001b[49m\u001b[43m[\u001b[49m\u001b[38;5;241;43m34\u001b[39;49m\u001b[43m]\u001b[49m\u001b[38;5;241;43m.\u001b[39;49m\u001b[43mdescribe\u001b[49m\n",
      "\u001b[0;31mAttributeError\u001b[0m: 'str' object has no attribute 'describe'"
     ]
    }
   ],
   "source": [
    "col[34].describe"
   ]
  },
  {
   "cell_type": "code",
   "execution_count": 15,
   "id": "d4f6af4a",
   "metadata": {},
   "outputs": [
    {
     "ename": "AttributeError",
     "evalue": "'str' object has no attribute 'describe'",
     "output_type": "error",
     "traceback": [
      "\u001b[0;31m---------------------------------------------------------------------------\u001b[0m",
      "\u001b[0;31mAttributeError\u001b[0m                            Traceback (most recent call last)",
      "Cell \u001b[0;32mIn[15], line 1\u001b[0m\n\u001b[0;32m----> 1\u001b[0m \u001b[43mcol\u001b[49m\u001b[43m[\u001b[49m\u001b[38;5;241;43m34\u001b[39;49m\u001b[43m]\u001b[49m\u001b[38;5;241;43m.\u001b[39;49m\u001b[43mdescribe\u001b[49m()\n",
      "\u001b[0;31mAttributeError\u001b[0m: 'str' object has no attribute 'describe'"
     ]
    }
   ],
   "source": [
    "col[34].describe()"
   ]
  },
  {
   "cell_type": "code",
   "execution_count": 16,
   "id": "cb743e0b",
   "metadata": {},
   "outputs": [
    {
     "ename": "AttributeError",
     "evalue": "'str' object has no attribute 'value'",
     "output_type": "error",
     "traceback": [
      "\u001b[0;31m---------------------------------------------------------------------------\u001b[0m",
      "\u001b[0;31mAttributeError\u001b[0m                            Traceback (most recent call last)",
      "Cell \u001b[0;32mIn[16], line 1\u001b[0m\n\u001b[0;32m----> 1\u001b[0m \u001b[43mcol\u001b[49m\u001b[43m[\u001b[49m\u001b[38;5;241;43m34\u001b[39;49m\u001b[43m]\u001b[49m\u001b[38;5;241;43m.\u001b[39;49m\u001b[43mvalue\u001b[49m\u001b[38;5;241m.\u001b[39mdescribe()\n",
      "\u001b[0;31mAttributeError\u001b[0m: 'str' object has no attribute 'value'"
     ]
    }
   ],
   "source": [
    "col[34].value.describe()"
   ]
  },
  {
   "cell_type": "code",
   "execution_count": 2,
   "id": "472d4a06",
   "metadata": {},
   "outputs": [],
   "source": [
    "import pandas as pd\n",
    "import numpy as np\n",
    "import matplotlib.pyplot as plt\n",
    "%matplotlib inline"
   ]
  },
  {
   "cell_type": "code",
   "execution_count": 3,
   "id": "5ccdcea8",
   "metadata": {},
   "outputs": [],
   "source": [
    "th = pd.read_csv('Validation1.csv')"
   ]
  },
  {
   "cell_type": "code",
   "execution_count": 4,
   "id": "9cbbc940",
   "metadata": {},
   "outputs": [
    {
     "data": {
      "text/html": [
       "<div>\n",
       "<style scoped>\n",
       "    .dataframe tbody tr th:only-of-type {\n",
       "        vertical-align: middle;\n",
       "    }\n",
       "\n",
       "    .dataframe tbody tr th {\n",
       "        vertical-align: top;\n",
       "    }\n",
       "\n",
       "    .dataframe thead th {\n",
       "        text-align: right;\n",
       "    }\n",
       "</style>\n",
       "<table border=\"1\" class=\"dataframe\">\n",
       "  <thead>\n",
       "    <tr style=\"text-align: right;\">\n",
       "      <th></th>\n",
       "      <th>run</th>\n",
       "      <th>type</th>\n",
       "      <th>module</th>\n",
       "      <th>name</th>\n",
       "      <th>attrname</th>\n",
       "      <th>attrvalue</th>\n",
       "      <th>vectime</th>\n",
       "      <th>vecvalue</th>\n",
       "    </tr>\n",
       "  </thead>\n",
       "  <tbody>\n",
       "    <tr>\n",
       "      <th>0</th>\n",
       "      <td>Validation1-0-20221208-22:09:54-55868</td>\n",
       "      <td>runattr</td>\n",
       "      <td>NaN</td>\n",
       "      <td>NaN</td>\n",
       "      <td>configname</td>\n",
       "      <td>Validation1</td>\n",
       "      <td>NaN</td>\n",
       "      <td>NaN</td>\n",
       "    </tr>\n",
       "    <tr>\n",
       "      <th>1</th>\n",
       "      <td>Validation1-0-20221208-22:09:54-55868</td>\n",
       "      <td>runattr</td>\n",
       "      <td>NaN</td>\n",
       "      <td>NaN</td>\n",
       "      <td>datetime</td>\n",
       "      <td>20221208-22:09:54</td>\n",
       "      <td>NaN</td>\n",
       "      <td>NaN</td>\n",
       "    </tr>\n",
       "    <tr>\n",
       "      <th>2</th>\n",
       "      <td>Validation1-0-20221208-22:09:54-55868</td>\n",
       "      <td>runattr</td>\n",
       "      <td>NaN</td>\n",
       "      <td>NaN</td>\n",
       "      <td>datetimef</td>\n",
       "      <td>20221208-220954</td>\n",
       "      <td>NaN</td>\n",
       "      <td>NaN</td>\n",
       "    </tr>\n",
       "    <tr>\n",
       "      <th>3</th>\n",
       "      <td>Validation1-0-20221208-22:09:54-55868</td>\n",
       "      <td>runattr</td>\n",
       "      <td>NaN</td>\n",
       "      <td>NaN</td>\n",
       "      <td>experiment</td>\n",
       "      <td>Validation1</td>\n",
       "      <td>NaN</td>\n",
       "      <td>NaN</td>\n",
       "    </tr>\n",
       "    <tr>\n",
       "      <th>4</th>\n",
       "      <td>Validation1-0-20221208-22:09:54-55868</td>\n",
       "      <td>runattr</td>\n",
       "      <td>NaN</td>\n",
       "      <td>NaN</td>\n",
       "      <td>inifile</td>\n",
       "      <td>../simulations/omnetpp.ini</td>\n",
       "      <td>NaN</td>\n",
       "      <td>NaN</td>\n",
       "    </tr>\n",
       "  </tbody>\n",
       "</table>\n",
       "</div>"
      ],
      "text/plain": [
       "                                     run     type module name    attrname  \\\n",
       "0  Validation1-0-20221208-22:09:54-55868  runattr    NaN  NaN  configname   \n",
       "1  Validation1-0-20221208-22:09:54-55868  runattr    NaN  NaN    datetime   \n",
       "2  Validation1-0-20221208-22:09:54-55868  runattr    NaN  NaN   datetimef   \n",
       "3  Validation1-0-20221208-22:09:54-55868  runattr    NaN  NaN  experiment   \n",
       "4  Validation1-0-20221208-22:09:54-55868  runattr    NaN  NaN     inifile   \n",
       "\n",
       "                    attrvalue vectime vecvalue  \n",
       "0                 Validation1     NaN      NaN  \n",
       "1           20221208-22:09:54     NaN      NaN  \n",
       "2             20221208-220954     NaN      NaN  \n",
       "3                 Validation1     NaN      NaN  \n",
       "4  ../simulations/omnetpp.ini     NaN      NaN  "
      ]
     },
     "execution_count": 4,
     "metadata": {},
     "output_type": "execute_result"
    }
   ],
   "source": [
    "th.head()"
   ]
  },
  {
   "cell_type": "code",
   "execution_count": 5,
   "id": "46a705b1",
   "metadata": {},
   "outputs": [
    {
     "data": {
      "text/html": [
       "<div>\n",
       "<style scoped>\n",
       "    .dataframe tbody tr th:only-of-type {\n",
       "        vertical-align: middle;\n",
       "    }\n",
       "\n",
       "    .dataframe tbody tr th {\n",
       "        vertical-align: top;\n",
       "    }\n",
       "\n",
       "    .dataframe thead th {\n",
       "        text-align: right;\n",
       "    }\n",
       "</style>\n",
       "<table border=\"1\" class=\"dataframe\">\n",
       "  <thead>\n",
       "    <tr style=\"text-align: right;\">\n",
       "      <th></th>\n",
       "      <th>run</th>\n",
       "      <th>type</th>\n",
       "      <th>module</th>\n",
       "      <th>name</th>\n",
       "      <th>attrname</th>\n",
       "      <th>attrvalue</th>\n",
       "      <th>vectime</th>\n",
       "      <th>vecvalue</th>\n",
       "    </tr>\n",
       "  </thead>\n",
       "  <tbody>\n",
       "    <tr>\n",
       "      <th>0</th>\n",
       "      <td>Validation1-0-20221208-22:09:54-55868</td>\n",
       "      <td>runattr</td>\n",
       "      <td>NaN</td>\n",
       "      <td>NaN</td>\n",
       "      <td>configname</td>\n",
       "      <td>Validation1</td>\n",
       "      <td>NaN</td>\n",
       "      <td>NaN</td>\n",
       "    </tr>\n",
       "    <tr>\n",
       "      <th>1</th>\n",
       "      <td>Validation1-0-20221208-22:09:54-55868</td>\n",
       "      <td>runattr</td>\n",
       "      <td>NaN</td>\n",
       "      <td>NaN</td>\n",
       "      <td>datetime</td>\n",
       "      <td>20221208-22:09:54</td>\n",
       "      <td>NaN</td>\n",
       "      <td>NaN</td>\n",
       "    </tr>\n",
       "    <tr>\n",
       "      <th>2</th>\n",
       "      <td>Validation1-0-20221208-22:09:54-55868</td>\n",
       "      <td>runattr</td>\n",
       "      <td>NaN</td>\n",
       "      <td>NaN</td>\n",
       "      <td>datetimef</td>\n",
       "      <td>20221208-220954</td>\n",
       "      <td>NaN</td>\n",
       "      <td>NaN</td>\n",
       "    </tr>\n",
       "    <tr>\n",
       "      <th>3</th>\n",
       "      <td>Validation1-0-20221208-22:09:54-55868</td>\n",
       "      <td>runattr</td>\n",
       "      <td>NaN</td>\n",
       "      <td>NaN</td>\n",
       "      <td>experiment</td>\n",
       "      <td>Validation1</td>\n",
       "      <td>NaN</td>\n",
       "      <td>NaN</td>\n",
       "    </tr>\n",
       "    <tr>\n",
       "      <th>4</th>\n",
       "      <td>Validation1-0-20221208-22:09:54-55868</td>\n",
       "      <td>runattr</td>\n",
       "      <td>NaN</td>\n",
       "      <td>NaN</td>\n",
       "      <td>inifile</td>\n",
       "      <td>../simulations/omnetpp.ini</td>\n",
       "      <td>NaN</td>\n",
       "      <td>NaN</td>\n",
       "    </tr>\n",
       "    <tr>\n",
       "      <th>...</th>\n",
       "      <td>...</td>\n",
       "      <td>...</td>\n",
       "      <td>...</td>\n",
       "      <td>...</td>\n",
       "      <td>...</td>\n",
       "      <td>...</td>\n",
       "      <td>...</td>\n",
       "      <td>...</td>\n",
       "    </tr>\n",
       "    <tr>\n",
       "      <th>65</th>\n",
       "      <td>Validation1-0-20221208-22:09:54-55868</td>\n",
       "      <td>attr</td>\n",
       "      <td>OpportunisticCellularNetwork.cellular[0]</td>\n",
       "      <td>userResponseTime:vector</td>\n",
       "      <td>source</td>\n",
       "      <td>userResponseTimeSignal</td>\n",
       "      <td>NaN</td>\n",
       "      <td>NaN</td>\n",
       "    </tr>\n",
       "    <tr>\n",
       "      <th>66</th>\n",
       "      <td>Validation1-0-20221208-22:09:54-55868</td>\n",
       "      <td>vector</td>\n",
       "      <td>OpportunisticCellularNetwork.cellular[1]</td>\n",
       "      <td>userResponseTime:vector</td>\n",
       "      <td>NaN</td>\n",
       "      <td>NaN</td>\n",
       "      <td>0.001843178248 0.001843178248 0.002758357646 0...</td>\n",
       "      <td>0.000374997033 0.000124997033 0.000790176431 0...</td>\n",
       "    </tr>\n",
       "    <tr>\n",
       "      <th>67</th>\n",
       "      <td>Validation1-0-20221208-22:09:54-55868</td>\n",
       "      <td>attr</td>\n",
       "      <td>OpportunisticCellularNetwork.cellular[1]</td>\n",
       "      <td>userResponseTime:vector</td>\n",
       "      <td>NaN</td>\n",
       "      <td>NaN</td>\n",
       "      <td>NaN</td>\n",
       "      <td>NaN</td>\n",
       "    </tr>\n",
       "    <tr>\n",
       "      <th>68</th>\n",
       "      <td>Validation1-0-20221208-22:09:54-55868</td>\n",
       "      <td>attr</td>\n",
       "      <td>OpportunisticCellularNetwork.cellular[1]</td>\n",
       "      <td>userResponseTime:vector</td>\n",
       "      <td>recordingmode</td>\n",
       "      <td>vector</td>\n",
       "      <td>NaN</td>\n",
       "      <td>NaN</td>\n",
       "    </tr>\n",
       "    <tr>\n",
       "      <th>69</th>\n",
       "      <td>Validation1-0-20221208-22:09:54-55868</td>\n",
       "      <td>attr</td>\n",
       "      <td>OpportunisticCellularNetwork.cellular[1]</td>\n",
       "      <td>userResponseTime:vector</td>\n",
       "      <td>source</td>\n",
       "      <td>userResponseTimeSignal</td>\n",
       "      <td>NaN</td>\n",
       "      <td>NaN</td>\n",
       "    </tr>\n",
       "  </tbody>\n",
       "</table>\n",
       "<p>70 rows × 8 columns</p>\n",
       "</div>"
      ],
      "text/plain": [
       "                                      run     type  \\\n",
       "0   Validation1-0-20221208-22:09:54-55868  runattr   \n",
       "1   Validation1-0-20221208-22:09:54-55868  runattr   \n",
       "2   Validation1-0-20221208-22:09:54-55868  runattr   \n",
       "3   Validation1-0-20221208-22:09:54-55868  runattr   \n",
       "4   Validation1-0-20221208-22:09:54-55868  runattr   \n",
       "..                                    ...      ...   \n",
       "65  Validation1-0-20221208-22:09:54-55868     attr   \n",
       "66  Validation1-0-20221208-22:09:54-55868   vector   \n",
       "67  Validation1-0-20221208-22:09:54-55868     attr   \n",
       "68  Validation1-0-20221208-22:09:54-55868     attr   \n",
       "69  Validation1-0-20221208-22:09:54-55868     attr   \n",
       "\n",
       "                                      module                     name  \\\n",
       "0                                        NaN                      NaN   \n",
       "1                                        NaN                      NaN   \n",
       "2                                        NaN                      NaN   \n",
       "3                                        NaN                      NaN   \n",
       "4                                        NaN                      NaN   \n",
       "..                                       ...                      ...   \n",
       "65  OpportunisticCellularNetwork.cellular[0]  userResponseTime:vector   \n",
       "66  OpportunisticCellularNetwork.cellular[1]  userResponseTime:vector   \n",
       "67  OpportunisticCellularNetwork.cellular[1]  userResponseTime:vector   \n",
       "68  OpportunisticCellularNetwork.cellular[1]  userResponseTime:vector   \n",
       "69  OpportunisticCellularNetwork.cellular[1]  userResponseTime:vector   \n",
       "\n",
       "         attrname                   attrvalue  \\\n",
       "0      configname                 Validation1   \n",
       "1        datetime           20221208-22:09:54   \n",
       "2       datetimef             20221208-220954   \n",
       "3      experiment                 Validation1   \n",
       "4         inifile  ../simulations/omnetpp.ini   \n",
       "..            ...                         ...   \n",
       "65         source      userResponseTimeSignal   \n",
       "66            NaN                         NaN   \n",
       "67            NaN                         NaN   \n",
       "68  recordingmode                      vector   \n",
       "69         source      userResponseTimeSignal   \n",
       "\n",
       "                                              vectime  \\\n",
       "0                                                 NaN   \n",
       "1                                                 NaN   \n",
       "2                                                 NaN   \n",
       "3                                                 NaN   \n",
       "4                                                 NaN   \n",
       "..                                                ...   \n",
       "65                                                NaN   \n",
       "66  0.001843178248 0.001843178248 0.002758357646 0...   \n",
       "67                                                NaN   \n",
       "68                                                NaN   \n",
       "69                                                NaN   \n",
       "\n",
       "                                             vecvalue  \n",
       "0                                                 NaN  \n",
       "1                                                 NaN  \n",
       "2                                                 NaN  \n",
       "3                                                 NaN  \n",
       "4                                                 NaN  \n",
       "..                                                ...  \n",
       "65                                                NaN  \n",
       "66  0.000374997033 0.000124997033 0.000790176431 0...  \n",
       "67                                                NaN  \n",
       "68                                                NaN  \n",
       "69                                                NaN  \n",
       "\n",
       "[70 rows x 8 columns]"
      ]
     },
     "execution_count": 5,
     "metadata": {},
     "output_type": "execute_result"
    }
   ],
   "source": [
    "th[:]"
   ]
  },
  {
   "cell_type": "code",
   "execution_count": 6,
   "id": "f6f9780e",
   "metadata": {},
   "outputs": [
    {
     "data": {
      "text/plain": [
       "dtype('O')"
      ]
     },
     "execution_count": 6,
     "metadata": {},
     "output_type": "execute_result"
    }
   ],
   "source": [
    "th.name.dtype"
   ]
  },
  {
   "cell_type": "code",
   "execution_count": 7,
   "id": "6a15fe88",
   "metadata": {},
   "outputs": [
    {
     "data": {
      "text/plain": [
       "dtype('O')"
      ]
     },
     "execution_count": 7,
     "metadata": {},
     "output_type": "execute_result"
    }
   ],
   "source": [
    "th.vectime.dtype"
   ]
  },
  {
   "cell_type": "code",
   "execution_count": 8,
   "id": "de2e5754",
   "metadata": {},
   "outputs": [
    {
     "ename": "SyntaxError",
     "evalue": "cannot assign to attribute here. Maybe you meant '==' instead of '='? (2390759825.py, line 1)",
     "output_type": "error",
     "traceback": [
      "\u001b[0;36m  Cell \u001b[0;32mIn[8], line 1\u001b[0;36m\u001b[0m\n\u001b[0;31m    tmp = th[(th.type = 'vector') & (th.name = 'userThroughput:vector')]\u001b[0m\n\u001b[0m              ^\u001b[0m\n\u001b[0;31mSyntaxError\u001b[0m\u001b[0;31m:\u001b[0m cannot assign to attribute here. Maybe you meant '==' instead of '='?\n"
     ]
    }
   ],
   "source": [
    "tmp = th[(th.type = 'vector') & (th.name = 'userThroughput:vector')]"
   ]
  },
  {
   "cell_type": "code",
   "execution_count": 9,
   "id": "913afcf8",
   "metadata": {},
   "outputs": [],
   "source": [
    "tmp = th[(th.type == 'vector') & (th.name == 'userThroughput:vector')]"
   ]
  },
  {
   "cell_type": "code",
   "execution_count": 10,
   "id": "70474f1c",
   "metadata": {},
   "outputs": [
    {
     "data": {
      "text/html": [
       "<div>\n",
       "<style scoped>\n",
       "    .dataframe tbody tr th:only-of-type {\n",
       "        vertical-align: middle;\n",
       "    }\n",
       "\n",
       "    .dataframe tbody tr th {\n",
       "        vertical-align: top;\n",
       "    }\n",
       "\n",
       "    .dataframe thead th {\n",
       "        text-align: right;\n",
       "    }\n",
       "</style>\n",
       "<table border=\"1\" class=\"dataframe\">\n",
       "  <thead>\n",
       "    <tr style=\"text-align: right;\">\n",
       "      <th></th>\n",
       "      <th>run</th>\n",
       "      <th>type</th>\n",
       "      <th>module</th>\n",
       "      <th>name</th>\n",
       "      <th>attrname</th>\n",
       "      <th>attrvalue</th>\n",
       "      <th>vectime</th>\n",
       "      <th>vecvalue</th>\n",
       "    </tr>\n",
       "  </thead>\n",
       "  <tbody>\n",
       "    <tr>\n",
       "      <th>34</th>\n",
       "      <td>Validation1-0-20221208-22:09:54-55868</td>\n",
       "      <td>vector</td>\n",
       "      <td>OpportunisticCellularNetwork.cellular[0]</td>\n",
       "      <td>userThroughput:vector</td>\n",
       "      <td>NaN</td>\n",
       "      <td>NaN</td>\n",
       "      <td>0 0.001 0.002 0.003 0.004 0.005 0.006 0.007 0....</td>\n",
       "      <td>0 147 105 145 93 264 58 131 169 193 145 249 94...</td>\n",
       "    </tr>\n",
       "    <tr>\n",
       "      <th>38</th>\n",
       "      <td>Validation1-0-20221208-22:09:54-55868</td>\n",
       "      <td>vector</td>\n",
       "      <td>OpportunisticCellularNetwork.cellular[1]</td>\n",
       "      <td>userThroughput:vector</td>\n",
       "      <td>NaN</td>\n",
       "      <td>NaN</td>\n",
       "      <td>0 0.001 0.002 0.003 0.004 0.005 0.006 0.007 0....</td>\n",
       "      <td>0 0 37 252 153 79 131 202 104 195 146 143 168 ...</td>\n",
       "    </tr>\n",
       "    <tr>\n",
       "      <th>42</th>\n",
       "      <td>Validation1-0-20221208-22:09:54-55868</td>\n",
       "      <td>vector</td>\n",
       "      <td>OpportunisticCellularNetwork.cellular[2]</td>\n",
       "      <td>userThroughput:vector</td>\n",
       "      <td>NaN</td>\n",
       "      <td>NaN</td>\n",
       "      <td>0 0.001 0.002 0.003 0.004 0.005 0.006 0.007 0....</td>\n",
       "      <td>0 59 93 85 144 148 151 212 89 255 152 199 135 ...</td>\n",
       "    </tr>\n",
       "    <tr>\n",
       "      <th>46</th>\n",
       "      <td>Validation1-0-20221208-22:09:54-55868</td>\n",
       "      <td>vector</td>\n",
       "      <td>OpportunisticCellularNetwork.cellular[3]</td>\n",
       "      <td>userThroughput:vector</td>\n",
       "      <td>NaN</td>\n",
       "      <td>NaN</td>\n",
       "      <td>0 0.001 0.002 0.003 0.004 0.005 0.006 0.007 0....</td>\n",
       "      <td>0 7 154 136 169 82 169 107 114 108 204 183 196...</td>\n",
       "    </tr>\n",
       "  </tbody>\n",
       "</table>\n",
       "</div>"
      ],
      "text/plain": [
       "                                      run    type  \\\n",
       "34  Validation1-0-20221208-22:09:54-55868  vector   \n",
       "38  Validation1-0-20221208-22:09:54-55868  vector   \n",
       "42  Validation1-0-20221208-22:09:54-55868  vector   \n",
       "46  Validation1-0-20221208-22:09:54-55868  vector   \n",
       "\n",
       "                                      module                   name attrname  \\\n",
       "34  OpportunisticCellularNetwork.cellular[0]  userThroughput:vector      NaN   \n",
       "38  OpportunisticCellularNetwork.cellular[1]  userThroughput:vector      NaN   \n",
       "42  OpportunisticCellularNetwork.cellular[2]  userThroughput:vector      NaN   \n",
       "46  OpportunisticCellularNetwork.cellular[3]  userThroughput:vector      NaN   \n",
       "\n",
       "   attrvalue                                            vectime  \\\n",
       "34       NaN  0 0.001 0.002 0.003 0.004 0.005 0.006 0.007 0....   \n",
       "38       NaN  0 0.001 0.002 0.003 0.004 0.005 0.006 0.007 0....   \n",
       "42       NaN  0 0.001 0.002 0.003 0.004 0.005 0.006 0.007 0....   \n",
       "46       NaN  0 0.001 0.002 0.003 0.004 0.005 0.006 0.007 0....   \n",
       "\n",
       "                                             vecvalue  \n",
       "34  0 147 105 145 93 264 58 131 169 193 145 249 94...  \n",
       "38  0 0 37 252 153 79 131 202 104 195 146 143 168 ...  \n",
       "42  0 59 93 85 144 148 151 212 89 255 152 199 135 ...  \n",
       "46  0 7 154 136 169 82 169 107 114 108 204 183 196...  "
      ]
     },
     "execution_count": 10,
     "metadata": {},
     "output_type": "execute_result"
    }
   ],
   "source": [
    "tmp.head()"
   ]
  },
  {
   "cell_type": "code",
   "execution_count": 11,
   "id": "70271e5e",
   "metadata": {},
   "outputs": [
    {
     "ename": "KeyError",
     "evalue": "0",
     "output_type": "error",
     "traceback": [
      "\u001b[0;31m---------------------------------------------------------------------------\u001b[0m",
      "\u001b[0;31mKeyError\u001b[0m                                  Traceback (most recent call last)",
      "File \u001b[0;32m/usr/local/lib/python3.10/site-packages/pandas/core/indexes/base.py:3803\u001b[0m, in \u001b[0;36mIndex.get_loc\u001b[0;34m(self, key, method, tolerance)\u001b[0m\n\u001b[1;32m   3802\u001b[0m \u001b[38;5;28;01mtry\u001b[39;00m:\n\u001b[0;32m-> 3803\u001b[0m     \u001b[38;5;28;01mreturn\u001b[39;00m \u001b[38;5;28;43mself\u001b[39;49m\u001b[38;5;241;43m.\u001b[39;49m\u001b[43m_engine\u001b[49m\u001b[38;5;241;43m.\u001b[39;49m\u001b[43mget_loc\u001b[49m\u001b[43m(\u001b[49m\u001b[43mcasted_key\u001b[49m\u001b[43m)\u001b[49m\n\u001b[1;32m   3804\u001b[0m \u001b[38;5;28;01mexcept\u001b[39;00m \u001b[38;5;167;01mKeyError\u001b[39;00m \u001b[38;5;28;01mas\u001b[39;00m err:\n",
      "File \u001b[0;32m/usr/local/lib/python3.10/site-packages/pandas/_libs/index.pyx:138\u001b[0m, in \u001b[0;36mpandas._libs.index.IndexEngine.get_loc\u001b[0;34m()\u001b[0m\n",
      "File \u001b[0;32m/usr/local/lib/python3.10/site-packages/pandas/_libs/index.pyx:165\u001b[0m, in \u001b[0;36mpandas._libs.index.IndexEngine.get_loc\u001b[0;34m()\u001b[0m\n",
      "File \u001b[0;32mpandas/_libs/hashtable_class_helper.pxi:2263\u001b[0m, in \u001b[0;36mpandas._libs.hashtable.Int64HashTable.get_item\u001b[0;34m()\u001b[0m\n",
      "File \u001b[0;32mpandas/_libs/hashtable_class_helper.pxi:2273\u001b[0m, in \u001b[0;36mpandas._libs.hashtable.Int64HashTable.get_item\u001b[0;34m()\u001b[0m\n",
      "\u001b[0;31mKeyError\u001b[0m: 0",
      "\nThe above exception was the direct cause of the following exception:\n",
      "\u001b[0;31mKeyError\u001b[0m                                  Traceback (most recent call last)",
      "Cell \u001b[0;32mIn[11], line 1\u001b[0m\n\u001b[0;32m----> 1\u001b[0m \u001b[43mtmp\u001b[49m\u001b[43m[\u001b[49m\u001b[38;5;124;43m'\u001b[39;49m\u001b[38;5;124;43mvecvalue\u001b[39;49m\u001b[38;5;124;43m'\u001b[39;49m\u001b[43m]\u001b[49m\u001b[43m[\u001b[49m\u001b[38;5;241;43m0\u001b[39;49m\u001b[43m]\u001b[49m\n",
      "File \u001b[0;32m/usr/local/lib/python3.10/site-packages/pandas/core/series.py:981\u001b[0m, in \u001b[0;36mSeries.__getitem__\u001b[0;34m(self, key)\u001b[0m\n\u001b[1;32m    978\u001b[0m     \u001b[38;5;28;01mreturn\u001b[39;00m \u001b[38;5;28mself\u001b[39m\u001b[38;5;241m.\u001b[39m_values[key]\n\u001b[1;32m    980\u001b[0m \u001b[38;5;28;01melif\u001b[39;00m key_is_scalar:\n\u001b[0;32m--> 981\u001b[0m     \u001b[38;5;28;01mreturn\u001b[39;00m \u001b[38;5;28;43mself\u001b[39;49m\u001b[38;5;241;43m.\u001b[39;49m\u001b[43m_get_value\u001b[49m\u001b[43m(\u001b[49m\u001b[43mkey\u001b[49m\u001b[43m)\u001b[49m\n\u001b[1;32m    983\u001b[0m \u001b[38;5;28;01mif\u001b[39;00m is_hashable(key):\n\u001b[1;32m    984\u001b[0m     \u001b[38;5;66;03m# Otherwise index.get_value will raise InvalidIndexError\u001b[39;00m\n\u001b[1;32m    985\u001b[0m     \u001b[38;5;28;01mtry\u001b[39;00m:\n\u001b[1;32m    986\u001b[0m         \u001b[38;5;66;03m# For labels that don't resolve as scalars like tuples and frozensets\u001b[39;00m\n",
      "File \u001b[0;32m/usr/local/lib/python3.10/site-packages/pandas/core/series.py:1089\u001b[0m, in \u001b[0;36mSeries._get_value\u001b[0;34m(self, label, takeable)\u001b[0m\n\u001b[1;32m   1086\u001b[0m     \u001b[38;5;28;01mreturn\u001b[39;00m \u001b[38;5;28mself\u001b[39m\u001b[38;5;241m.\u001b[39m_values[label]\n\u001b[1;32m   1088\u001b[0m \u001b[38;5;66;03m# Similar to Index.get_value, but we do not fall back to positional\u001b[39;00m\n\u001b[0;32m-> 1089\u001b[0m loc \u001b[38;5;241m=\u001b[39m \u001b[38;5;28;43mself\u001b[39;49m\u001b[38;5;241;43m.\u001b[39;49m\u001b[43mindex\u001b[49m\u001b[38;5;241;43m.\u001b[39;49m\u001b[43mget_loc\u001b[49m\u001b[43m(\u001b[49m\u001b[43mlabel\u001b[49m\u001b[43m)\u001b[49m\n\u001b[1;32m   1090\u001b[0m \u001b[38;5;28;01mreturn\u001b[39;00m \u001b[38;5;28mself\u001b[39m\u001b[38;5;241m.\u001b[39mindex\u001b[38;5;241m.\u001b[39m_get_values_for_loc(\u001b[38;5;28mself\u001b[39m, loc, label)\n",
      "File \u001b[0;32m/usr/local/lib/python3.10/site-packages/pandas/core/indexes/base.py:3805\u001b[0m, in \u001b[0;36mIndex.get_loc\u001b[0;34m(self, key, method, tolerance)\u001b[0m\n\u001b[1;32m   3803\u001b[0m     \u001b[38;5;28;01mreturn\u001b[39;00m \u001b[38;5;28mself\u001b[39m\u001b[38;5;241m.\u001b[39m_engine\u001b[38;5;241m.\u001b[39mget_loc(casted_key)\n\u001b[1;32m   3804\u001b[0m \u001b[38;5;28;01mexcept\u001b[39;00m \u001b[38;5;167;01mKeyError\u001b[39;00m \u001b[38;5;28;01mas\u001b[39;00m err:\n\u001b[0;32m-> 3805\u001b[0m     \u001b[38;5;28;01mraise\u001b[39;00m \u001b[38;5;167;01mKeyError\u001b[39;00m(key) \u001b[38;5;28;01mfrom\u001b[39;00m \u001b[38;5;21;01merr\u001b[39;00m\n\u001b[1;32m   3806\u001b[0m \u001b[38;5;28;01mexcept\u001b[39;00m \u001b[38;5;167;01mTypeError\u001b[39;00m:\n\u001b[1;32m   3807\u001b[0m     \u001b[38;5;66;03m# If we have a listlike key, _check_indexing_error will raise\u001b[39;00m\n\u001b[1;32m   3808\u001b[0m     \u001b[38;5;66;03m#  InvalidIndexError. Otherwise we fall through and re-raise\u001b[39;00m\n\u001b[1;32m   3809\u001b[0m     \u001b[38;5;66;03m#  the TypeError.\u001b[39;00m\n\u001b[1;32m   3810\u001b[0m     \u001b[38;5;28mself\u001b[39m\u001b[38;5;241m.\u001b[39m_check_indexing_error(key)\n",
      "\u001b[0;31mKeyError\u001b[0m: 0"
     ]
    }
   ],
   "source": [
    "tmp['vecvalue'][0]"
   ]
  },
  {
   "cell_type": "code",
   "execution_count": 15,
   "id": "14db50b5",
   "metadata": {},
   "outputs": [
    {
     "data": {
      "text/plain": [
       "34    0 147 105 145 93 264 58 131 169 193 145 249 94...\n",
       "38    0 0 37 252 153 79 131 202 104 195 146 143 168 ...\n",
       "42    0 59 93 85 144 148 151 212 89 255 152 199 135 ...\n",
       "46    0 7 154 136 169 82 169 107 114 108 204 183 196...\n",
       "Name: vecvalue, dtype: object"
      ]
     },
     "execution_count": 15,
     "metadata": {},
     "output_type": "execute_result"
    }
   ],
   "source": [
    "tmp['vecvalue']"
   ]
  },
  {
   "cell_type": "code",
   "execution_count": 14,
   "id": "b0c5fced",
   "metadata": {},
   "outputs": [
    {
     "ename": "AttributeError",
     "evalue": "'str' object has no attribute 'head'",
     "output_type": "error",
     "traceback": [
      "\u001b[0;31m---------------------------------------------------------------------------\u001b[0m",
      "\u001b[0;31mAttributeError\u001b[0m                            Traceback (most recent call last)",
      "Cell \u001b[0;32mIn[14], line 1\u001b[0m\n\u001b[0;32m----> 1\u001b[0m \u001b[43mtmp\u001b[49m\u001b[43m[\u001b[49m\u001b[38;5;124;43m'\u001b[39;49m\u001b[38;5;124;43mvecvalue\u001b[39;49m\u001b[38;5;124;43m'\u001b[39;49m\u001b[43m]\u001b[49m\u001b[43m[\u001b[49m\u001b[38;5;241;43m38\u001b[39;49m\u001b[43m]\u001b[49m\u001b[38;5;241;43m.\u001b[39;49m\u001b[43mhead\u001b[49m()\n",
      "\u001b[0;31mAttributeError\u001b[0m: 'str' object has no attribute 'head'"
     ]
    }
   ],
   "source": [
    "tmp['vecvalue'][38].head()"
   ]
  },
  {
   "cell_type": "code",
   "execution_count": 16,
   "id": "1438cd1d",
   "metadata": {},
   "outputs": [
    {
     "data": {
      "text/plain": [
       "'0 0 37 252 153 79 131 202 104 195 146 143 168 145 108 113 167 175 203 213 186 181 145 160 160 200 250 140 115 214 176 201 169 189 81 133 198 175 179 183 150 106 97 146 163 165 218 146 117 148 165 154 178 183 181 160 215 102 112 77 149 213 199 88 191 122 148 70 101 196 134 224 175 130 212 200 128 261 220 159 94 162 128 135 136 140 142 188 202 190 176 158 100 207 154 189 157 201 144 254 117 187 134 257 152 121 196 168 110 127 110 226 168 144 176 154 211 167 115 168 166 123 129 132 118 100 214 131 113 186 237 183 142 153 146 92 176 141 147 140 150 156 164 203 74 219 114 165 147 109 182 171 94 217 265 173 110 148 148 102 219 171 123 142 228 194 149 147 62 146 182 140 114 249 157 192 104 60 218 50 175 137 189 228 92 204 131 161 215 132 132 172 189 150 172 219 175 216 122 66 205 143 165 217 99 179 219 114 187 114 270 189 136 143 126 158 153 213 97 117 177 179 140 112 133 132 169 131 327 159 124 136 252 231 90 158 177 177 144 156 148 143 251 220 236 162 126 149 146 147 170 181 201 106 158 121 174 207 161 199 159 97 99 101 138 132 167 104 181 182 141 124 164 146 132 103 195 193 129 128 211 46 212 121 150 100 225 125 259 116 157 132 121 125 172 59 132 106 139 132 129 184 176 112 170 174 136 159 119 127 124 284 200 194 103 123 105 184 237 106 222 99 201 121 171 140 213 151 170 69 176 145 93 211 207 164 130 106 102 158 157 154 197 94 119 179 75 135 180 149 55 129 180 201 200 238 197 185 100 94 235 198 47 198 148 120 154 171 88 151 164 179 161 210 193 188 146 79 163 122 119 205 63 117 186 134 173 140 128 153 212 143 172 132 128 268 171 149 179 138 91 138 198 72 179 41 133 180 94 150 236 169 126 106 218 181 113 151 189 146 201 95 186 134 125 198 146 160 197 79 121 86 114 209 154 157 136 109 116 141 209 129 135 167 90 124 214 133 199 70 140 175 79 95 131 120 200 125 147 135 223 152 102 146 129 164 182 145 158 212 73 155 132 90 181 143 106 114 123 168 204 113 146 187 200 186 165 198 105 250 168 126 171 217 171 126 114 114 145 130 77 169 156 122 94 162 77 125 207 116 226 106 166 119 171 244 91 199 145 133 248 127 237 128 202 156 147 166 146 151 193 76 109 78 145 162 60 204 122 183 131 145 147 134 151 112 202 185 187 73 133 86 232 109 148 98 158 169 123 169 244 192 160 101 137 92 204 86 149 123 102 126 114 104 132 91 123 211 137 193 77 137 112 51 192 207 62 138 142 137 167 163 121 157 189 143 175 120 184 81 172 167 190 153 120 161 187 205 228 202 149 180 179 100 160 129 140 191 86 97 214 148 132 102 147 69 125 89 207 228 139 119 173 143 155 209 196 140 206 93 174 205 182 180 130 153 165 136 184 146 175 77 222 110 113 117 104 129 184 142 169 128 158 121 139 115 228 164 43 86 163 107 132 182 173 186 129 171 122 228 123 69 185 185 204 164 97 204 82 48 143 123 159 199 102 93 89 168 71 225 146 201 159 229 77 204 238 122 197 173 220 186 136 197 107 86 135 102 107 139 124 175 85 166 243 214 151 179 196 207 176 60 176 118 130 139 75 143 87 137 174 103 93 69 148 164 187 200 165 161 187 85 105 94 53 169 190 109 150 98 199 105 139 180 167 108 191 118 209 138 262 210 126 180 230 119 193 153 194 168 234 191 105 184 148 148 184 137 134 211 176 190 117 105 192 177 231 154 282 110 163 163 191 145 142 147 77 102 252 115 122 111 211 151 81 145 191 114 272 168 166 43 228 212 227 160 138 172 160 250 153 193 172 131 175 159 182 147 100 107 167 154 99 79 212 160 174 125 159 213 105 140 124 172 116 226 123 154 199 140 148 160 164 120 125 157 72 132 171 285 157 83 95 63 137 32 183 170 165 97 220 133 132 162 234 150 69 123 116 207 124 164 148 145 127 133 156 196 187 155 129 170 116 136 170 163 110 121 212 182 83 214 95 106 152 151 92 182 167 132 173 137 127 242 125 70 142 143 53 164 215 95 109 137 249 202 175 166 91 328 159 240 215 124 91 188 155 161 204 129 146 146 130 216 146 130 207 186 198 151 123 167 156 135 182 155 131 155 188 143 173 146 112 110 161 100 90 60 193 132 141 160 212 100 204 117 194 136 208 160 109 136 127 94 136 155 172 53 100 191 122 113 137 213 156 106 184 96 202 220 165 128 214 158 212 183 129 146 106 217 145 195 220 95 141 200 201 142 150 178 175 142 142 156 64 231 174 181 60 140 137 208 54 97 171 125 165 144 121 214 181 162 138 157 142 124 178 177 220 121 200 220 140 162 188 136 192 175 96 194 128 138 107 250 152 112 185 166 147 154 106 261 146 172 194 215 160 140 124 102 164 111 225 168 154 148 103 172 177 173 144 135 155 106 148 118 230 232 170 158 194 144 210 247 147 179 172 115 154 150 200 123 119 200 169 200 243 105 128 168 108 153 213 131 103 209 151 137 127 131 101 221 104 144 191 118 191 158 155 200 203 229 167 128 121 144 119 130 43 141 130 156 197 122 213 182 119 123 191 153 97 128 197 191 161 159 163 92 156 220 195 194 167 94 122 105 104 175 118 101 166 200 117 31 160 154 249 139 52 185 125 144 93 150 106 197 148 207 138 184 93 126 209 122 147 162 104 218 162 148 232 96 228 165 102 117 197 123 150 201 123 161 79 166 128 108 93 124 45 215 157 237 117 107 177 159 199 221 111 182 204 186 181 118 159 121 128 124 212 198 53 175 209 92 196 173 91 54 110 157 138 193 149 186 160 248 61 244 240 223 172 126 135 58 171 101 190 240 182 154 144 162 141 100 114 141 225 187 177 138 178 129 128 66 199 239 127 250 150 156 197 170 151 135 178 197 112 177 155 138 274 152 142 129 66 179 61 112 205 205 180 160 119 73 146 141 154 106 128 176 146 173 168 134 98 185 249 134 162 164 151 127 183 132 219 64 105 168 201 123 60 190 139 101 181 171 259 112 164 236 175 91 134 221 119 117 203 133 148 165 125 177 125 134 195 198 94 132 224 218 224 164 200 74 160 139 140 146 141 203 26 155 136 222 92 218 208 132 247 96 166 144 102 170 164 149 130 185 175 260 204 181 88 248 143 224 144 105 195 214 169 112 129 121 144 245 183 177 85 38 151 176 54 129 117 210 184 102 153 117 160 149 106 182 148 56 223 192 107 195 161 117 90 151 143 145 197 106 145 147 163 182 190 129 109 148 138 113 47 153 157 161 218 129 95 195 101 108 165 84 133 143 126 135 181 196 176 142 129 165 140 147 184 254 161 162 154 104 220 38 89 187 119 125 59 184 203 129 157 158 179 108 174 113 196 176 169 117 169 152 114 169 235 205 141 123 134 111 117 175 175 138 156 108 155 184 126 166 171 111 158 150 163 71 44 188 83 175 202 218 124 210 175 114 141 86 160 263 177 60 148 221 209 198 76 210 117 124 148 158 161 188 132 206 127 91 221 207 181 174 94 146 199 132 134 157 168 165 157 162 130 77 116 131 142 174 176 83 218 65 247 179 231 118 111 123 116 112 207 127 115 119 159 202 151 125 110 154 135 225 136 160 137 101 140 227 89 221 79 243 191 166 96 72 104 207 173 196 174 108 138 188 223 148 168 109 145 185 239 195 167 126 144 235 188 119 83 250 172 125 141 201 185 135 164 106 158 219 213 165 116 202 266 115 159 160 175 135 113 152 137 195 77 107 138 153 136 169 122 127 145 140 175 112 89 117 206 215 163 226 98 125 254 175 241 138 130 155 193 164 114 139 144 193 165 58 189 169 143 177 133 89 155 153 179 122 140 124 120 192 204 82 159 190 213 140 119 140 121 95 179 121 162 138 73 137 96 162 94 231 132 113 128 141 255 146 90 198 143 87 151 204 136 163 147 121 186 157 191 169 170 127 129 220 134 108 218 230 218 237 147 92 213 109 211 129 174 189 125 150 114 177 223 115 145 161 196 158 103 162 94 225 199 158 135 189 135 173 115 123 198 96 136 128 158 134 112 108 167 152 150 116 212 79 128 120 196 124 122 132 226 146 122 188 129 132 123 162 110 219 178 198 106 130 125 150 121 100 153 248 133 123 64 137 121 167 169 162 251 211 170 148 166 169 152 116 170 128 140 156 219 134 118 127 136 157 178 222 109 248 149 102 190 90 101 194 88 137 210 202 191 106 200 198 149 176 196 169 270 136 139 160 92 164 86 311 139 141 153 145 161 128 115 144 159 206 123 172 152 145 190 128 207 179 207 204 150 128 173 205 176 137 129 211 172 119 152 263 161 127 89 176 142 153 190 107 48 144 169 83 102 149 127 156 151 213 130 210 187 107 239 141 185 135 175 130 174 105 139 167 111 221 72 123 37 250 108 149 138 118 202 152 127 101 233 109 250 96 173 135 127 177 196 170 258 149 160 152 208 84 179 92 138 103 98 188 168 188 72 109 119 97 116 180 176 100 137 92 128 106 51 211 166 136 92 141 86 95 131 116 170 197 92 237 123 86 85 213 161 142 140 160 194 103 237 147 113 101 82 136 219 199 134 97 177 115 170 200 155 214 199 124 155 133 148 145 176 140 196 184 169 117 235 47 168 117 137 204 207 147 244 121 189 234 206 123 176 197 116 170 116 106 214 84 118 170 129 117 163 148 110 256 160 146 123 153 169 107 85 200 155 182 115 181 170 158 159 85 111 184 171 235 171 117 139 55 205 155 66 176 111 174 102 168 179 176 142 206 88 53 125 117 148 102 162 62 165 192 202 140 34 194 61 137 108 132 141 226 131 188 191 188 204 227 112 188 107 221 163 135 200 174 242 230 194 123 292 96 108 104 169 95 177 185 118 160 177 159 187 77 98 33 180 154 231 19 195 170 197 109 6 224 116 194 170 156 97 198 155 104 179 188 111 141 186 174 192 209 88 157 147 99 166 212 167 162 147 177 159 193 157 128 62 211 160 148 122 49 169 174 76 175 181 102 141 174 186 203 118 209 132 223 173 182 182 175 145 147 80 219 183 150 99 75 195 214 190 201 119 63 200 165 268 167 151 222 140 176 130 165 81 142 170 207 167 209 183 127 158 213 100 189 189 173 91 165 201 123 200 115 197 92 101 169 171 103 105 93 170 263 186 150 127 113 142 146 137 160 117 127 157 163 266 148 124 179 120 111 184 127 224 131 237 190 210 148 174 145 80 214 131 145 110 92 153 91 102 123 104 134 132 115 118 163 154 103 225 114 132 163 189 104 150 51 120 123 129 160 186 157 166 100 263 210 96 197 160 159 193 76 145 143 262 136 90 143 179 57 217 169 215 125 132 172 127 150 127 157 183 155 220 117 225 44 159 63 75 199 132 211 159 182 131 97 142 145 86 223 196 116 171 92 142 198 131 102 129 137 96 110 117 137 171 162 85 205 81 187 27 205 126 239 99 40 178 153 156 147 152 146 162 195 186 197 130 177 166 125 149 146 109 198 161 122 186 119 123 170 148 213 177 45 154 259 91 159 231 145 114 168 154 129 171 170 102 193 209 162 147 145 263 112 137 247 157 207 235 67 131 171 226 116 129 129 169 175 167 159 130 180 147 178 127 120 120 174 163 121 103 138 60 188 91 100 187 222 194 120 149 109 196 82 131 223 191 208 117 153 145 128 187 175 54 94 186 160 144 95 125 115 163 241 119 196 107 107 74 113 156 69 98 101 127 196 202 154 160 82 181 157 162 145 149 168 207 196 170 144 182 142 185 112 170 158 198 179 103 200 205 205 137 174 112 155 103 148 161 217 141 126 137 127 161 241 140 154 181 182 196 206 57 170 162 112 98 137 131 148 157 117 160 134 121 146 205 108 240 158 143 196 89 153 178 207 187 158 196 145 216 114 85 164 188 103 198 178 138 138 171 73 122 174 166 161 137 171 227 115 125 174 184 130 85 184 172 124 106 129 210 118 205 165 161 178 110 187 111 163 143 123 147 87 142 197 187 95 133 200 205 62 131 218 109 197 238 150 180 207 95 114 184 214 98 168 192 129 164 203 151 87 162 166 206 154 278 226 189 141 89 192 212 62 163 86 199 130 183 95 227 158 237 193 126 159 139 222 115 132 129 188 227 178 104 123 84 156 116 137 187 120 79 202 96 171 191 139 204 119 162 120 153 213 223 88 119 122 157 112 252 110 130 71 186 179 141 180 118 193 175 96 236 117 112 127 68 145 184 66 223 213 99 161 107 168 196 191 138 192 123 149 120 187 166 110 147 199 211 226 75 84 137 193 51 157 142 203 156 156 191 149 145 128 183 109 154 129 128 212 70 203 133 118 186 94 148 150 188 152 153 67 114 183 154 169 104 141 202 158 86 206 139 168 141 224 205 189 214 117 252 46 112 158 144 82 154 195 131 200 191 136 142 202 186 211 136 178 170 151 194 178 113 96 114 186 127 207 145 244 112 151 175 183 164 115 195 120 123 126 155 160 210 191 219 118 185 233 103 133 182 172 74 190 59 127 179 114 131 95 108 117 145 134 109 117 291 165 101 148 129 169 221 155 130 161 166 172 103 105 117 135 195 219 143 245 205 84 173 205 140 162 179 254 111 119 252 188 150 175 153 214 126 220 183 205 152 181 106 92 180 148 114 187 137 179 86 73 157 113 121 212 154 100 174 74 196 134 138 213 149 144 162'"
      ]
     },
     "execution_count": 16,
     "metadata": {},
     "output_type": "execute_result"
    }
   ],
   "source": [
    "tmp['vecvalue'][38]"
   ]
  },
  {
   "cell_type": "code",
   "execution_count": 17,
   "id": "9e1b7856",
   "metadata": {},
   "outputs": [
    {
     "ename": "SyntaxError",
     "evalue": "cannot assign to attribute here. Maybe you meant '==' instead of '='? (1959719338.py, line 1)",
     "output_type": "error",
     "traceback": [
      "\u001b[0;36m  Cell \u001b[0;32mIn[17], line 1\u001b[0;36m\u001b[0m\n\u001b[0;31m    vectors = tmp[tmp.type = 'vector']\u001b[0m\n\u001b[0m                  ^\u001b[0m\n\u001b[0;31mSyntaxError\u001b[0m\u001b[0;31m:\u001b[0m cannot assign to attribute here. Maybe you meant '==' instead of '='?\n"
     ]
    }
   ],
   "source": [
    "vectors = tmp[tmp.type = 'vector']"
   ]
  },
  {
   "cell_type": "code",
   "execution_count": null,
   "id": "ee364a31",
   "metadata": {},
   "outputs": [],
   "source": []
  },
  {
   "cell_type": "code",
   "execution_count": null,
   "id": "6d742543",
   "metadata": {},
   "outputs": [],
   "source": []
  },
  {
   "cell_type": "code",
   "execution_count": 18,
   "id": "ba4cc9a9",
   "metadata": {},
   "outputs": [],
   "source": [
    "vectors = tmp[tmp.type == 'vector']"
   ]
  },
  {
   "cell_type": "code",
   "execution_count": 19,
   "id": "5789d6c0",
   "metadata": {},
   "outputs": [
    {
     "data": {
      "text/plain": [
       "4"
      ]
     },
     "execution_count": 19,
     "metadata": {},
     "output_type": "execute_result"
    }
   ],
   "source": [
    "len(vectors)"
   ]
  },
  {
   "cell_type": "code",
   "execution_count": 20,
   "id": "48ee870a",
   "metadata": {},
   "outputs": [],
   "source": [
    "vec = vectors.iloc[3]"
   ]
  },
  {
   "cell_type": "code",
   "execution_count": 21,
   "id": "172f4867",
   "metadata": {},
   "outputs": [
    {
     "ename": "ValueError",
     "evalue": "'0 7 154 136 169 82 169 107 114 108 204 183 196 115 91 119 217 127 200 92 142 131 170 149 159 131 186 198 76 149 210 137 155 127 177 112 149 231 112 75 98 153 118 201 213 142 148 83 65 92 187 208 160 84 117 71 101 150 161 179 43 163 165 78 94 123 91 44 111 206 117 131 249 117 123 248 153 117 136 171 134 125 142 177 152 114 179 184 221 82 197 100 215 136 178 132 93 109 137 149 97 123 227 56 196 143 51 111 156 237 147 92 147 111 105 112 139 227 86 179 111 168 197 135 152 125 68 136 239 183 168 161 138 35 163 195 172 264 247 212 86 177 185 176 171 249 66 142 113 67 171 161 102 88 91 230 62 95 76 231 223 160 86 136 182 166 132 196 190 86 236 110 178 128 249 164 118 104 149 131 147 122 140 147 149 92 111 153 168 165 250 148 196 127 68 78 183 172 136 129 247 160 205 134 126 188 82 144 134 169 153 118 148 160 240 162 204 199 128 133 155 118 107 245 59 149 162 197 106 273 172 103 253 175 186 139 129 141 221 97 103 144 150 138 73 162 91 166 97 149 73 176 99 179 76 232 186 146 127 126 147 115 143 119 102 240 152 83 197 184 108 120 136 142 143 85 82 164 193 170 173 149 147 177 173 190 121 135 106 166 155 175 209 161 181 162 143 150 85 235 153 195 103 101 209 94 150 175 163 83 224 247 228 126 119 161 134 150 94 145 148 122 180 154 221 164 146 189 179 96 154 208 168 116 114 200 116 157 63 157 72 149 134 234 168 173 162 121 134 149 207 143 196 90 205 158 169 103 130 203 179 147 229 166 189 80 153 196 132 145 64 169 195 222 55 150 165 86 121 52 97 113 142 207 160 154 154 88 160 93 92 117 207 210 175 201 92 132 146 81 238 152 123 168 191 89 194 118 111 202 171 138 111 140 136 221 141 64 182 158 111 154 178 118 123 143 131 147 81 154 154 143 145 137 97 174 156 169 108 134 221 142 159 228 201 99 172 94 156 124 149 166 229 98 54 217 85 95 177 131 112 108 214 166 195 144 162 178 165 170 161 62 183 156 107 187 217 217 171 90 145 125 129 164 189 153 122 224 219 183 102 109 231 152 165 137 106 205 207 204 178 122 92 130 144 163 199 117 190 79 145 113 139 135 152 117 173 175 115 168 255 159 151 128 179 155 96 93 122 129 235 102 124 150 213 134 190 166 199 238 194 151 145 228 126 189 171 98 138 136 105 112 196 203 142 106 143 217 172 149 105 215 157 82 101 161 110 145 172 104 158 165 236 80 197 138 256 183 165 155 183 107 231 156 193 91 200 178 120 207 135 142 177 156 114 140 111 172 190 167 84 242 134 56 128 148 146 133 77 137 141 91 105 158 169 141 191 220 191 161 145 179 120 112 160 197 116 134 161 163 168 66 169 106 130 46 42 115 230 101 170 168 230 200 177 198 223 58 184 139 114 180 175 204 136 168 136 150 205 77 73 169 143 144 242 178 180 167 80 243 106 187 189 76 99 179 172 166 187 159 165 183 108 139 128 166 202 171 120 222 232 152 115 179 87 167 184 194 145 68 148 221 147 85 111 221 76 217 116 183 161 100 197 158 146 215 192 161 160 118 213 142 55 130 136 196 162 211 227 75 199 185 108 153 104 223 116 163 136 140 162 130 155 203 181 157 171 120 149 187 119 179 76 176 125 220 59 172 148 164 68 86 186 223 188 194 164 79 178 168 175 142 72 163 102 227 137 109 140 110 149 88 132 128 101 146 129 98 274 112 145 164 110 127 174 256 135 46 178 260 113 183 142 156 134 148 121 175 153 61 127 158 176 163 156 182 173 141 259 145 177 117 117 147 108 125 181 119 160 97 218 195 199 202 161 108 254 199 123 108 90 243 130 119 207 95 81 152 154 208 216 170 125 111 131 162 116 150 180 171 189 172 146 152 158 154 93 160 154 135 186 196 149 157 182 65 178 230 82 228 159 206 171 217 141 152 126 104 77 179 174 201 192 149 60 184 181 115 172 95 143 180 97 158 64 146 155 203 158 191 94 206 151 138 96 240 134 191 109 154 187 188 92 151 139 131 190 166 226 139 180 151 96 107 292 209 141 139 166 141 131 107 180 146 59 146 179 141 173 84 71 132 119 105 65 203 172 175 145 139 49 238 83 180 167 141 75 147 123 166 185 234 127 138 200 147 74 154 97 176 174 170 221 164 166 102 126 201 151 177 164 133 196 64 154 142 56 71 190 194 208 103 128 174 231 95 204 150 123 141 243 172 240 145 112 84 117 177 127 110 213 95 237 157 129 122 167 152 96 183 112 40 210 187 67 241 102 110 134 215 194 252 179 109 103 194 234 205 129 224 152 100 154 115 191 110 192 158 202 108 92 142 69 279 102 172 168 167 109 263 91 174 124 200 137 183 129 193 181 123 119 115 100 185 165 162 100 180 141 117 155 190 138 167 192 178 162 82 159 149 119 182 130 115 148 103 146 109 170 186 198 200 131 106 158 175 130 216 172 246 119 148 107 198 179 138 148 156 194 167 173 222 128 129 224 176 82 198 107 169 132 190 119 72 206 164 163 165 108 69 139 134 186 117 116 243 163 172 151 194 209 189 90 199 174 170 82 155 189 130 138 120 150 126 48 171 167 156 112 146 108 204 53 141 189 118 109 91 146 143 83 187 153 92 170 220 204 219 170 64 141 104 162 217 153 100 156 214 97 275 57 147 73 188 196 265 205 86 88 126 119 225 77 188 220 115 150 174 127 107 127 113 80 138 161 222 58 235 169 66 174 179 149 107 212 116 154 122 84 106 194 67 178 166 206 118 172 164 153 75 77 113 103 145 233 141 147 109 125 105 194 203 157 170 53 70 171 155 121 125 177 116 66 152 160 151 262 147 231 88 205 117 224 98 198 218 156 161 196 193 132 161 95 81 87 220 128 223 143 174 84 127 129 164 243 247 96 138 150 232 127 199 96 185 149 87 186 97 203 141 146 195 115 152 145 160 197 121 151 170 128 103 137 178 118 189 99 152 215 176 126 150 184 102 156 220 142 181 170 187 184 116 166 174 129 220 176 137 187 166 109 228 116 212 158 237 190 110 184 128 159 122 160 112 138 221 202 53 223 190 138 206 130 144 197 143 90 168 111 206 94 76 199 163 136 169 188 163 122 101 169 164 131 229 114 75 225 102 118 135 107 103 142 112 159 163 119 104 124 173 150 127 194 224 138 112 136 145 96 125 178 139 154 91 129 135 204 183 155 161 57 118 235 196 87 156 88 102 160 141 123 135 202 158 179 128 148 185 169 130 177 142 247 146 170 158 154 104 128 97 168 104 156 117 147 158 127 165 214 109 143 223 85 129 118 68 103 162 90 129 167 125 166 198 106 195 140 112 80 129 126 241 181 154 143 208 171 161 147 155 220 156 178 144 89 189 172 77 142 115 84 213 105 180 202 133 169 107 146 112 156 216 163 159 188 199 162 106 110 156 132 211 203 145 185 220 56 70 150 128 136 217 147 188 239 131 137 112 166 203 187 163 159 175 145 126 92 150 207 171 99 79 57 237 210 164 120 154 227 155 84 177 231 166 97 207 99 174 216 189 234 248 130 112 103 171 169 146 171 154 92 97 160 251 103 246 188 102 56 46 183 118 111 198 110 229 204 151 105 158 188 169 192 143 91 116 166 140 156 154 50 119 82 125 213 191 139 150 200 140 104 72 133 124 139 186 106 95 86 132 109 120 169 114 197 56 111 91 172 142 136 261 145 85 58 120 148 292 171 101 72 236 165 164 89 133 150 165 132 96 213 131 217 72 160 232 60 114 142 118 170 129 149 248 192 70 176 159 141 195 95 74 183 112 166 144 149 244 151 138 120 116 55 213 176 98 161 116 89 263 181 156 198 153 117 116 180 110 134 179 157 164 238 137 150 207 151 204 137 157 115 173 159 215 141 229 126 225 155 176 138 153 147 93 90 157 125 148 105 92 173 78 222 89 184 117 200 92 102 200 221 103 161 178 116 213 152 236 127 100 146 166 175 123 133 187 120 169 152 147 91 123 149 88 193 152 70 145 208 137 218 180 223 83 195 142 208 143 153 156 145 118 172 142 99 169 174 109 98 161 210 124 128 163 151 206 179 147 249 227 134 98 137 194 202 146 172 163 130 162 165 155 106 116 141 138 149 247 114 139 91 116 210 138 184 158 70 165 180 176 174 212 123 153 253 75 172 164 182 79 200 161 206 146 131 206 173 117 100 183 187 116 89 106 215 157 92 101 134 83 130 129 148 173 158 134 146 129 218 38 114 190 119 196 120 212 253 129 163 157 186 134 179 211 150 101 67 190 139 95 73 133 144 118 167 167 175 155 204 153 143 152 152 192 173 29 157 183 231 153 134 103 123 209 156 156 197 178 85 133 117 196 132 167 239 165 111 191 140 219 112 194 164 185 160 247 138 202 153 98 110 136 125 184 150 110 159 226 134 169 126 193 146 121 163 48 82 216 202 156 215 168 129 136 190 165 95 213 156 210 148 108 62 76 101 66 191 186 144 154 205 112 223 197 108 100 143 176 80 180 171 127 98 189 125 114 175 129 135 153 121 194 197 133 144 143 43 238 149 180 206 106 97 123 169 169 123 157 182 133 231 108 81 224 86 177 102 224 156 111 165 134 163 134 148 100 183 181 99 172 178 136 126 175 150 168 151 253 135 111 150 50 129 85 144 162 162 130 84 196 153 197 203 123 100 108 219 162 150 64 151 265 115 204 178 156 142 233 70 99 143 145 140 198 165 92 211 177 224 105 110 155 151 146 116 114 153 193 111 169 200 201 206 141 227 164 195 145 95 197 214 103 174 131 83 97 89 151 189 89 157 223 113 167 174 183 176 100 132 174 100 207 197 161 158 184 218 111 151 94 105 182 101 129 136 102 145 141 83 93 173 87 187 176 175 101 218 80 81 78 146 133 184 174 122 209 143 155 261 74 128 261 137 160 213 143 186 141 183 139 165 89 136 225 143 120 117 152 109 99 75 180 159 111 117 119 179 163 183 210 145 162 121 235 202 175 136 198 153 101 187 188 125 172 134 179 187 99 226 173 95 187 153 200 102 89 176 202 155 155 179 162 131 96 142 98 152 129 163 54 136 188 170 149 120 97 177 194 98 204 187 210 159 76 169 276 141 179 135 117 151 133 147 73 172 153 208 98 225 46 165 150 136 118 230 153 117 158 106 122 128 211 200 121 158 165 198 109 168 160 111 148 212 119 144 120 97 192 135 134 112 103 219 210 177 196 147 197 138 90 161 225 101 81 155 126 193 121 154 120 156 167 235 122 143 172 174 149 133 206 248 121 132 162 119 126 130 80 165 161 213 43 145 152 140 192 193 112 69 206 127 115 252 141 107 188 180 133 123 169 183 140 117 163 53 245 158 161 202 225 206 153 184 144 216 193 183 100 208 140 58 123 121 184 184 145 184 142 189 146 145 173 98 123 108 106 103 82 198 136 205 101 152 135 144 136 202 153 185 176 262 136 168 240 101 201 156 79 104 173 186 91 150 71 125 161 109 74 135 132 65 204 149 136 199 129 209 90 163 116 126 73 185 183 153 215 237 115 160 111 196 157 42 170 163 133 165 118 213 141 221 145 84 185 162 94 115 134 194 213 60 201 132 148 123 176 215 173 89 131 118 198 173 151 130 197 141 143 196 131 111 131 114 216 219 119 142 180 47 170 169 167 228 90 202 142 103 179 201 110 80 133 218 117 163 212 138 195 230 133 134 264 81 175 208 137 117 156 152 261 137 140 204 244 227 220 120 181 149 164 46 87 136 101 137 92 157 124 135 178 208 163 158 145 225 168 149 143 243 198 171 134 153 214 198 272 190 228 114 96 129 203 186 206 127 164 104 220 182 182 106 211 167 153 176 38 184 105 168 115 188 148 134 141 108 169 103 165 101 123 186 167 111 85 78 202 131 114 134 149 79 53 152 187 133 103 248 137 168 89 178 107 134 154 139 165 183 219 208 191 240 220 188 178 148 165 214 149 130 217 115 170 157 148 128 212 271 201 133 139 185 233 200 88 110 228 120 152 163 113 171 158 117 163 194 139 137 139 231 118 163 125 129 130 180 147 249 108 94 61 142 109 178 245 189 106 99 130 124 83 159 85 183 96 161 135 126 142 70 111 88 151 144 139 211 167 155 140 109 184 207 84 86 176 130 145 178 158 107 189 187 141 144 121 156 148 86 109 142 135 209 195 133 46 151 160 172 133 128 127 120 184 131 225 184 168 97 160 131 159 98 205 167 134 141 132 192 158 177 137 125 230 131 139 120 194 213 151 21 141 156 106 228 151 118 107 149 193 179 90 130 165 175 132 161 135 166 125 143 146 180 179 145 198 96 130 61 161 140 171 94 176 226 130 193 191 143 262 130 213 118 227 120 179 137 147 170 153 100 139 87 162 138 144 191 154 238 131 151 101 123 211 142 98 122 198 162 110 228 101 110 182 154 149 136 93 114 104 153 181 108 183 173 116 130 185 99 166 181 156 263 185 233 219 109 151 126 73 168 185 179 100 137 184 176 114 91 112 76 171 200 128 156 127 110 124 169 146 217 169 137 131 156 195 59 91 182 189 246 69 159 135 154 211 157 86 189 149 181 171 107 152 201 259 163 73 204 232 149 164 185 170 134 132 115 155 188 166 112 157 129 199 192 94 171 152 170 117 178 200 172 217 142 124 253 185 202 164 138 138 139 170 125 159 206 169 146 255 129 148 167' is not a valid format string (unrecognized character '0')",
     "output_type": "error",
     "traceback": [
      "\u001b[0;31m---------------------------------------------------------------------------\u001b[0m",
      "\u001b[0;31mValueError\u001b[0m                                Traceback (most recent call last)",
      "Cell \u001b[0;32mIn[21], line 1\u001b[0m\n\u001b[0;32m----> 1\u001b[0m \u001b[43mplt\u001b[49m\u001b[38;5;241;43m.\u001b[39;49m\u001b[43mplot\u001b[49m\u001b[43m(\u001b[49m\u001b[43mvec\u001b[49m\u001b[38;5;241;43m.\u001b[39;49m\u001b[43mvectime\u001b[49m\u001b[43m,\u001b[49m\u001b[43mvec\u001b[49m\u001b[38;5;241;43m.\u001b[39;49m\u001b[43mvecvalue\u001b[49m\u001b[43m,\u001b[49m\u001b[43mdrawstyle\u001b[49m\u001b[38;5;241;43m=\u001b[39;49m\u001b[38;5;124;43m'\u001b[39;49m\u001b[38;5;124;43msteps-post\u001b[39;49m\u001b[38;5;124;43m'\u001b[39;49m\u001b[43m)\u001b[49m\n",
      "File \u001b[0;32m/usr/local/lib/python3.10/site-packages/matplotlib/pyplot.py:2740\u001b[0m, in \u001b[0;36mplot\u001b[0;34m(scalex, scaley, data, *args, **kwargs)\u001b[0m\n\u001b[1;32m   2738\u001b[0m \u001b[38;5;129m@_copy_docstring_and_deprecators\u001b[39m(Axes\u001b[38;5;241m.\u001b[39mplot)\n\u001b[1;32m   2739\u001b[0m \u001b[38;5;28;01mdef\u001b[39;00m \u001b[38;5;21mplot\u001b[39m(\u001b[38;5;241m*\u001b[39margs, scalex\u001b[38;5;241m=\u001b[39m\u001b[38;5;28;01mTrue\u001b[39;00m, scaley\u001b[38;5;241m=\u001b[39m\u001b[38;5;28;01mTrue\u001b[39;00m, data\u001b[38;5;241m=\u001b[39m\u001b[38;5;28;01mNone\u001b[39;00m, \u001b[38;5;241m*\u001b[39m\u001b[38;5;241m*\u001b[39mkwargs):\n\u001b[0;32m-> 2740\u001b[0m     \u001b[38;5;28;01mreturn\u001b[39;00m \u001b[43mgca\u001b[49m\u001b[43m(\u001b[49m\u001b[43m)\u001b[49m\u001b[38;5;241;43m.\u001b[39;49m\u001b[43mplot\u001b[49m\u001b[43m(\u001b[49m\n\u001b[1;32m   2741\u001b[0m \u001b[43m        \u001b[49m\u001b[38;5;241;43m*\u001b[39;49m\u001b[43margs\u001b[49m\u001b[43m,\u001b[49m\u001b[43m \u001b[49m\u001b[43mscalex\u001b[49m\u001b[38;5;241;43m=\u001b[39;49m\u001b[43mscalex\u001b[49m\u001b[43m,\u001b[49m\u001b[43m \u001b[49m\u001b[43mscaley\u001b[49m\u001b[38;5;241;43m=\u001b[39;49m\u001b[43mscaley\u001b[49m\u001b[43m,\u001b[49m\n\u001b[1;32m   2742\u001b[0m \u001b[43m        \u001b[49m\u001b[38;5;241;43m*\u001b[39;49m\u001b[38;5;241;43m*\u001b[39;49m\u001b[43m(\u001b[49m\u001b[43m{\u001b[49m\u001b[38;5;124;43m\"\u001b[39;49m\u001b[38;5;124;43mdata\u001b[39;49m\u001b[38;5;124;43m\"\u001b[39;49m\u001b[43m:\u001b[49m\u001b[43m \u001b[49m\u001b[43mdata\u001b[49m\u001b[43m}\u001b[49m\u001b[43m \u001b[49m\u001b[38;5;28;43;01mif\u001b[39;49;00m\u001b[43m \u001b[49m\u001b[43mdata\u001b[49m\u001b[43m \u001b[49m\u001b[38;5;129;43;01mis\u001b[39;49;00m\u001b[43m \u001b[49m\u001b[38;5;129;43;01mnot\u001b[39;49;00m\u001b[43m \u001b[49m\u001b[38;5;28;43;01mNone\u001b[39;49;00m\u001b[43m \u001b[49m\u001b[38;5;28;43;01melse\u001b[39;49;00m\u001b[43m \u001b[49m\u001b[43m{\u001b[49m\u001b[43m}\u001b[49m\u001b[43m)\u001b[49m\u001b[43m,\u001b[49m\u001b[43m \u001b[49m\u001b[38;5;241;43m*\u001b[39;49m\u001b[38;5;241;43m*\u001b[39;49m\u001b[43mkwargs\u001b[49m\u001b[43m)\u001b[49m\n",
      "File \u001b[0;32m/usr/local/lib/python3.10/site-packages/matplotlib/axes/_axes.py:1662\u001b[0m, in \u001b[0;36mAxes.plot\u001b[0;34m(self, scalex, scaley, data, *args, **kwargs)\u001b[0m\n\u001b[1;32m   1419\u001b[0m \u001b[38;5;124;03m\"\"\"\u001b[39;00m\n\u001b[1;32m   1420\u001b[0m \u001b[38;5;124;03mPlot y versus x as lines and/or markers.\u001b[39;00m\n\u001b[1;32m   1421\u001b[0m \n\u001b[0;32m   (...)\u001b[0m\n\u001b[1;32m   1659\u001b[0m \u001b[38;5;124;03m(``'green'``) or hex strings (``'#008000'``).\u001b[39;00m\n\u001b[1;32m   1660\u001b[0m \u001b[38;5;124;03m\"\"\"\u001b[39;00m\n\u001b[1;32m   1661\u001b[0m kwargs \u001b[38;5;241m=\u001b[39m cbook\u001b[38;5;241m.\u001b[39mnormalize_kwargs(kwargs, mlines\u001b[38;5;241m.\u001b[39mLine2D)\n\u001b[0;32m-> 1662\u001b[0m lines \u001b[38;5;241m=\u001b[39m [\u001b[38;5;241m*\u001b[39m\u001b[38;5;28mself\u001b[39m\u001b[38;5;241m.\u001b[39m_get_lines(\u001b[38;5;241m*\u001b[39margs, data\u001b[38;5;241m=\u001b[39mdata, \u001b[38;5;241m*\u001b[39m\u001b[38;5;241m*\u001b[39mkwargs)]\n\u001b[1;32m   1663\u001b[0m \u001b[38;5;28;01mfor\u001b[39;00m line \u001b[38;5;129;01min\u001b[39;00m lines:\n\u001b[1;32m   1664\u001b[0m     \u001b[38;5;28mself\u001b[39m\u001b[38;5;241m.\u001b[39madd_line(line)\n",
      "File \u001b[0;32m/usr/local/lib/python3.10/site-packages/matplotlib/axes/_base.py:311\u001b[0m, in \u001b[0;36m_process_plot_var_args.__call__\u001b[0;34m(self, data, *args, **kwargs)\u001b[0m\n\u001b[1;32m    309\u001b[0m     this \u001b[38;5;241m+\u001b[39m\u001b[38;5;241m=\u001b[39m args[\u001b[38;5;241m0\u001b[39m],\n\u001b[1;32m    310\u001b[0m     args \u001b[38;5;241m=\u001b[39m args[\u001b[38;5;241m1\u001b[39m:]\n\u001b[0;32m--> 311\u001b[0m \u001b[38;5;28;01myield from\u001b[39;00m \u001b[38;5;28;43mself\u001b[39;49m\u001b[38;5;241;43m.\u001b[39;49m\u001b[43m_plot_args\u001b[49m\u001b[43m(\u001b[49m\n\u001b[1;32m    312\u001b[0m \u001b[43m    \u001b[49m\u001b[43mthis\u001b[49m\u001b[43m,\u001b[49m\u001b[43m \u001b[49m\u001b[43mkwargs\u001b[49m\u001b[43m,\u001b[49m\u001b[43m \u001b[49m\u001b[43mambiguous_fmt_datakey\u001b[49m\u001b[38;5;241;43m=\u001b[39;49m\u001b[43mambiguous_fmt_datakey\u001b[49m\u001b[43m)\u001b[49m\n",
      "File \u001b[0;32m/usr/local/lib/python3.10/site-packages/matplotlib/axes/_base.py:454\u001b[0m, in \u001b[0;36m_process_plot_var_args._plot_args\u001b[0;34m(self, tup, kwargs, return_kwargs, ambiguous_fmt_datakey)\u001b[0m\n\u001b[1;32m    451\u001b[0m \u001b[38;5;28;01mif\u001b[39;00m \u001b[38;5;28mlen\u001b[39m(tup) \u001b[38;5;241m>\u001b[39m \u001b[38;5;241m1\u001b[39m \u001b[38;5;129;01mand\u001b[39;00m \u001b[38;5;28misinstance\u001b[39m(tup[\u001b[38;5;241m-\u001b[39m\u001b[38;5;241m1\u001b[39m], \u001b[38;5;28mstr\u001b[39m):\n\u001b[1;32m    452\u001b[0m     \u001b[38;5;66;03m# xy is tup with fmt stripped (could still be (y,) only)\u001b[39;00m\n\u001b[1;32m    453\u001b[0m     \u001b[38;5;241m*\u001b[39mxy, fmt \u001b[38;5;241m=\u001b[39m tup\n\u001b[0;32m--> 454\u001b[0m     linestyle, marker, color \u001b[38;5;241m=\u001b[39m \u001b[43m_process_plot_format\u001b[49m\u001b[43m(\u001b[49m\n\u001b[1;32m    455\u001b[0m \u001b[43m        \u001b[49m\u001b[43mfmt\u001b[49m\u001b[43m,\u001b[49m\u001b[43m \u001b[49m\u001b[43mambiguous_fmt_datakey\u001b[49m\u001b[38;5;241;43m=\u001b[39;49m\u001b[43mambiguous_fmt_datakey\u001b[49m\u001b[43m)\u001b[49m\n\u001b[1;32m    456\u001b[0m \u001b[38;5;28;01melif\u001b[39;00m \u001b[38;5;28mlen\u001b[39m(tup) \u001b[38;5;241m==\u001b[39m \u001b[38;5;241m3\u001b[39m:\n\u001b[1;32m    457\u001b[0m     \u001b[38;5;28;01mraise\u001b[39;00m \u001b[38;5;167;01mValueError\u001b[39;00m(\u001b[38;5;124m'\u001b[39m\u001b[38;5;124mthird arg must be a format string\u001b[39m\u001b[38;5;124m'\u001b[39m)\n",
      "File \u001b[0;32m/usr/local/lib/python3.10/site-packages/matplotlib/axes/_base.py:197\u001b[0m, in \u001b[0;36m_process_plot_format\u001b[0;34m(fmt, ambiguous_fmt_datakey)\u001b[0m\n\u001b[1;32m    195\u001b[0m         i \u001b[38;5;241m+\u001b[39m\u001b[38;5;241m=\u001b[39m \u001b[38;5;241m2\u001b[39m\n\u001b[1;32m    196\u001b[0m     \u001b[38;5;28;01melse\u001b[39;00m:\n\u001b[0;32m--> 197\u001b[0m         \u001b[38;5;28;01mraise\u001b[39;00m \u001b[38;5;167;01mValueError\u001b[39;00m(\n\u001b[1;32m    198\u001b[0m             errfmt\u001b[38;5;241m.\u001b[39mformat(fmt, \u001b[38;5;124mf\u001b[39m\u001b[38;5;124m\"\u001b[39m\u001b[38;5;124munrecognized character \u001b[39m\u001b[38;5;132;01m{\u001b[39;00mc\u001b[38;5;132;01m!r}\u001b[39;00m\u001b[38;5;124m\"\u001b[39m))\n\u001b[1;32m    200\u001b[0m \u001b[38;5;28;01mif\u001b[39;00m linestyle \u001b[38;5;129;01mis\u001b[39;00m \u001b[38;5;28;01mNone\u001b[39;00m \u001b[38;5;129;01mand\u001b[39;00m marker \u001b[38;5;129;01mis\u001b[39;00m \u001b[38;5;28;01mNone\u001b[39;00m:\n\u001b[1;32m    201\u001b[0m     linestyle \u001b[38;5;241m=\u001b[39m mpl\u001b[38;5;241m.\u001b[39mrcParams[\u001b[38;5;124m'\u001b[39m\u001b[38;5;124mlines.linestyle\u001b[39m\u001b[38;5;124m'\u001b[39m]\n",
      "\u001b[0;31mValueError\u001b[0m: '0 7 154 136 169 82 169 107 114 108 204 183 196 115 91 119 217 127 200 92 142 131 170 149 159 131 186 198 76 149 210 137 155 127 177 112 149 231 112 75 98 153 118 201 213 142 148 83 65 92 187 208 160 84 117 71 101 150 161 179 43 163 165 78 94 123 91 44 111 206 117 131 249 117 123 248 153 117 136 171 134 125 142 177 152 114 179 184 221 82 197 100 215 136 178 132 93 109 137 149 97 123 227 56 196 143 51 111 156 237 147 92 147 111 105 112 139 227 86 179 111 168 197 135 152 125 68 136 239 183 168 161 138 35 163 195 172 264 247 212 86 177 185 176 171 249 66 142 113 67 171 161 102 88 91 230 62 95 76 231 223 160 86 136 182 166 132 196 190 86 236 110 178 128 249 164 118 104 149 131 147 122 140 147 149 92 111 153 168 165 250 148 196 127 68 78 183 172 136 129 247 160 205 134 126 188 82 144 134 169 153 118 148 160 240 162 204 199 128 133 155 118 107 245 59 149 162 197 106 273 172 103 253 175 186 139 129 141 221 97 103 144 150 138 73 162 91 166 97 149 73 176 99 179 76 232 186 146 127 126 147 115 143 119 102 240 152 83 197 184 108 120 136 142 143 85 82 164 193 170 173 149 147 177 173 190 121 135 106 166 155 175 209 161 181 162 143 150 85 235 153 195 103 101 209 94 150 175 163 83 224 247 228 126 119 161 134 150 94 145 148 122 180 154 221 164 146 189 179 96 154 208 168 116 114 200 116 157 63 157 72 149 134 234 168 173 162 121 134 149 207 143 196 90 205 158 169 103 130 203 179 147 229 166 189 80 153 196 132 145 64 169 195 222 55 150 165 86 121 52 97 113 142 207 160 154 154 88 160 93 92 117 207 210 175 201 92 132 146 81 238 152 123 168 191 89 194 118 111 202 171 138 111 140 136 221 141 64 182 158 111 154 178 118 123 143 131 147 81 154 154 143 145 137 97 174 156 169 108 134 221 142 159 228 201 99 172 94 156 124 149 166 229 98 54 217 85 95 177 131 112 108 214 166 195 144 162 178 165 170 161 62 183 156 107 187 217 217 171 90 145 125 129 164 189 153 122 224 219 183 102 109 231 152 165 137 106 205 207 204 178 122 92 130 144 163 199 117 190 79 145 113 139 135 152 117 173 175 115 168 255 159 151 128 179 155 96 93 122 129 235 102 124 150 213 134 190 166 199 238 194 151 145 228 126 189 171 98 138 136 105 112 196 203 142 106 143 217 172 149 105 215 157 82 101 161 110 145 172 104 158 165 236 80 197 138 256 183 165 155 183 107 231 156 193 91 200 178 120 207 135 142 177 156 114 140 111 172 190 167 84 242 134 56 128 148 146 133 77 137 141 91 105 158 169 141 191 220 191 161 145 179 120 112 160 197 116 134 161 163 168 66 169 106 130 46 42 115 230 101 170 168 230 200 177 198 223 58 184 139 114 180 175 204 136 168 136 150 205 77 73 169 143 144 242 178 180 167 80 243 106 187 189 76 99 179 172 166 187 159 165 183 108 139 128 166 202 171 120 222 232 152 115 179 87 167 184 194 145 68 148 221 147 85 111 221 76 217 116 183 161 100 197 158 146 215 192 161 160 118 213 142 55 130 136 196 162 211 227 75 199 185 108 153 104 223 116 163 136 140 162 130 155 203 181 157 171 120 149 187 119 179 76 176 125 220 59 172 148 164 68 86 186 223 188 194 164 79 178 168 175 142 72 163 102 227 137 109 140 110 149 88 132 128 101 146 129 98 274 112 145 164 110 127 174 256 135 46 178 260 113 183 142 156 134 148 121 175 153 61 127 158 176 163 156 182 173 141 259 145 177 117 117 147 108 125 181 119 160 97 218 195 199 202 161 108 254 199 123 108 90 243 130 119 207 95 81 152 154 208 216 170 125 111 131 162 116 150 180 171 189 172 146 152 158 154 93 160 154 135 186 196 149 157 182 65 178 230 82 228 159 206 171 217 141 152 126 104 77 179 174 201 192 149 60 184 181 115 172 95 143 180 97 158 64 146 155 203 158 191 94 206 151 138 96 240 134 191 109 154 187 188 92 151 139 131 190 166 226 139 180 151 96 107 292 209 141 139 166 141 131 107 180 146 59 146 179 141 173 84 71 132 119 105 65 203 172 175 145 139 49 238 83 180 167 141 75 147 123 166 185 234 127 138 200 147 74 154 97 176 174 170 221 164 166 102 126 201 151 177 164 133 196 64 154 142 56 71 190 194 208 103 128 174 231 95 204 150 123 141 243 172 240 145 112 84 117 177 127 110 213 95 237 157 129 122 167 152 96 183 112 40 210 187 67 241 102 110 134 215 194 252 179 109 103 194 234 205 129 224 152 100 154 115 191 110 192 158 202 108 92 142 69 279 102 172 168 167 109 263 91 174 124 200 137 183 129 193 181 123 119 115 100 185 165 162 100 180 141 117 155 190 138 167 192 178 162 82 159 149 119 182 130 115 148 103 146 109 170 186 198 200 131 106 158 175 130 216 172 246 119 148 107 198 179 138 148 156 194 167 173 222 128 129 224 176 82 198 107 169 132 190 119 72 206 164 163 165 108 69 139 134 186 117 116 243 163 172 151 194 209 189 90 199 174 170 82 155 189 130 138 120 150 126 48 171 167 156 112 146 108 204 53 141 189 118 109 91 146 143 83 187 153 92 170 220 204 219 170 64 141 104 162 217 153 100 156 214 97 275 57 147 73 188 196 265 205 86 88 126 119 225 77 188 220 115 150 174 127 107 127 113 80 138 161 222 58 235 169 66 174 179 149 107 212 116 154 122 84 106 194 67 178 166 206 118 172 164 153 75 77 113 103 145 233 141 147 109 125 105 194 203 157 170 53 70 171 155 121 125 177 116 66 152 160 151 262 147 231 88 205 117 224 98 198 218 156 161 196 193 132 161 95 81 87 220 128 223 143 174 84 127 129 164 243 247 96 138 150 232 127 199 96 185 149 87 186 97 203 141 146 195 115 152 145 160 197 121 151 170 128 103 137 178 118 189 99 152 215 176 126 150 184 102 156 220 142 181 170 187 184 116 166 174 129 220 176 137 187 166 109 228 116 212 158 237 190 110 184 128 159 122 160 112 138 221 202 53 223 190 138 206 130 144 197 143 90 168 111 206 94 76 199 163 136 169 188 163 122 101 169 164 131 229 114 75 225 102 118 135 107 103 142 112 159 163 119 104 124 173 150 127 194 224 138 112 136 145 96 125 178 139 154 91 129 135 204 183 155 161 57 118 235 196 87 156 88 102 160 141 123 135 202 158 179 128 148 185 169 130 177 142 247 146 170 158 154 104 128 97 168 104 156 117 147 158 127 165 214 109 143 223 85 129 118 68 103 162 90 129 167 125 166 198 106 195 140 112 80 129 126 241 181 154 143 208 171 161 147 155 220 156 178 144 89 189 172 77 142 115 84 213 105 180 202 133 169 107 146 112 156 216 163 159 188 199 162 106 110 156 132 211 203 145 185 220 56 70 150 128 136 217 147 188 239 131 137 112 166 203 187 163 159 175 145 126 92 150 207 171 99 79 57 237 210 164 120 154 227 155 84 177 231 166 97 207 99 174 216 189 234 248 130 112 103 171 169 146 171 154 92 97 160 251 103 246 188 102 56 46 183 118 111 198 110 229 204 151 105 158 188 169 192 143 91 116 166 140 156 154 50 119 82 125 213 191 139 150 200 140 104 72 133 124 139 186 106 95 86 132 109 120 169 114 197 56 111 91 172 142 136 261 145 85 58 120 148 292 171 101 72 236 165 164 89 133 150 165 132 96 213 131 217 72 160 232 60 114 142 118 170 129 149 248 192 70 176 159 141 195 95 74 183 112 166 144 149 244 151 138 120 116 55 213 176 98 161 116 89 263 181 156 198 153 117 116 180 110 134 179 157 164 238 137 150 207 151 204 137 157 115 173 159 215 141 229 126 225 155 176 138 153 147 93 90 157 125 148 105 92 173 78 222 89 184 117 200 92 102 200 221 103 161 178 116 213 152 236 127 100 146 166 175 123 133 187 120 169 152 147 91 123 149 88 193 152 70 145 208 137 218 180 223 83 195 142 208 143 153 156 145 118 172 142 99 169 174 109 98 161 210 124 128 163 151 206 179 147 249 227 134 98 137 194 202 146 172 163 130 162 165 155 106 116 141 138 149 247 114 139 91 116 210 138 184 158 70 165 180 176 174 212 123 153 253 75 172 164 182 79 200 161 206 146 131 206 173 117 100 183 187 116 89 106 215 157 92 101 134 83 130 129 148 173 158 134 146 129 218 38 114 190 119 196 120 212 253 129 163 157 186 134 179 211 150 101 67 190 139 95 73 133 144 118 167 167 175 155 204 153 143 152 152 192 173 29 157 183 231 153 134 103 123 209 156 156 197 178 85 133 117 196 132 167 239 165 111 191 140 219 112 194 164 185 160 247 138 202 153 98 110 136 125 184 150 110 159 226 134 169 126 193 146 121 163 48 82 216 202 156 215 168 129 136 190 165 95 213 156 210 148 108 62 76 101 66 191 186 144 154 205 112 223 197 108 100 143 176 80 180 171 127 98 189 125 114 175 129 135 153 121 194 197 133 144 143 43 238 149 180 206 106 97 123 169 169 123 157 182 133 231 108 81 224 86 177 102 224 156 111 165 134 163 134 148 100 183 181 99 172 178 136 126 175 150 168 151 253 135 111 150 50 129 85 144 162 162 130 84 196 153 197 203 123 100 108 219 162 150 64 151 265 115 204 178 156 142 233 70 99 143 145 140 198 165 92 211 177 224 105 110 155 151 146 116 114 153 193 111 169 200 201 206 141 227 164 195 145 95 197 214 103 174 131 83 97 89 151 189 89 157 223 113 167 174 183 176 100 132 174 100 207 197 161 158 184 218 111 151 94 105 182 101 129 136 102 145 141 83 93 173 87 187 176 175 101 218 80 81 78 146 133 184 174 122 209 143 155 261 74 128 261 137 160 213 143 186 141 183 139 165 89 136 225 143 120 117 152 109 99 75 180 159 111 117 119 179 163 183 210 145 162 121 235 202 175 136 198 153 101 187 188 125 172 134 179 187 99 226 173 95 187 153 200 102 89 176 202 155 155 179 162 131 96 142 98 152 129 163 54 136 188 170 149 120 97 177 194 98 204 187 210 159 76 169 276 141 179 135 117 151 133 147 73 172 153 208 98 225 46 165 150 136 118 230 153 117 158 106 122 128 211 200 121 158 165 198 109 168 160 111 148 212 119 144 120 97 192 135 134 112 103 219 210 177 196 147 197 138 90 161 225 101 81 155 126 193 121 154 120 156 167 235 122 143 172 174 149 133 206 248 121 132 162 119 126 130 80 165 161 213 43 145 152 140 192 193 112 69 206 127 115 252 141 107 188 180 133 123 169 183 140 117 163 53 245 158 161 202 225 206 153 184 144 216 193 183 100 208 140 58 123 121 184 184 145 184 142 189 146 145 173 98 123 108 106 103 82 198 136 205 101 152 135 144 136 202 153 185 176 262 136 168 240 101 201 156 79 104 173 186 91 150 71 125 161 109 74 135 132 65 204 149 136 199 129 209 90 163 116 126 73 185 183 153 215 237 115 160 111 196 157 42 170 163 133 165 118 213 141 221 145 84 185 162 94 115 134 194 213 60 201 132 148 123 176 215 173 89 131 118 198 173 151 130 197 141 143 196 131 111 131 114 216 219 119 142 180 47 170 169 167 228 90 202 142 103 179 201 110 80 133 218 117 163 212 138 195 230 133 134 264 81 175 208 137 117 156 152 261 137 140 204 244 227 220 120 181 149 164 46 87 136 101 137 92 157 124 135 178 208 163 158 145 225 168 149 143 243 198 171 134 153 214 198 272 190 228 114 96 129 203 186 206 127 164 104 220 182 182 106 211 167 153 176 38 184 105 168 115 188 148 134 141 108 169 103 165 101 123 186 167 111 85 78 202 131 114 134 149 79 53 152 187 133 103 248 137 168 89 178 107 134 154 139 165 183 219 208 191 240 220 188 178 148 165 214 149 130 217 115 170 157 148 128 212 271 201 133 139 185 233 200 88 110 228 120 152 163 113 171 158 117 163 194 139 137 139 231 118 163 125 129 130 180 147 249 108 94 61 142 109 178 245 189 106 99 130 124 83 159 85 183 96 161 135 126 142 70 111 88 151 144 139 211 167 155 140 109 184 207 84 86 176 130 145 178 158 107 189 187 141 144 121 156 148 86 109 142 135 209 195 133 46 151 160 172 133 128 127 120 184 131 225 184 168 97 160 131 159 98 205 167 134 141 132 192 158 177 137 125 230 131 139 120 194 213 151 21 141 156 106 228 151 118 107 149 193 179 90 130 165 175 132 161 135 166 125 143 146 180 179 145 198 96 130 61 161 140 171 94 176 226 130 193 191 143 262 130 213 118 227 120 179 137 147 170 153 100 139 87 162 138 144 191 154 238 131 151 101 123 211 142 98 122 198 162 110 228 101 110 182 154 149 136 93 114 104 153 181 108 183 173 116 130 185 99 166 181 156 263 185 233 219 109 151 126 73 168 185 179 100 137 184 176 114 91 112 76 171 200 128 156 127 110 124 169 146 217 169 137 131 156 195 59 91 182 189 246 69 159 135 154 211 157 86 189 149 181 171 107 152 201 259 163 73 204 232 149 164 185 170 134 132 115 155 188 166 112 157 129 199 192 94 171 152 170 117 178 200 172 217 142 124 253 185 202 164 138 138 139 170 125 159 206 169 146 255 129 148 167' is not a valid format string (unrecognized character '0')"
     ]
    },
    {
     "data": {
      "image/png": "[encoded data removed]",
      "text/plain": [
       "<Figure size 640x480 with 1 Axes>"
      ]
     },
     "metadata": {},
     "output_type": "display_data"
    }
   ],
   "source": [
    "pl"
   ]
  },
  {
   "cell_type": "code",
   "execution_count": 23,
   "id": "058dd691",
   "metadata": {},
   "outputs": [
    {
     "data": {
      "text/plain": [
       "<function matplotlib.pyplot.show(close=None, block=None)>"
      ]
     },
     "execution_count": 23,
     "metadata": {},
     "output_type": "execute_result"
    }
   ],
   "source": [
    "plt.show"
   ]
  },
  {
   "cell_type": "code",
   "execution_count": 24,
   "id": "3f916622",
   "metadata": {},
   "outputs": [],
   "source": [
    "plt.show()"
   ]
  },
  {
   "cell_type": "code",
   "execution_count": 25,
   "id": "713b244d",
   "metadata": {},
   "outputs": [
    {
     "data": {
      "text/plain": [
       "(0.0, 100.0)"
      ]
     },
     "execution_count": 25,
     "metadata": {},
     "output_type": "execute_result"
    },
    {
     "data": {
      "image/png": "[encoded data removed]",
      "text/plain": [
       "<Figure size 640x480 with 1 Axes>"
      ]
     },
     "metadata": {},
     "output_type": "display_data"
    }
   ],
   "source": [
    "plt.xlim(0,100)"
   ]
  },
  {
   "cell_type": "code",
   "execution_count": 26,
   "id": "fa4adaeb",
   "metadata": {},
   "outputs": [],
   "source": [
    "plt.show()"
   ]
  },
  {
   "cell_type": "code",
   "execution_count": 27,
   "id": "7b000c5f",
   "metadata": {},
   "outputs": [
    {
     "ename": "ValueError",
     "evalue": "'0 7 154 136 169 82 169 107 114 108 204 183 196 115 91 119 217 127 200 92 142 131 170 149 159 131 186 198 76 149 210 137 155 127 177 112 149 231 112 75 98 153 118 201 213 142 148 83 65 92 187 208 160 84 117 71 101 150 161 179 43 163 165 78 94 123 91 44 111 206 117 131 249 117 123 248 153 117 136 171 134 125 142 177 152 114 179 184 221 82 197 100 215 136 178 132 93 109 137 149 97 123 227 56 196 143 51 111 156 237 147 92 147 111 105 112 139 227 86 179 111 168 197 135 152 125 68 136 239 183 168 161 138 35 163 195 172 264 247 212 86 177 185 176 171 249 66 142 113 67 171 161 102 88 91 230 62 95 76 231 223 160 86 136 182 166 132 196 190 86 236 110 178 128 249 164 118 104 149 131 147 122 140 147 149 92 111 153 168 165 250 148 196 127 68 78 183 172 136 129 247 160 205 134 126 188 82 144 134 169 153 118 148 160 240 162 204 199 128 133 155 118 107 245 59 149 162 197 106 273 172 103 253 175 186 139 129 141 221 97 103 144 150 138 73 162 91 166 97 149 73 176 99 179 76 232 186 146 127 126 147 115 143 119 102 240 152 83 197 184 108 120 136 142 143 85 82 164 193 170 173 149 147 177 173 190 121 135 106 166 155 175 209 161 181 162 143 150 85 235 153 195 103 101 209 94 150 175 163 83 224 247 228 126 119 161 134 150 94 145 148 122 180 154 221 164 146 189 179 96 154 208 168 116 114 200 116 157 63 157 72 149 134 234 168 173 162 121 134 149 207 143 196 90 205 158 169 103 130 203 179 147 229 166 189 80 153 196 132 145 64 169 195 222 55 150 165 86 121 52 97 113 142 207 160 154 154 88 160 93 92 117 207 210 175 201 92 132 146 81 238 152 123 168 191 89 194 118 111 202 171 138 111 140 136 221 141 64 182 158 111 154 178 118 123 143 131 147 81 154 154 143 145 137 97 174 156 169 108 134 221 142 159 228 201 99 172 94 156 124 149 166 229 98 54 217 85 95 177 131 112 108 214 166 195 144 162 178 165 170 161 62 183 156 107 187 217 217 171 90 145 125 129 164 189 153 122 224 219 183 102 109 231 152 165 137 106 205 207 204 178 122 92 130 144 163 199 117 190 79 145 113 139 135 152 117 173 175 115 168 255 159 151 128 179 155 96 93 122 129 235 102 124 150 213 134 190 166 199 238 194 151 145 228 126 189 171 98 138 136 105 112 196 203 142 106 143 217 172 149 105 215 157 82 101 161 110 145 172 104 158 165 236 80 197 138 256 183 165 155 183 107 231 156 193 91 200 178 120 207 135 142 177 156 114 140 111 172 190 167 84 242 134 56 128 148 146 133 77 137 141 91 105 158 169 141 191 220 191 161 145 179 120 112 160 197 116 134 161 163 168 66 169 106 130 46 42 115 230 101 170 168 230 200 177 198 223 58 184 139 114 180 175 204 136 168 136 150 205 77 73 169 143 144 242 178 180 167 80 243 106 187 189 76 99 179 172 166 187 159 165 183 108 139 128 166 202 171 120 222 232 152 115 179 87 167 184 194 145 68 148 221 147 85 111 221 76 217 116 183 161 100 197 158 146 215 192 161 160 118 213 142 55 130 136 196 162 211 227 75 199 185 108 153 104 223 116 163 136 140 162 130 155 203 181 157 171 120 149 187 119 179 76 176 125 220 59 172 148 164 68 86 186 223 188 194 164 79 178 168 175 142 72 163 102 227 137 109 140 110 149 88 132 128 101 146 129 98 274 112 145 164 110 127 174 256 135 46 178 260 113 183 142 156 134 148 121 175 153 61 127 158 176 163 156 182 173 141 259 145 177 117 117 147 108 125 181 119 160 97 218 195 199 202 161 108 254 199 123 108 90 243 130 119 207 95 81 152 154 208 216 170 125 111 131 162 116 150 180 171 189 172 146 152 158 154 93 160 154 135 186 196 149 157 182 65 178 230 82 228 159 206 171 217 141 152 126 104 77 179 174 201 192 149 60 184 181 115 172 95 143 180 97 158 64 146 155 203 158 191 94 206 151 138 96 240 134 191 109 154 187 188 92 151 139 131 190 166 226 139 180 151 96 107 292 209 141 139 166 141 131 107 180 146 59 146 179 141 173 84 71 132 119 105 65 203 172 175 145 139 49 238 83 180 167 141 75 147 123 166 185 234 127 138 200 147 74 154 97 176 174 170 221 164 166 102 126 201 151 177 164 133 196 64 154 142 56 71 190 194 208 103 128 174 231 95 204 150 123 141 243 172 240 145 112 84 117 177 127 110 213 95 237 157 129 122 167 152 96 183 112 40 210 187 67 241 102 110 134 215 194 252 179 109 103 194 234 205 129 224 152 100 154 115 191 110 192 158 202 108 92 142 69 279 102 172 168 167 109 263 91 174 124 200 137 183 129 193 181 123 119 115 100 185 165 162 100 180 141 117 155 190 138 167 192 178 162 82 159 149 119 182 130 115 148 103 146 109 170 186 198 200 131 106 158 175 130 216 172 246 119 148 107 198 179 138 148 156 194 167 173 222 128 129 224 176 82 198 107 169 132 190 119 72 206 164 163 165 108 69 139 134 186 117 116 243 163 172 151 194 209 189 90 199 174 170 82 155 189 130 138 120 150 126 48 171 167 156 112 146 108 204 53 141 189 118 109 91 146 143 83 187 153 92 170 220 204 219 170 64 141 104 162 217 153 100 156 214 97 275 57 147 73 188 196 265 205 86 88 126 119 225 77 188 220 115 150 174 127 107 127 113 80 138 161 222 58 235 169 66 174 179 149 107 212 116 154 122 84 106 194 67 178 166 206 118 172 164 153 75 77 113 103 145 233 141 147 109 125 105 194 203 157 170 53 70 171 155 121 125 177 116 66 152 160 151 262 147 231 88 205 117 224 98 198 218 156 161 196 193 132 161 95 81 87 220 128 223 143 174 84 127 129 164 243 247 96 138 150 232 127 199 96 185 149 87 186 97 203 141 146 195 115 152 145 160 197 121 151 170 128 103 137 178 118 189 99 152 215 176 126 150 184 102 156 220 142 181 170 187 184 116 166 174 129 220 176 137 187 166 109 228 116 212 158 237 190 110 184 128 159 122 160 112 138 221 202 53 223 190 138 206 130 144 197 143 90 168 111 206 94 76 199 163 136 169 188 163 122 101 169 164 131 229 114 75 225 102 118 135 107 103 142 112 159 163 119 104 124 173 150 127 194 224 138 112 136 145 96 125 178 139 154 91 129 135 204 183 155 161 57 118 235 196 87 156 88 102 160 141 123 135 202 158 179 128 148 185 169 130 177 142 247 146 170 158 154 104 128 97 168 104 156 117 147 158 127 165 214 109 143 223 85 129 118 68 103 162 90 129 167 125 166 198 106 195 140 112 80 129 126 241 181 154 143 208 171 161 147 155 220 156 178 144 89 189 172 77 142 115 84 213 105 180 202 133 169 107 146 112 156 216 163 159 188 199 162 106 110 156 132 211 203 145 185 220 56 70 150 128 136 217 147 188 239 131 137 112 166 203 187 163 159 175 145 126 92 150 207 171 99 79 57 237 210 164 120 154 227 155 84 177 231 166 97 207 99 174 216 189 234 248 130 112 103 171 169 146 171 154 92 97 160 251 103 246 188 102 56 46 183 118 111 198 110 229 204 151 105 158 188 169 192 143 91 116 166 140 156 154 50 119 82 125 213 191 139 150 200 140 104 72 133 124 139 186 106 95 86 132 109 120 169 114 197 56 111 91 172 142 136 261 145 85 58 120 148 292 171 101 72 236 165 164 89 133 150 165 132 96 213 131 217 72 160 232 60 114 142 118 170 129 149 248 192 70 176 159 141 195 95 74 183 112 166 144 149 244 151 138 120 116 55 213 176 98 161 116 89 263 181 156 198 153 117 116 180 110 134 179 157 164 238 137 150 207 151 204 137 157 115 173 159 215 141 229 126 225 155 176 138 153 147 93 90 157 125 148 105 92 173 78 222 89 184 117 200 92 102 200 221 103 161 178 116 213 152 236 127 100 146 166 175 123 133 187 120 169 152 147 91 123 149 88 193 152 70 145 208 137 218 180 223 83 195 142 208 143 153 156 145 118 172 142 99 169 174 109 98 161 210 124 128 163 151 206 179 147 249 227 134 98 137 194 202 146 172 163 130 162 165 155 106 116 141 138 149 247 114 139 91 116 210 138 184 158 70 165 180 176 174 212 123 153 253 75 172 164 182 79 200 161 206 146 131 206 173 117 100 183 187 116 89 106 215 157 92 101 134 83 130 129 148 173 158 134 146 129 218 38 114 190 119 196 120 212 253 129 163 157 186 134 179 211 150 101 67 190 139 95 73 133 144 118 167 167 175 155 204 153 143 152 152 192 173 29 157 183 231 153 134 103 123 209 156 156 197 178 85 133 117 196 132 167 239 165 111 191 140 219 112 194 164 185 160 247 138 202 153 98 110 136 125 184 150 110 159 226 134 169 126 193 146 121 163 48 82 216 202 156 215 168 129 136 190 165 95 213 156 210 148 108 62 76 101 66 191 186 144 154 205 112 223 197 108 100 143 176 80 180 171 127 98 189 125 114 175 129 135 153 121 194 197 133 144 143 43 238 149 180 206 106 97 123 169 169 123 157 182 133 231 108 81 224 86 177 102 224 156 111 165 134 163 134 148 100 183 181 99 172 178 136 126 175 150 168 151 253 135 111 150 50 129 85 144 162 162 130 84 196 153 197 203 123 100 108 219 162 150 64 151 265 115 204 178 156 142 233 70 99 143 145 140 198 165 92 211 177 224 105 110 155 151 146 116 114 153 193 111 169 200 201 206 141 227 164 195 145 95 197 214 103 174 131 83 97 89 151 189 89 157 223 113 167 174 183 176 100 132 174 100 207 197 161 158 184 218 111 151 94 105 182 101 129 136 102 145 141 83 93 173 87 187 176 175 101 218 80 81 78 146 133 184 174 122 209 143 155 261 74 128 261 137 160 213 143 186 141 183 139 165 89 136 225 143 120 117 152 109 99 75 180 159 111 117 119 179 163 183 210 145 162 121 235 202 175 136 198 153 101 187 188 125 172 134 179 187 99 226 173 95 187 153 200 102 89 176 202 155 155 179 162 131 96 142 98 152 129 163 54 136 188 170 149 120 97 177 194 98 204 187 210 159 76 169 276 141 179 135 117 151 133 147 73 172 153 208 98 225 46 165 150 136 118 230 153 117 158 106 122 128 211 200 121 158 165 198 109 168 160 111 148 212 119 144 120 97 192 135 134 112 103 219 210 177 196 147 197 138 90 161 225 101 81 155 126 193 121 154 120 156 167 235 122 143 172 174 149 133 206 248 121 132 162 119 126 130 80 165 161 213 43 145 152 140 192 193 112 69 206 127 115 252 141 107 188 180 133 123 169 183 140 117 163 53 245 158 161 202 225 206 153 184 144 216 193 183 100 208 140 58 123 121 184 184 145 184 142 189 146 145 173 98 123 108 106 103 82 198 136 205 101 152 135 144 136 202 153 185 176 262 136 168 240 101 201 156 79 104 173 186 91 150 71 125 161 109 74 135 132 65 204 149 136 199 129 209 90 163 116 126 73 185 183 153 215 237 115 160 111 196 157 42 170 163 133 165 118 213 141 221 145 84 185 162 94 115 134 194 213 60 201 132 148 123 176 215 173 89 131 118 198 173 151 130 197 141 143 196 131 111 131 114 216 219 119 142 180 47 170 169 167 228 90 202 142 103 179 201 110 80 133 218 117 163 212 138 195 230 133 134 264 81 175 208 137 117 156 152 261 137 140 204 244 227 220 120 181 149 164 46 87 136 101 137 92 157 124 135 178 208 163 158 145 225 168 149 143 243 198 171 134 153 214 198 272 190 228 114 96 129 203 186 206 127 164 104 220 182 182 106 211 167 153 176 38 184 105 168 115 188 148 134 141 108 169 103 165 101 123 186 167 111 85 78 202 131 114 134 149 79 53 152 187 133 103 248 137 168 89 178 107 134 154 139 165 183 219 208 191 240 220 188 178 148 165 214 149 130 217 115 170 157 148 128 212 271 201 133 139 185 233 200 88 110 228 120 152 163 113 171 158 117 163 194 139 137 139 231 118 163 125 129 130 180 147 249 108 94 61 142 109 178 245 189 106 99 130 124 83 159 85 183 96 161 135 126 142 70 111 88 151 144 139 211 167 155 140 109 184 207 84 86 176 130 145 178 158 107 189 187 141 144 121 156 148 86 109 142 135 209 195 133 46 151 160 172 133 128 127 120 184 131 225 184 168 97 160 131 159 98 205 167 134 141 132 192 158 177 137 125 230 131 139 120 194 213 151 21 141 156 106 228 151 118 107 149 193 179 90 130 165 175 132 161 135 166 125 143 146 180 179 145 198 96 130 61 161 140 171 94 176 226 130 193 191 143 262 130 213 118 227 120 179 137 147 170 153 100 139 87 162 138 144 191 154 238 131 151 101 123 211 142 98 122 198 162 110 228 101 110 182 154 149 136 93 114 104 153 181 108 183 173 116 130 185 99 166 181 156 263 185 233 219 109 151 126 73 168 185 179 100 137 184 176 114 91 112 76 171 200 128 156 127 110 124 169 146 217 169 137 131 156 195 59 91 182 189 246 69 159 135 154 211 157 86 189 149 181 171 107 152 201 259 163 73 204 232 149 164 185 170 134 132 115 155 188 166 112 157 129 199 192 94 171 152 170 117 178 200 172 217 142 124 253 185 202 164 138 138 139 170 125 159 206 169 146 255 129 148 167' is not a valid format string (unrecognized character '0')",
     "output_type": "error",
     "traceback": [
      "\u001b[0;31m---------------------------------------------------------------------------\u001b[0m",
      "\u001b[0;31mValueError\u001b[0m                                Traceback (most recent call last)",
      "Cell \u001b[0;32mIn[27], line 1\u001b[0m\n\u001b[0;32m----> 1\u001b[0m \u001b[43mplt\u001b[49m\u001b[38;5;241;43m.\u001b[39;49m\u001b[43mplot\u001b[49m\u001b[43m(\u001b[49m\u001b[43mvec\u001b[49m\u001b[38;5;241;43m.\u001b[39;49m\u001b[43mvectime\u001b[49m\u001b[43m,\u001b[49m\u001b[43m \u001b[49m\u001b[43mvec\u001b[49m\u001b[38;5;241;43m.\u001b[39;49m\u001b[43mvecvalue\u001b[49m\u001b[43m)\u001b[49m\n",
      "File \u001b[0;32m/usr/local/lib/python3.10/site-packages/matplotlib/pyplot.py:2740\u001b[0m, in \u001b[0;36mplot\u001b[0;34m(scalex, scaley, data, *args, **kwargs)\u001b[0m\n\u001b[1;32m   2738\u001b[0m \u001b[38;5;129m@_copy_docstring_and_deprecators\u001b[39m(Axes\u001b[38;5;241m.\u001b[39mplot)\n\u001b[1;32m   2739\u001b[0m \u001b[38;5;28;01mdef\u001b[39;00m \u001b[38;5;21mplot\u001b[39m(\u001b[38;5;241m*\u001b[39margs, scalex\u001b[38;5;241m=\u001b[39m\u001b[38;5;28;01mTrue\u001b[39;00m, scaley\u001b[38;5;241m=\u001b[39m\u001b[38;5;28;01mTrue\u001b[39;00m, data\u001b[38;5;241m=\u001b[39m\u001b[38;5;28;01mNone\u001b[39;00m, \u001b[38;5;241m*\u001b[39m\u001b[38;5;241m*\u001b[39mkwargs):\n\u001b[0;32m-> 2740\u001b[0m     \u001b[38;5;28;01mreturn\u001b[39;00m \u001b[43mgca\u001b[49m\u001b[43m(\u001b[49m\u001b[43m)\u001b[49m\u001b[38;5;241;43m.\u001b[39;49m\u001b[43mplot\u001b[49m\u001b[43m(\u001b[49m\n\u001b[1;32m   2741\u001b[0m \u001b[43m        \u001b[49m\u001b[38;5;241;43m*\u001b[39;49m\u001b[43margs\u001b[49m\u001b[43m,\u001b[49m\u001b[43m \u001b[49m\u001b[43mscalex\u001b[49m\u001b[38;5;241;43m=\u001b[39;49m\u001b[43mscalex\u001b[49m\u001b[43m,\u001b[49m\u001b[43m \u001b[49m\u001b[43mscaley\u001b[49m\u001b[38;5;241;43m=\u001b[39;49m\u001b[43mscaley\u001b[49m\u001b[43m,\u001b[49m\n\u001b[1;32m   2742\u001b[0m \u001b[43m        \u001b[49m\u001b[38;5;241;43m*\u001b[39;49m\u001b[38;5;241;43m*\u001b[39;49m\u001b[43m(\u001b[49m\u001b[43m{\u001b[49m\u001b[38;5;124;43m\"\u001b[39;49m\u001b[38;5;124;43mdata\u001b[39;49m\u001b[38;5;124;43m\"\u001b[39;49m\u001b[43m:\u001b[49m\u001b[43m \u001b[49m\u001b[43mdata\u001b[49m\u001b[43m}\u001b[49m\u001b[43m \u001b[49m\u001b[38;5;28;43;01mif\u001b[39;49;00m\u001b[43m \u001b[49m\u001b[43mdata\u001b[49m\u001b[43m \u001b[49m\u001b[38;5;129;43;01mis\u001b[39;49;00m\u001b[43m \u001b[49m\u001b[38;5;129;43;01mnot\u001b[39;49;00m\u001b[43m \u001b[49m\u001b[38;5;28;43;01mNone\u001b[39;49;00m\u001b[43m \u001b[49m\u001b[38;5;28;43;01melse\u001b[39;49;00m\u001b[43m \u001b[49m\u001b[43m{\u001b[49m\u001b[43m}\u001b[49m\u001b[43m)\u001b[49m\u001b[43m,\u001b[49m\u001b[43m \u001b[49m\u001b[38;5;241;43m*\u001b[39;49m\u001b[38;5;241;43m*\u001b[39;49m\u001b[43mkwargs\u001b[49m\u001b[43m)\u001b[49m\n",
      "File \u001b[0;32m/usr/local/lib/python3.10/site-packages/matplotlib/axes/_axes.py:1662\u001b[0m, in \u001b[0;36mAxes.plot\u001b[0;34m(self, scalex, scaley, data, *args, **kwargs)\u001b[0m\n\u001b[1;32m   1419\u001b[0m \u001b[38;5;124;03m\"\"\"\u001b[39;00m\n\u001b[1;32m   1420\u001b[0m \u001b[38;5;124;03mPlot y versus x as lines and/or markers.\u001b[39;00m\n\u001b[1;32m   1421\u001b[0m \n\u001b[0;32m   (...)\u001b[0m\n\u001b[1;32m   1659\u001b[0m \u001b[38;5;124;03m(``'green'``) or hex strings (``'#008000'``).\u001b[39;00m\n\u001b[1;32m   1660\u001b[0m \u001b[38;5;124;03m\"\"\"\u001b[39;00m\n\u001b[1;32m   1661\u001b[0m kwargs \u001b[38;5;241m=\u001b[39m cbook\u001b[38;5;241m.\u001b[39mnormalize_kwargs(kwargs, mlines\u001b[38;5;241m.\u001b[39mLine2D)\n\u001b[0;32m-> 1662\u001b[0m lines \u001b[38;5;241m=\u001b[39m [\u001b[38;5;241m*\u001b[39m\u001b[38;5;28mself\u001b[39m\u001b[38;5;241m.\u001b[39m_get_lines(\u001b[38;5;241m*\u001b[39margs, data\u001b[38;5;241m=\u001b[39mdata, \u001b[38;5;241m*\u001b[39m\u001b[38;5;241m*\u001b[39mkwargs)]\n\u001b[1;32m   1663\u001b[0m \u001b[38;5;28;01mfor\u001b[39;00m line \u001b[38;5;129;01min\u001b[39;00m lines:\n\u001b[1;32m   1664\u001b[0m     \u001b[38;5;28mself\u001b[39m\u001b[38;5;241m.\u001b[39madd_line(line)\n",
      "File \u001b[0;32m/usr/local/lib/python3.10/site-packages/matplotlib/axes/_base.py:311\u001b[0m, in \u001b[0;36m_process_plot_var_args.__call__\u001b[0;34m(self, data, *args, **kwargs)\u001b[0m\n\u001b[1;32m    309\u001b[0m     this \u001b[38;5;241m+\u001b[39m\u001b[38;5;241m=\u001b[39m args[\u001b[38;5;241m0\u001b[39m],\n\u001b[1;32m    310\u001b[0m     args \u001b[38;5;241m=\u001b[39m args[\u001b[38;5;241m1\u001b[39m:]\n\u001b[0;32m--> 311\u001b[0m \u001b[38;5;28;01myield from\u001b[39;00m \u001b[38;5;28;43mself\u001b[39;49m\u001b[38;5;241;43m.\u001b[39;49m\u001b[43m_plot_args\u001b[49m\u001b[43m(\u001b[49m\n\u001b[1;32m    312\u001b[0m \u001b[43m    \u001b[49m\u001b[43mthis\u001b[49m\u001b[43m,\u001b[49m\u001b[43m \u001b[49m\u001b[43mkwargs\u001b[49m\u001b[43m,\u001b[49m\u001b[43m \u001b[49m\u001b[43mambiguous_fmt_datakey\u001b[49m\u001b[38;5;241;43m=\u001b[39;49m\u001b[43mambiguous_fmt_datakey\u001b[49m\u001b[43m)\u001b[49m\n",
      "File \u001b[0;32m/usr/local/lib/python3.10/site-packages/matplotlib/axes/_base.py:454\u001b[0m, in \u001b[0;36m_process_plot_var_args._plot_args\u001b[0;34m(self, tup, kwargs, return_kwargs, ambiguous_fmt_datakey)\u001b[0m\n\u001b[1;32m    451\u001b[0m \u001b[38;5;28;01mif\u001b[39;00m \u001b[38;5;28mlen\u001b[39m(tup) \u001b[38;5;241m>\u001b[39m \u001b[38;5;241m1\u001b[39m \u001b[38;5;129;01mand\u001b[39;00m \u001b[38;5;28misinstance\u001b[39m(tup[\u001b[38;5;241m-\u001b[39m\u001b[38;5;241m1\u001b[39m], \u001b[38;5;28mstr\u001b[39m):\n\u001b[1;32m    452\u001b[0m     \u001b[38;5;66;03m# xy is tup with fmt stripped (could still be (y,) only)\u001b[39;00m\n\u001b[1;32m    453\u001b[0m     \u001b[38;5;241m*\u001b[39mxy, fmt \u001b[38;5;241m=\u001b[39m tup\n\u001b[0;32m--> 454\u001b[0m     linestyle, marker, color \u001b[38;5;241m=\u001b[39m \u001b[43m_process_plot_format\u001b[49m\u001b[43m(\u001b[49m\n\u001b[1;32m    455\u001b[0m \u001b[43m        \u001b[49m\u001b[43mfmt\u001b[49m\u001b[43m,\u001b[49m\u001b[43m \u001b[49m\u001b[43mambiguous_fmt_datakey\u001b[49m\u001b[38;5;241;43m=\u001b[39;49m\u001b[43mambiguous_fmt_datakey\u001b[49m\u001b[43m)\u001b[49m\n\u001b[1;32m    456\u001b[0m \u001b[38;5;28;01melif\u001b[39;00m \u001b[38;5;28mlen\u001b[39m(tup) \u001b[38;5;241m==\u001b[39m \u001b[38;5;241m3\u001b[39m:\n\u001b[1;32m    457\u001b[0m     \u001b[38;5;28;01mraise\u001b[39;00m \u001b[38;5;167;01mValueError\u001b[39;00m(\u001b[38;5;124m'\u001b[39m\u001b[38;5;124mthird arg must be a format string\u001b[39m\u001b[38;5;124m'\u001b[39m)\n",
      "File \u001b[0;32m/usr/local/lib/python3.10/site-packages/matplotlib/axes/_base.py:197\u001b[0m, in \u001b[0;36m_process_plot_format\u001b[0;34m(fmt, ambiguous_fmt_datakey)\u001b[0m\n\u001b[1;32m    195\u001b[0m         i \u001b[38;5;241m+\u001b[39m\u001b[38;5;241m=\u001b[39m \u001b[38;5;241m2\u001b[39m\n\u001b[1;32m    196\u001b[0m     \u001b[38;5;28;01melse\u001b[39;00m:\n\u001b[0;32m--> 197\u001b[0m         \u001b[38;5;28;01mraise\u001b[39;00m \u001b[38;5;167;01mValueError\u001b[39;00m(\n\u001b[1;32m    198\u001b[0m             errfmt\u001b[38;5;241m.\u001b[39mformat(fmt, \u001b[38;5;124mf\u001b[39m\u001b[38;5;124m\"\u001b[39m\u001b[38;5;124munrecognized character \u001b[39m\u001b[38;5;132;01m{\u001b[39;00mc\u001b[38;5;132;01m!r}\u001b[39;00m\u001b[38;5;124m\"\u001b[39m))\n\u001b[1;32m    200\u001b[0m \u001b[38;5;28;01mif\u001b[39;00m linestyle \u001b[38;5;129;01mis\u001b[39;00m \u001b[38;5;28;01mNone\u001b[39;00m \u001b[38;5;129;01mand\u001b[39;00m marker \u001b[38;5;129;01mis\u001b[39;00m \u001b[38;5;28;01mNone\u001b[39;00m:\n\u001b[1;32m    201\u001b[0m     linestyle \u001b[38;5;241m=\u001b[39m mpl\u001b[38;5;241m.\u001b[39mrcParams[\u001b[38;5;124m'\u001b[39m\u001b[38;5;124mlines.linestyle\u001b[39m\u001b[38;5;124m'\u001b[39m]\n",
      "\u001b[0;31mValueError\u001b[0m: '0 7 154 136 169 82 169 107 114 108 204 183 196 115 91 119 217 127 200 92 142 131 170 149 159 131 186 198 76 149 210 137 155 127 177 112 149 231 112 75 98 153 118 201 213 142 148 83 65 92 187 208 160 84 117 71 101 150 161 179 43 163 165 78 94 123 91 44 111 206 117 131 249 117 123 248 153 117 136 171 134 125 142 177 152 114 179 184 221 82 197 100 215 136 178 132 93 109 137 149 97 123 227 56 196 143 51 111 156 237 147 92 147 111 105 112 139 227 86 179 111 168 197 135 152 125 68 136 239 183 168 161 138 35 163 195 172 264 247 212 86 177 185 176 171 249 66 142 113 67 171 161 102 88 91 230 62 95 76 231 223 160 86 136 182 166 132 196 190 86 236 110 178 128 249 164 118 104 149 131 147 122 140 147 149 92 111 153 168 165 250 148 196 127 68 78 183 172 136 129 247 160 205 134 126 188 82 144 134 169 153 118 148 160 240 162 204 199 128 133 155 118 107 245 59 149 162 197 106 273 172 103 253 175 186 139 129 141 221 97 103 144 150 138 73 162 91 166 97 149 73 176 99 179 76 232 186 146 127 126 147 115 143 119 102 240 152 83 197 184 108 120 136 142 143 85 82 164 193 170 173 149 147 177 173 190 121 135 106 166 155 175 209 161 181 162 143 150 85 235 153 195 103 101 209 94 150 175 163 83 224 247 228 126 119 161 134 150 94 145 148 122 180 154 221 164 146 189 179 96 154 208 168 116 114 200 116 157 63 157 72 149 134 234 168 173 162 121 134 149 207 143 196 90 205 158 169 103 130 203 179 147 229 166 189 80 153 196 132 145 64 169 195 222 55 150 165 86 121 52 97 113 142 207 160 154 154 88 160 93 92 117 207 210 175 201 92 132 146 81 238 152 123 168 191 89 194 118 111 202 171 138 111 140 136 221 141 64 182 158 111 154 178 118 123 143 131 147 81 154 154 143 145 137 97 174 156 169 108 134 221 142 159 228 201 99 172 94 156 124 149 166 229 98 54 217 85 95 177 131 112 108 214 166 195 144 162 178 165 170 161 62 183 156 107 187 217 217 171 90 145 125 129 164 189 153 122 224 219 183 102 109 231 152 165 137 106 205 207 204 178 122 92 130 144 163 199 117 190 79 145 113 139 135 152 117 173 175 115 168 255 159 151 128 179 155 96 93 122 129 235 102 124 150 213 134 190 166 199 238 194 151 145 228 126 189 171 98 138 136 105 112 196 203 142 106 143 217 172 149 105 215 157 82 101 161 110 145 172 104 158 165 236 80 197 138 256 183 165 155 183 107 231 156 193 91 200 178 120 207 135 142 177 156 114 140 111 172 190 167 84 242 134 56 128 148 146 133 77 137 141 91 105 158 169 141 191 220 191 161 145 179 120 112 160 197 116 134 161 163 168 66 169 106 130 46 42 115 230 101 170 168 230 200 177 198 223 58 184 139 114 180 175 204 136 168 136 150 205 77 73 169 143 144 242 178 180 167 80 243 106 187 189 76 99 179 172 166 187 159 165 183 108 139 128 166 202 171 120 222 232 152 115 179 87 167 184 194 145 68 148 221 147 85 111 221 76 217 116 183 161 100 197 158 146 215 192 161 160 118 213 142 55 130 136 196 162 211 227 75 199 185 108 153 104 223 116 163 136 140 162 130 155 203 181 157 171 120 149 187 119 179 76 176 125 220 59 172 148 164 68 86 186 223 188 194 164 79 178 168 175 142 72 163 102 227 137 109 140 110 149 88 132 128 101 146 129 98 274 112 145 164 110 127 174 256 135 46 178 260 113 183 142 156 134 148 121 175 153 61 127 158 176 163 156 182 173 141 259 145 177 117 117 147 108 125 181 119 160 97 218 195 199 202 161 108 254 199 123 108 90 243 130 119 207 95 81 152 154 208 216 170 125 111 131 162 116 150 180 171 189 172 146 152 158 154 93 160 154 135 186 196 149 157 182 65 178 230 82 228 159 206 171 217 141 152 126 104 77 179 174 201 192 149 60 184 181 115 172 95 143 180 97 158 64 146 155 203 158 191 94 206 151 138 96 240 134 191 109 154 187 188 92 151 139 131 190 166 226 139 180 151 96 107 292 209 141 139 166 141 131 107 180 146 59 146 179 141 173 84 71 132 119 105 65 203 172 175 145 139 49 238 83 180 167 141 75 147 123 166 185 234 127 138 200 147 74 154 97 176 174 170 221 164 166 102 126 201 151 177 164 133 196 64 154 142 56 71 190 194 208 103 128 174 231 95 204 150 123 141 243 172 240 145 112 84 117 177 127 110 213 95 237 157 129 122 167 152 96 183 112 40 210 187 67 241 102 110 134 215 194 252 179 109 103 194 234 205 129 224 152 100 154 115 191 110 192 158 202 108 92 142 69 279 102 172 168 167 109 263 91 174 124 200 137 183 129 193 181 123 119 115 100 185 165 162 100 180 141 117 155 190 138 167 192 178 162 82 159 149 119 182 130 115 148 103 146 109 170 186 198 200 131 106 158 175 130 216 172 246 119 148 107 198 179 138 148 156 194 167 173 222 128 129 224 176 82 198 107 169 132 190 119 72 206 164 163 165 108 69 139 134 186 117 116 243 163 172 151 194 209 189 90 199 174 170 82 155 189 130 138 120 150 126 48 171 167 156 112 146 108 204 53 141 189 118 109 91 146 143 83 187 153 92 170 220 204 219 170 64 141 104 162 217 153 100 156 214 97 275 57 147 73 188 196 265 205 86 88 126 119 225 77 188 220 115 150 174 127 107 127 113 80 138 161 222 58 235 169 66 174 179 149 107 212 116 154 122 84 106 194 67 178 166 206 118 172 164 153 75 77 113 103 145 233 141 147 109 125 105 194 203 157 170 53 70 171 155 121 125 177 116 66 152 160 151 262 147 231 88 205 117 224 98 198 218 156 161 196 193 132 161 95 81 87 220 128 223 143 174 84 127 129 164 243 247 96 138 150 232 127 199 96 185 149 87 186 97 203 141 146 195 115 152 145 160 197 121 151 170 128 103 137 178 118 189 99 152 215 176 126 150 184 102 156 220 142 181 170 187 184 116 166 174 129 220 176 137 187 166 109 228 116 212 158 237 190 110 184 128 159 122 160 112 138 221 202 53 223 190 138 206 130 144 197 143 90 168 111 206 94 76 199 163 136 169 188 163 122 101 169 164 131 229 114 75 225 102 118 135 107 103 142 112 159 163 119 104 124 173 150 127 194 224 138 112 136 145 96 125 178 139 154 91 129 135 204 183 155 161 57 118 235 196 87 156 88 102 160 141 123 135 202 158 179 128 148 185 169 130 177 142 247 146 170 158 154 104 128 97 168 104 156 117 147 158 127 165 214 109 143 223 85 129 118 68 103 162 90 129 167 125 166 198 106 195 140 112 80 129 126 241 181 154 143 208 171 161 147 155 220 156 178 144 89 189 172 77 142 115 84 213 105 180 202 133 169 107 146 112 156 216 163 159 188 199 162 106 110 156 132 211 203 145 185 220 56 70 150 128 136 217 147 188 239 131 137 112 166 203 187 163 159 175 145 126 92 150 207 171 99 79 57 237 210 164 120 154 227 155 84 177 231 166 97 207 99 174 216 189 234 248 130 112 103 171 169 146 171 154 92 97 160 251 103 246 188 102 56 46 183 118 111 198 110 229 204 151 105 158 188 169 192 143 91 116 166 140 156 154 50 119 82 125 213 191 139 150 200 140 104 72 133 124 139 186 106 95 86 132 109 120 169 114 197 56 111 91 172 142 136 261 145 85 58 120 148 292 171 101 72 236 165 164 89 133 150 165 132 96 213 131 217 72 160 232 60 114 142 118 170 129 149 248 192 70 176 159 141 195 95 74 183 112 166 144 149 244 151 138 120 116 55 213 176 98 161 116 89 263 181 156 198 153 117 116 180 110 134 179 157 164 238 137 150 207 151 204 137 157 115 173 159 215 141 229 126 225 155 176 138 153 147 93 90 157 125 148 105 92 173 78 222 89 184 117 200 92 102 200 221 103 161 178 116 213 152 236 127 100 146 166 175 123 133 187 120 169 152 147 91 123 149 88 193 152 70 145 208 137 218 180 223 83 195 142 208 143 153 156 145 118 172 142 99 169 174 109 98 161 210 124 128 163 151 206 179 147 249 227 134 98 137 194 202 146 172 163 130 162 165 155 106 116 141 138 149 247 114 139 91 116 210 138 184 158 70 165 180 176 174 212 123 153 253 75 172 164 182 79 200 161 206 146 131 206 173 117 100 183 187 116 89 106 215 157 92 101 134 83 130 129 148 173 158 134 146 129 218 38 114 190 119 196 120 212 253 129 163 157 186 134 179 211 150 101 67 190 139 95 73 133 144 118 167 167 175 155 204 153 143 152 152 192 173 29 157 183 231 153 134 103 123 209 156 156 197 178 85 133 117 196 132 167 239 165 111 191 140 219 112 194 164 185 160 247 138 202 153 98 110 136 125 184 150 110 159 226 134 169 126 193 146 121 163 48 82 216 202 156 215 168 129 136 190 165 95 213 156 210 148 108 62 76 101 66 191 186 144 154 205 112 223 197 108 100 143 176 80 180 171 127 98 189 125 114 175 129 135 153 121 194 197 133 144 143 43 238 149 180 206 106 97 123 169 169 123 157 182 133 231 108 81 224 86 177 102 224 156 111 165 134 163 134 148 100 183 181 99 172 178 136 126 175 150 168 151 253 135 111 150 50 129 85 144 162 162 130 84 196 153 197 203 123 100 108 219 162 150 64 151 265 115 204 178 156 142 233 70 99 143 145 140 198 165 92 211 177 224 105 110 155 151 146 116 114 153 193 111 169 200 201 206 141 227 164 195 145 95 197 214 103 174 131 83 97 89 151 189 89 157 223 113 167 174 183 176 100 132 174 100 207 197 161 158 184 218 111 151 94 105 182 101 129 136 102 145 141 83 93 173 87 187 176 175 101 218 80 81 78 146 133 184 174 122 209 143 155 261 74 128 261 137 160 213 143 186 141 183 139 165 89 136 225 143 120 117 152 109 99 75 180 159 111 117 119 179 163 183 210 145 162 121 235 202 175 136 198 153 101 187 188 125 172 134 179 187 99 226 173 95 187 153 200 102 89 176 202 155 155 179 162 131 96 142 98 152 129 163 54 136 188 170 149 120 97 177 194 98 204 187 210 159 76 169 276 141 179 135 117 151 133 147 73 172 153 208 98 225 46 165 150 136 118 230 153 117 158 106 122 128 211 200 121 158 165 198 109 168 160 111 148 212 119 144 120 97 192 135 134 112 103 219 210 177 196 147 197 138 90 161 225 101 81 155 126 193 121 154 120 156 167 235 122 143 172 174 149 133 206 248 121 132 162 119 126 130 80 165 161 213 43 145 152 140 192 193 112 69 206 127 115 252 141 107 188 180 133 123 169 183 140 117 163 53 245 158 161 202 225 206 153 184 144 216 193 183 100 208 140 58 123 121 184 184 145 184 142 189 146 145 173 98 123 108 106 103 82 198 136 205 101 152 135 144 136 202 153 185 176 262 136 168 240 101 201 156 79 104 173 186 91 150 71 125 161 109 74 135 132 65 204 149 136 199 129 209 90 163 116 126 73 185 183 153 215 237 115 160 111 196 157 42 170 163 133 165 118 213 141 221 145 84 185 162 94 115 134 194 213 60 201 132 148 123 176 215 173 89 131 118 198 173 151 130 197 141 143 196 131 111 131 114 216 219 119 142 180 47 170 169 167 228 90 202 142 103 179 201 110 80 133 218 117 163 212 138 195 230 133 134 264 81 175 208 137 117 156 152 261 137 140 204 244 227 220 120 181 149 164 46 87 136 101 137 92 157 124 135 178 208 163 158 145 225 168 149 143 243 198 171 134 153 214 198 272 190 228 114 96 129 203 186 206 127 164 104 220 182 182 106 211 167 153 176 38 184 105 168 115 188 148 134 141 108 169 103 165 101 123 186 167 111 85 78 202 131 114 134 149 79 53 152 187 133 103 248 137 168 89 178 107 134 154 139 165 183 219 208 191 240 220 188 178 148 165 214 149 130 217 115 170 157 148 128 212 271 201 133 139 185 233 200 88 110 228 120 152 163 113 171 158 117 163 194 139 137 139 231 118 163 125 129 130 180 147 249 108 94 61 142 109 178 245 189 106 99 130 124 83 159 85 183 96 161 135 126 142 70 111 88 151 144 139 211 167 155 140 109 184 207 84 86 176 130 145 178 158 107 189 187 141 144 121 156 148 86 109 142 135 209 195 133 46 151 160 172 133 128 127 120 184 131 225 184 168 97 160 131 159 98 205 167 134 141 132 192 158 177 137 125 230 131 139 120 194 213 151 21 141 156 106 228 151 118 107 149 193 179 90 130 165 175 132 161 135 166 125 143 146 180 179 145 198 96 130 61 161 140 171 94 176 226 130 193 191 143 262 130 213 118 227 120 179 137 147 170 153 100 139 87 162 138 144 191 154 238 131 151 101 123 211 142 98 122 198 162 110 228 101 110 182 154 149 136 93 114 104 153 181 108 183 173 116 130 185 99 166 181 156 263 185 233 219 109 151 126 73 168 185 179 100 137 184 176 114 91 112 76 171 200 128 156 127 110 124 169 146 217 169 137 131 156 195 59 91 182 189 246 69 159 135 154 211 157 86 189 149 181 171 107 152 201 259 163 73 204 232 149 164 185 170 134 132 115 155 188 166 112 157 129 199 192 94 171 152 170 117 178 200 172 217 142 124 253 185 202 164 138 138 139 170 125 159 206 169 146 255 129 148 167' is not a valid format string (unrecognized character '0')"
     ]
    },
    {
     "data": {
      "image/png": "[encoded data removed]",
      "text/plain": [
       "<Figure size 640x480 with 1 Axes>"
      ]
     },
     "metadata": {},
     "output_type": "display_data"
    }
   ],
   "source": [
    "plt.plot(vec.vectime, vec.vecvalue)"
   ]
  },
  {
   "cell_type": "code",
   "execution_count": 28,
   "id": "3622b5ea",
   "metadata": {},
   "outputs": [
    {
     "ename": "SyntaxError",
     "evalue": "invalid syntax. Perhaps you forgot a comma? (3493079303.py, line 1)",
     "output_type": "error",
     "traceback": [
      "\u001b[0;36m  Cell \u001b[0;32mIn[28], line 1\u001b[0;36m\u001b[0m\n\u001b[0;31m    plt.plot((int)vec.vectime,(int)vec.vecvalue)\u001b[0m\n\u001b[0m              ^\u001b[0m\n\u001b[0;31mSyntaxError\u001b[0m\u001b[0;31m:\u001b[0m invalid syntax. Perhaps you forgot a comma?\n"
     ]
    }
   ],
   "source": [
    "plt.plot((int)vec.vectime,(int)vec.vecvalue)"
   ]
  },
  {
   "cell_type": "code",
   "execution_count": 29,
   "id": "c75ddde3",
   "metadata": {},
   "outputs": [
    {
     "data": {
      "text/plain": [
       "run                      Validation1-0-20221208-22:09:54-55868\n",
       "type                                                    vector\n",
       "module                OpportunisticCellularNetwork.cellular[3]\n",
       "name                                     userThroughput:vector\n",
       "attrname                                                   NaN\n",
       "attrvalue                                                  NaN\n",
       "vectime      0 0.001 0.002 0.003 0.004 0.005 0.006 0.007 0....\n",
       "vecvalue     0 7 154 136 169 82 169 107 114 108 204 183 196...\n",
       "Name: 46, dtype: object"
      ]
     },
     "execution_count": 29,
     "metadata": {},
     "output_type": "execute_result"
    }
   ],
   "source": [
    "vec"
   ]
  },
  {
   "cell_type": "code",
   "execution_count": 30,
   "id": "070184d2",
   "metadata": {},
   "outputs": [
    {
     "ename": "AttributeError",
     "evalue": "'str' object has no attribute 'dtype'",
     "output_type": "error",
     "traceback": [
      "\u001b[0;31m---------------------------------------------------------------------------\u001b[0m",
      "\u001b[0;31mAttributeError\u001b[0m                            Traceback (most recent call last)",
      "Cell \u001b[0;32mIn[30], line 1\u001b[0m\n\u001b[0;32m----> 1\u001b[0m \u001b[43mvec\u001b[49m\u001b[38;5;241;43m.\u001b[39;49m\u001b[43mvectime\u001b[49m\u001b[38;5;241;43m.\u001b[39;49m\u001b[43mdtype\u001b[49m\n",
      "\u001b[0;31mAttributeError\u001b[0m: 'str' object has no attribute 'dtype'"
     ]
    }
   ],
   "source": [
    "vec.vectime.dtype"
   ]
  },
  {
   "cell_type": "code",
   "execution_count": 31,
   "id": "6576aa3c",
   "metadata": {},
   "outputs": [
    {
     "ename": "AttributeError",
     "evalue": "'str' object has no attribute 'dtype'",
     "output_type": "error",
     "traceback": [
      "\u001b[0;31m---------------------------------------------------------------------------\u001b[0m",
      "\u001b[0;31mAttributeError\u001b[0m                            Traceback (most recent call last)",
      "Cell \u001b[0;32mIn[31], line 1\u001b[0m\n\u001b[0;32m----> 1\u001b[0m \u001b[43mvec\u001b[49m\u001b[38;5;241;43m.\u001b[39;49m\u001b[43mvectime\u001b[49m\u001b[38;5;241;43m.\u001b[39;49m\u001b[43mdtype\u001b[49m\n",
      "\u001b[0;31mAttributeError\u001b[0m: 'str' object has no attribute 'dtype'"
     ]
    }
   ],
   "source": [
    "vec.vectime.dtype"
   ]
  },
  {
   "cell_type": "code",
   "execution_count": 32,
   "id": "f21577a6",
   "metadata": {},
   "outputs": [
    {
     "data": {
      "text/plain": [
       "str"
      ]
     },
     "execution_count": 32,
     "metadata": {},
     "output_type": "execute_result"
    }
   ],
   "source": [
    "type(vec.vectime)"
   ]
  },
  {
   "cell_type": "code",
   "execution_count": 33,
   "id": "c2698341",
   "metadata": {},
   "outputs": [
    {
     "ename": "ValueError",
     "evalue": "'0 7 154 136 169 82 169 107 114 108 204 183 196 115 91 119 217 127 200 92 142 131 170 149 159 131 186 198 76 149 210 137 155 127 177 112 149 231 112 75 98 153 118 201 213 142 148 83 65 92 187 208 160 84 117 71 101 150 161 179 43 163 165 78 94 123 91 44 111 206 117 131 249 117 123 248 153 117 136 171 134 125 142 177 152 114 179 184 221 82 197 100 215 136 178 132 93 109 137 149 97 123 227 56 196 143 51 111 156 237 147 92 147 111 105 112 139 227 86 179 111 168 197 135 152 125 68 136 239 183 168 161 138 35 163 195 172 264 247 212 86 177 185 176 171 249 66 142 113 67 171 161 102 88 91 230 62 95 76 231 223 160 86 136 182 166 132 196 190 86 236 110 178 128 249 164 118 104 149 131 147 122 140 147 149 92 111 153 168 165 250 148 196 127 68 78 183 172 136 129 247 160 205 134 126 188 82 144 134 169 153 118 148 160 240 162 204 199 128 133 155 118 107 245 59 149 162 197 106 273 172 103 253 175 186 139 129 141 221 97 103 144 150 138 73 162 91 166 97 149 73 176 99 179 76 232 186 146 127 126 147 115 143 119 102 240 152 83 197 184 108 120 136 142 143 85 82 164 193 170 173 149 147 177 173 190 121 135 106 166 155 175 209 161 181 162 143 150 85 235 153 195 103 101 209 94 150 175 163 83 224 247 228 126 119 161 134 150 94 145 148 122 180 154 221 164 146 189 179 96 154 208 168 116 114 200 116 157 63 157 72 149 134 234 168 173 162 121 134 149 207 143 196 90 205 158 169 103 130 203 179 147 229 166 189 80 153 196 132 145 64 169 195 222 55 150 165 86 121 52 97 113 142 207 160 154 154 88 160 93 92 117 207 210 175 201 92 132 146 81 238 152 123 168 191 89 194 118 111 202 171 138 111 140 136 221 141 64 182 158 111 154 178 118 123 143 131 147 81 154 154 143 145 137 97 174 156 169 108 134 221 142 159 228 201 99 172 94 156 124 149 166 229 98 54 217 85 95 177 131 112 108 214 166 195 144 162 178 165 170 161 62 183 156 107 187 217 217 171 90 145 125 129 164 189 153 122 224 219 183 102 109 231 152 165 137 106 205 207 204 178 122 92 130 144 163 199 117 190 79 145 113 139 135 152 117 173 175 115 168 255 159 151 128 179 155 96 93 122 129 235 102 124 150 213 134 190 166 199 238 194 151 145 228 126 189 171 98 138 136 105 112 196 203 142 106 143 217 172 149 105 215 157 82 101 161 110 145 172 104 158 165 236 80 197 138 256 183 165 155 183 107 231 156 193 91 200 178 120 207 135 142 177 156 114 140 111 172 190 167 84 242 134 56 128 148 146 133 77 137 141 91 105 158 169 141 191 220 191 161 145 179 120 112 160 197 116 134 161 163 168 66 169 106 130 46 42 115 230 101 170 168 230 200 177 198 223 58 184 139 114 180 175 204 136 168 136 150 205 77 73 169 143 144 242 178 180 167 80 243 106 187 189 76 99 179 172 166 187 159 165 183 108 139 128 166 202 171 120 222 232 152 115 179 87 167 184 194 145 68 148 221 147 85 111 221 76 217 116 183 161 100 197 158 146 215 192 161 160 118 213 142 55 130 136 196 162 211 227 75 199 185 108 153 104 223 116 163 136 140 162 130 155 203 181 157 171 120 149 187 119 179 76 176 125 220 59 172 148 164 68 86 186 223 188 194 164 79 178 168 175 142 72 163 102 227 137 109 140 110 149 88 132 128 101 146 129 98 274 112 145 164 110 127 174 256 135 46 178 260 113 183 142 156 134 148 121 175 153 61 127 158 176 163 156 182 173 141 259 145 177 117 117 147 108 125 181 119 160 97 218 195 199 202 161 108 254 199 123 108 90 243 130 119 207 95 81 152 154 208 216 170 125 111 131 162 116 150 180 171 189 172 146 152 158 154 93 160 154 135 186 196 149 157 182 65 178 230 82 228 159 206 171 217 141 152 126 104 77 179 174 201 192 149 60 184 181 115 172 95 143 180 97 158 64 146 155 203 158 191 94 206 151 138 96 240 134 191 109 154 187 188 92 151 139 131 190 166 226 139 180 151 96 107 292 209 141 139 166 141 131 107 180 146 59 146 179 141 173 84 71 132 119 105 65 203 172 175 145 139 49 238 83 180 167 141 75 147 123 166 185 234 127 138 200 147 74 154 97 176 174 170 221 164 166 102 126 201 151 177 164 133 196 64 154 142 56 71 190 194 208 103 128 174 231 95 204 150 123 141 243 172 240 145 112 84 117 177 127 110 213 95 237 157 129 122 167 152 96 183 112 40 210 187 67 241 102 110 134 215 194 252 179 109 103 194 234 205 129 224 152 100 154 115 191 110 192 158 202 108 92 142 69 279 102 172 168 167 109 263 91 174 124 200 137 183 129 193 181 123 119 115 100 185 165 162 100 180 141 117 155 190 138 167 192 178 162 82 159 149 119 182 130 115 148 103 146 109 170 186 198 200 131 106 158 175 130 216 172 246 119 148 107 198 179 138 148 156 194 167 173 222 128 129 224 176 82 198 107 169 132 190 119 72 206 164 163 165 108 69 139 134 186 117 116 243 163 172 151 194 209 189 90 199 174 170 82 155 189 130 138 120 150 126 48 171 167 156 112 146 108 204 53 141 189 118 109 91 146 143 83 187 153 92 170 220 204 219 170 64 141 104 162 217 153 100 156 214 97 275 57 147 73 188 196 265 205 86 88 126 119 225 77 188 220 115 150 174 127 107 127 113 80 138 161 222 58 235 169 66 174 179 149 107 212 116 154 122 84 106 194 67 178 166 206 118 172 164 153 75 77 113 103 145 233 141 147 109 125 105 194 203 157 170 53 70 171 155 121 125 177 116 66 152 160 151 262 147 231 88 205 117 224 98 198 218 156 161 196 193 132 161 95 81 87 220 128 223 143 174 84 127 129 164 243 247 96 138 150 232 127 199 96 185 149 87 186 97 203 141 146 195 115 152 145 160 197 121 151 170 128 103 137 178 118 189 99 152 215 176 126 150 184 102 156 220 142 181 170 187 184 116 166 174 129 220 176 137 187 166 109 228 116 212 158 237 190 110 184 128 159 122 160 112 138 221 202 53 223 190 138 206 130 144 197 143 90 168 111 206 94 76 199 163 136 169 188 163 122 101 169 164 131 229 114 75 225 102 118 135 107 103 142 112 159 163 119 104 124 173 150 127 194 224 138 112 136 145 96 125 178 139 154 91 129 135 204 183 155 161 57 118 235 196 87 156 88 102 160 141 123 135 202 158 179 128 148 185 169 130 177 142 247 146 170 158 154 104 128 97 168 104 156 117 147 158 127 165 214 109 143 223 85 129 118 68 103 162 90 129 167 125 166 198 106 195 140 112 80 129 126 241 181 154 143 208 171 161 147 155 220 156 178 144 89 189 172 77 142 115 84 213 105 180 202 133 169 107 146 112 156 216 163 159 188 199 162 106 110 156 132 211 203 145 185 220 56 70 150 128 136 217 147 188 239 131 137 112 166 203 187 163 159 175 145 126 92 150 207 171 99 79 57 237 210 164 120 154 227 155 84 177 231 166 97 207 99 174 216 189 234 248 130 112 103 171 169 146 171 154 92 97 160 251 103 246 188 102 56 46 183 118 111 198 110 229 204 151 105 158 188 169 192 143 91 116 166 140 156 154 50 119 82 125 213 191 139 150 200 140 104 72 133 124 139 186 106 95 86 132 109 120 169 114 197 56 111 91 172 142 136 261 145 85 58 120 148 292 171 101 72 236 165 164 89 133 150 165 132 96 213 131 217 72 160 232 60 114 142 118 170 129 149 248 192 70 176 159 141 195 95 74 183 112 166 144 149 244 151 138 120 116 55 213 176 98 161 116 89 263 181 156 198 153 117 116 180 110 134 179 157 164 238 137 150 207 151 204 137 157 115 173 159 215 141 229 126 225 155 176 138 153 147 93 90 157 125 148 105 92 173 78 222 89 184 117 200 92 102 200 221 103 161 178 116 213 152 236 127 100 146 166 175 123 133 187 120 169 152 147 91 123 149 88 193 152 70 145 208 137 218 180 223 83 195 142 208 143 153 156 145 118 172 142 99 169 174 109 98 161 210 124 128 163 151 206 179 147 249 227 134 98 137 194 202 146 172 163 130 162 165 155 106 116 141 138 149 247 114 139 91 116 210 138 184 158 70 165 180 176 174 212 123 153 253 75 172 164 182 79 200 161 206 146 131 206 173 117 100 183 187 116 89 106 215 157 92 101 134 83 130 129 148 173 158 134 146 129 218 38 114 190 119 196 120 212 253 129 163 157 186 134 179 211 150 101 67 190 139 95 73 133 144 118 167 167 175 155 204 153 143 152 152 192 173 29 157 183 231 153 134 103 123 209 156 156 197 178 85 133 117 196 132 167 239 165 111 191 140 219 112 194 164 185 160 247 138 202 153 98 110 136 125 184 150 110 159 226 134 169 126 193 146 121 163 48 82 216 202 156 215 168 129 136 190 165 95 213 156 210 148 108 62 76 101 66 191 186 144 154 205 112 223 197 108 100 143 176 80 180 171 127 98 189 125 114 175 129 135 153 121 194 197 133 144 143 43 238 149 180 206 106 97 123 169 169 123 157 182 133 231 108 81 224 86 177 102 224 156 111 165 134 163 134 148 100 183 181 99 172 178 136 126 175 150 168 151 253 135 111 150 50 129 85 144 162 162 130 84 196 153 197 203 123 100 108 219 162 150 64 151 265 115 204 178 156 142 233 70 99 143 145 140 198 165 92 211 177 224 105 110 155 151 146 116 114 153 193 111 169 200 201 206 141 227 164 195 145 95 197 214 103 174 131 83 97 89 151 189 89 157 223 113 167 174 183 176 100 132 174 100 207 197 161 158 184 218 111 151 94 105 182 101 129 136 102 145 141 83 93 173 87 187 176 175 101 218 80 81 78 146 133 184 174 122 209 143 155 261 74 128 261 137 160 213 143 186 141 183 139 165 89 136 225 143 120 117 152 109 99 75 180 159 111 117 119 179 163 183 210 145 162 121 235 202 175 136 198 153 101 187 188 125 172 134 179 187 99 226 173 95 187 153 200 102 89 176 202 155 155 179 162 131 96 142 98 152 129 163 54 136 188 170 149 120 97 177 194 98 204 187 210 159 76 169 276 141 179 135 117 151 133 147 73 172 153 208 98 225 46 165 150 136 118 230 153 117 158 106 122 128 211 200 121 158 165 198 109 168 160 111 148 212 119 144 120 97 192 135 134 112 103 219 210 177 196 147 197 138 90 161 225 101 81 155 126 193 121 154 120 156 167 235 122 143 172 174 149 133 206 248 121 132 162 119 126 130 80 165 161 213 43 145 152 140 192 193 112 69 206 127 115 252 141 107 188 180 133 123 169 183 140 117 163 53 245 158 161 202 225 206 153 184 144 216 193 183 100 208 140 58 123 121 184 184 145 184 142 189 146 145 173 98 123 108 106 103 82 198 136 205 101 152 135 144 136 202 153 185 176 262 136 168 240 101 201 156 79 104 173 186 91 150 71 125 161 109 74 135 132 65 204 149 136 199 129 209 90 163 116 126 73 185 183 153 215 237 115 160 111 196 157 42 170 163 133 165 118 213 141 221 145 84 185 162 94 115 134 194 213 60 201 132 148 123 176 215 173 89 131 118 198 173 151 130 197 141 143 196 131 111 131 114 216 219 119 142 180 47 170 169 167 228 90 202 142 103 179 201 110 80 133 218 117 163 212 138 195 230 133 134 264 81 175 208 137 117 156 152 261 137 140 204 244 227 220 120 181 149 164 46 87 136 101 137 92 157 124 135 178 208 163 158 145 225 168 149 143 243 198 171 134 153 214 198 272 190 228 114 96 129 203 186 206 127 164 104 220 182 182 106 211 167 153 176 38 184 105 168 115 188 148 134 141 108 169 103 165 101 123 186 167 111 85 78 202 131 114 134 149 79 53 152 187 133 103 248 137 168 89 178 107 134 154 139 165 183 219 208 191 240 220 188 178 148 165 214 149 130 217 115 170 157 148 128 212 271 201 133 139 185 233 200 88 110 228 120 152 163 113 171 158 117 163 194 139 137 139 231 118 163 125 129 130 180 147 249 108 94 61 142 109 178 245 189 106 99 130 124 83 159 85 183 96 161 135 126 142 70 111 88 151 144 139 211 167 155 140 109 184 207 84 86 176 130 145 178 158 107 189 187 141 144 121 156 148 86 109 142 135 209 195 133 46 151 160 172 133 128 127 120 184 131 225 184 168 97 160 131 159 98 205 167 134 141 132 192 158 177 137 125 230 131 139 120 194 213 151 21 141 156 106 228 151 118 107 149 193 179 90 130 165 175 132 161 135 166 125 143 146 180 179 145 198 96 130 61 161 140 171 94 176 226 130 193 191 143 262 130 213 118 227 120 179 137 147 170 153 100 139 87 162 138 144 191 154 238 131 151 101 123 211 142 98 122 198 162 110 228 101 110 182 154 149 136 93 114 104 153 181 108 183 173 116 130 185 99 166 181 156 263 185 233 219 109 151 126 73 168 185 179 100 137 184 176 114 91 112 76 171 200 128 156 127 110 124 169 146 217 169 137 131 156 195 59 91 182 189 246 69 159 135 154 211 157 86 189 149 181 171 107 152 201 259 163 73 204 232 149 164 185 170 134 132 115 155 188 166 112 157 129 199 192 94 171 152 170 117 178 200 172 217 142 124 253 185 202 164 138 138 139 170 125 159 206 169 146 255 129 148 167' is not a valid format string (unrecognized character '0')",
     "output_type": "error",
     "traceback": [
      "\u001b[0;31m---------------------------------------------------------------------------\u001b[0m",
      "\u001b[0;31mValueError\u001b[0m                                Traceback (most recent call last)",
      "Cell \u001b[0;32mIn[33], line 1\u001b[0m\n\u001b[0;32m----> 1\u001b[0m \u001b[43mplt\u001b[49m\u001b[38;5;241;43m.\u001b[39;49m\u001b[43mplot\u001b[49m\u001b[43m(\u001b[49m\u001b[43mvec\u001b[49m\u001b[38;5;241;43m.\u001b[39;49m\u001b[43mvectime\u001b[49m\u001b[43m,\u001b[49m\u001b[43m \u001b[49m\u001b[43mvec\u001b[49m\u001b[38;5;241;43m.\u001b[39;49m\u001b[43mvecvalue\u001b[49m\u001b[43m,\u001b[49m\u001b[43m \u001b[49m\u001b[43mdrawstyle\u001b[49m\u001b[38;5;241;43m=\u001b[39;49m\u001b[38;5;124;43m'\u001b[39;49m\u001b[38;5;124;43msteps-post\u001b[39;49m\u001b[38;5;124;43m'\u001b[39;49m\u001b[43m)\u001b[49m\n",
      "File \u001b[0;32m/usr/local/lib/python3.10/site-packages/matplotlib/pyplot.py:2740\u001b[0m, in \u001b[0;36mplot\u001b[0;34m(scalex, scaley, data, *args, **kwargs)\u001b[0m\n\u001b[1;32m   2738\u001b[0m \u001b[38;5;129m@_copy_docstring_and_deprecators\u001b[39m(Axes\u001b[38;5;241m.\u001b[39mplot)\n\u001b[1;32m   2739\u001b[0m \u001b[38;5;28;01mdef\u001b[39;00m \u001b[38;5;21mplot\u001b[39m(\u001b[38;5;241m*\u001b[39margs, scalex\u001b[38;5;241m=\u001b[39m\u001b[38;5;28;01mTrue\u001b[39;00m, scaley\u001b[38;5;241m=\u001b[39m\u001b[38;5;28;01mTrue\u001b[39;00m, data\u001b[38;5;241m=\u001b[39m\u001b[38;5;28;01mNone\u001b[39;00m, \u001b[38;5;241m*\u001b[39m\u001b[38;5;241m*\u001b[39mkwargs):\n\u001b[0;32m-> 2740\u001b[0m     \u001b[38;5;28;01mreturn\u001b[39;00m \u001b[43mgca\u001b[49m\u001b[43m(\u001b[49m\u001b[43m)\u001b[49m\u001b[38;5;241;43m.\u001b[39;49m\u001b[43mplot\u001b[49m\u001b[43m(\u001b[49m\n\u001b[1;32m   2741\u001b[0m \u001b[43m        \u001b[49m\u001b[38;5;241;43m*\u001b[39;49m\u001b[43margs\u001b[49m\u001b[43m,\u001b[49m\u001b[43m \u001b[49m\u001b[43mscalex\u001b[49m\u001b[38;5;241;43m=\u001b[39;49m\u001b[43mscalex\u001b[49m\u001b[43m,\u001b[49m\u001b[43m \u001b[49m\u001b[43mscaley\u001b[49m\u001b[38;5;241;43m=\u001b[39;49m\u001b[43mscaley\u001b[49m\u001b[43m,\u001b[49m\n\u001b[1;32m   2742\u001b[0m \u001b[43m        \u001b[49m\u001b[38;5;241;43m*\u001b[39;49m\u001b[38;5;241;43m*\u001b[39;49m\u001b[43m(\u001b[49m\u001b[43m{\u001b[49m\u001b[38;5;124;43m\"\u001b[39;49m\u001b[38;5;124;43mdata\u001b[39;49m\u001b[38;5;124;43m\"\u001b[39;49m\u001b[43m:\u001b[49m\u001b[43m \u001b[49m\u001b[43mdata\u001b[49m\u001b[43m}\u001b[49m\u001b[43m \u001b[49m\u001b[38;5;28;43;01mif\u001b[39;49;00m\u001b[43m \u001b[49m\u001b[43mdata\u001b[49m\u001b[43m \u001b[49m\u001b[38;5;129;43;01mis\u001b[39;49;00m\u001b[43m \u001b[49m\u001b[38;5;129;43;01mnot\u001b[39;49;00m\u001b[43m \u001b[49m\u001b[38;5;28;43;01mNone\u001b[39;49;00m\u001b[43m \u001b[49m\u001b[38;5;28;43;01melse\u001b[39;49;00m\u001b[43m \u001b[49m\u001b[43m{\u001b[49m\u001b[43m}\u001b[49m\u001b[43m)\u001b[49m\u001b[43m,\u001b[49m\u001b[43m \u001b[49m\u001b[38;5;241;43m*\u001b[39;49m\u001b[38;5;241;43m*\u001b[39;49m\u001b[43mkwargs\u001b[49m\u001b[43m)\u001b[49m\n",
      "File \u001b[0;32m/usr/local/lib/python3.10/site-packages/matplotlib/axes/_axes.py:1662\u001b[0m, in \u001b[0;36mAxes.plot\u001b[0;34m(self, scalex, scaley, data, *args, **kwargs)\u001b[0m\n\u001b[1;32m   1419\u001b[0m \u001b[38;5;124;03m\"\"\"\u001b[39;00m\n\u001b[1;32m   1420\u001b[0m \u001b[38;5;124;03mPlot y versus x as lines and/or markers.\u001b[39;00m\n\u001b[1;32m   1421\u001b[0m \n\u001b[0;32m   (...)\u001b[0m\n\u001b[1;32m   1659\u001b[0m \u001b[38;5;124;03m(``'green'``) or hex strings (``'#008000'``).\u001b[39;00m\n\u001b[1;32m   1660\u001b[0m \u001b[38;5;124;03m\"\"\"\u001b[39;00m\n\u001b[1;32m   1661\u001b[0m kwargs \u001b[38;5;241m=\u001b[39m cbook\u001b[38;5;241m.\u001b[39mnormalize_kwargs(kwargs, mlines\u001b[38;5;241m.\u001b[39mLine2D)\n\u001b[0;32m-> 1662\u001b[0m lines \u001b[38;5;241m=\u001b[39m [\u001b[38;5;241m*\u001b[39m\u001b[38;5;28mself\u001b[39m\u001b[38;5;241m.\u001b[39m_get_lines(\u001b[38;5;241m*\u001b[39margs, data\u001b[38;5;241m=\u001b[39mdata, \u001b[38;5;241m*\u001b[39m\u001b[38;5;241m*\u001b[39mkwargs)]\n\u001b[1;32m   1663\u001b[0m \u001b[38;5;28;01mfor\u001b[39;00m line \u001b[38;5;129;01min\u001b[39;00m lines:\n\u001b[1;32m   1664\u001b[0m     \u001b[38;5;28mself\u001b[39m\u001b[38;5;241m.\u001b[39madd_line(line)\n",
      "File \u001b[0;32m/usr/local/lib/python3.10/site-packages/matplotlib/axes/_base.py:311\u001b[0m, in \u001b[0;36m_process_plot_var_args.__call__\u001b[0;34m(self, data, *args, **kwargs)\u001b[0m\n\u001b[1;32m    309\u001b[0m     this \u001b[38;5;241m+\u001b[39m\u001b[38;5;241m=\u001b[39m args[\u001b[38;5;241m0\u001b[39m],\n\u001b[1;32m    310\u001b[0m     args \u001b[38;5;241m=\u001b[39m args[\u001b[38;5;241m1\u001b[39m:]\n\u001b[0;32m--> 311\u001b[0m \u001b[38;5;28;01myield from\u001b[39;00m \u001b[38;5;28;43mself\u001b[39;49m\u001b[38;5;241;43m.\u001b[39;49m\u001b[43m_plot_args\u001b[49m\u001b[43m(\u001b[49m\n\u001b[1;32m    312\u001b[0m \u001b[43m    \u001b[49m\u001b[43mthis\u001b[49m\u001b[43m,\u001b[49m\u001b[43m \u001b[49m\u001b[43mkwargs\u001b[49m\u001b[43m,\u001b[49m\u001b[43m \u001b[49m\u001b[43mambiguous_fmt_datakey\u001b[49m\u001b[38;5;241;43m=\u001b[39;49m\u001b[43mambiguous_fmt_datakey\u001b[49m\u001b[43m)\u001b[49m\n",
      "File \u001b[0;32m/usr/local/lib/python3.10/site-packages/matplotlib/axes/_base.py:454\u001b[0m, in \u001b[0;36m_process_plot_var_args._plot_args\u001b[0;34m(self, tup, kwargs, return_kwargs, ambiguous_fmt_datakey)\u001b[0m\n\u001b[1;32m    451\u001b[0m \u001b[38;5;28;01mif\u001b[39;00m \u001b[38;5;28mlen\u001b[39m(tup) \u001b[38;5;241m>\u001b[39m \u001b[38;5;241m1\u001b[39m \u001b[38;5;129;01mand\u001b[39;00m \u001b[38;5;28misinstance\u001b[39m(tup[\u001b[38;5;241m-\u001b[39m\u001b[38;5;241m1\u001b[39m], \u001b[38;5;28mstr\u001b[39m):\n\u001b[1;32m    452\u001b[0m     \u001b[38;5;66;03m# xy is tup with fmt stripped (could still be (y,) only)\u001b[39;00m\n\u001b[1;32m    453\u001b[0m     \u001b[38;5;241m*\u001b[39mxy, fmt \u001b[38;5;241m=\u001b[39m tup\n\u001b[0;32m--> 454\u001b[0m     linestyle, marker, color \u001b[38;5;241m=\u001b[39m \u001b[43m_process_plot_format\u001b[49m\u001b[43m(\u001b[49m\n\u001b[1;32m    455\u001b[0m \u001b[43m        \u001b[49m\u001b[43mfmt\u001b[49m\u001b[43m,\u001b[49m\u001b[43m \u001b[49m\u001b[43mambiguous_fmt_datakey\u001b[49m\u001b[38;5;241;43m=\u001b[39;49m\u001b[43mambiguous_fmt_datakey\u001b[49m\u001b[43m)\u001b[49m\n\u001b[1;32m    456\u001b[0m \u001b[38;5;28;01melif\u001b[39;00m \u001b[38;5;28mlen\u001b[39m(tup) \u001b[38;5;241m==\u001b[39m \u001b[38;5;241m3\u001b[39m:\n\u001b[1;32m    457\u001b[0m     \u001b[38;5;28;01mraise\u001b[39;00m \u001b[38;5;167;01mValueError\u001b[39;00m(\u001b[38;5;124m'\u001b[39m\u001b[38;5;124mthird arg must be a format string\u001b[39m\u001b[38;5;124m'\u001b[39m)\n",
      "File \u001b[0;32m/usr/local/lib/python3.10/site-packages/matplotlib/axes/_base.py:197\u001b[0m, in \u001b[0;36m_process_plot_format\u001b[0;34m(fmt, ambiguous_fmt_datakey)\u001b[0m\n\u001b[1;32m    195\u001b[0m         i \u001b[38;5;241m+\u001b[39m\u001b[38;5;241m=\u001b[39m \u001b[38;5;241m2\u001b[39m\n\u001b[1;32m    196\u001b[0m     \u001b[38;5;28;01melse\u001b[39;00m:\n\u001b[0;32m--> 197\u001b[0m         \u001b[38;5;28;01mraise\u001b[39;00m \u001b[38;5;167;01mValueError\u001b[39;00m(\n\u001b[1;32m    198\u001b[0m             errfmt\u001b[38;5;241m.\u001b[39mformat(fmt, \u001b[38;5;124mf\u001b[39m\u001b[38;5;124m\"\u001b[39m\u001b[38;5;124munrecognized character \u001b[39m\u001b[38;5;132;01m{\u001b[39;00mc\u001b[38;5;132;01m!r}\u001b[39;00m\u001b[38;5;124m\"\u001b[39m))\n\u001b[1;32m    200\u001b[0m \u001b[38;5;28;01mif\u001b[39;00m linestyle \u001b[38;5;129;01mis\u001b[39;00m \u001b[38;5;28;01mNone\u001b[39;00m \u001b[38;5;129;01mand\u001b[39;00m marker \u001b[38;5;129;01mis\u001b[39;00m \u001b[38;5;28;01mNone\u001b[39;00m:\n\u001b[1;32m    201\u001b[0m     linestyle \u001b[38;5;241m=\u001b[39m mpl\u001b[38;5;241m.\u001b[39mrcParams[\u001b[38;5;124m'\u001b[39m\u001b[38;5;124mlines.linestyle\u001b[39m\u001b[38;5;124m'\u001b[39m]\n",
      "\u001b[0;31mValueError\u001b[0m: '0 7 154 136 169 82 169 107 114 108 204 183 196 115 91 119 217 127 200 92 142 131 170 149 159 131 186 198 76 149 210 137 155 127 177 112 149 231 112 75 98 153 118 201 213 142 148 83 65 92 187 208 160 84 117 71 101 150 161 179 43 163 165 78 94 123 91 44 111 206 117 131 249 117 123 248 153 117 136 171 134 125 142 177 152 114 179 184 221 82 197 100 215 136 178 132 93 109 137 149 97 123 227 56 196 143 51 111 156 237 147 92 147 111 105 112 139 227 86 179 111 168 197 135 152 125 68 136 239 183 168 161 138 35 163 195 172 264 247 212 86 177 185 176 171 249 66 142 113 67 171 161 102 88 91 230 62 95 76 231 223 160 86 136 182 166 132 196 190 86 236 110 178 128 249 164 118 104 149 131 147 122 140 147 149 92 111 153 168 165 250 148 196 127 68 78 183 172 136 129 247 160 205 134 126 188 82 144 134 169 153 118 148 160 240 162 204 199 128 133 155 118 107 245 59 149 162 197 106 273 172 103 253 175 186 139 129 141 221 97 103 144 150 138 73 162 91 166 97 149 73 176 99 179 76 232 186 146 127 126 147 115 143 119 102 240 152 83 197 184 108 120 136 142 143 85 82 164 193 170 173 149 147 177 173 190 121 135 106 166 155 175 209 161 181 162 143 150 85 235 153 195 103 101 209 94 150 175 163 83 224 247 228 126 119 161 134 150 94 145 148 122 180 154 221 164 146 189 179 96 154 208 168 116 114 200 116 157 63 157 72 149 134 234 168 173 162 121 134 149 207 143 196 90 205 158 169 103 130 203 179 147 229 166 189 80 153 196 132 145 64 169 195 222 55 150 165 86 121 52 97 113 142 207 160 154 154 88 160 93 92 117 207 210 175 201 92 132 146 81 238 152 123 168 191 89 194 118 111 202 171 138 111 140 136 221 141 64 182 158 111 154 178 118 123 143 131 147 81 154 154 143 145 137 97 174 156 169 108 134 221 142 159 228 201 99 172 94 156 124 149 166 229 98 54 217 85 95 177 131 112 108 214 166 195 144 162 178 165 170 161 62 183 156 107 187 217 217 171 90 145 125 129 164 189 153 122 224 219 183 102 109 231 152 165 137 106 205 207 204 178 122 92 130 144 163 199 117 190 79 145 113 139 135 152 117 173 175 115 168 255 159 151 128 179 155 96 93 122 129 235 102 124 150 213 134 190 166 199 238 194 151 145 228 126 189 171 98 138 136 105 112 196 203 142 106 143 217 172 149 105 215 157 82 101 161 110 145 172 104 158 165 236 80 197 138 256 183 165 155 183 107 231 156 193 91 200 178 120 207 135 142 177 156 114 140 111 172 190 167 84 242 134 56 128 148 146 133 77 137 141 91 105 158 169 141 191 220 191 161 145 179 120 112 160 197 116 134 161 163 168 66 169 106 130 46 42 115 230 101 170 168 230 200 177 198 223 58 184 139 114 180 175 204 136 168 136 150 205 77 73 169 143 144 242 178 180 167 80 243 106 187 189 76 99 179 172 166 187 159 165 183 108 139 128 166 202 171 120 222 232 152 115 179 87 167 184 194 145 68 148 221 147 85 111 221 76 217 116 183 161 100 197 158 146 215 192 161 160 118 213 142 55 130 136 196 162 211 227 75 199 185 108 153 104 223 116 163 136 140 162 130 155 203 181 157 171 120 149 187 119 179 76 176 125 220 59 172 148 164 68 86 186 223 188 194 164 79 178 168 175 142 72 163 102 227 137 109 140 110 149 88 132 128 101 146 129 98 274 112 145 164 110 127 174 256 135 46 178 260 113 183 142 156 134 148 121 175 153 61 127 158 176 163 156 182 173 141 259 145 177 117 117 147 108 125 181 119 160 97 218 195 199 202 161 108 254 199 123 108 90 243 130 119 207 95 81 152 154 208 216 170 125 111 131 162 116 150 180 171 189 172 146 152 158 154 93 160 154 135 186 196 149 157 182 65 178 230 82 228 159 206 171 217 141 152 126 104 77 179 174 201 192 149 60 184 181 115 172 95 143 180 97 158 64 146 155 203 158 191 94 206 151 138 96 240 134 191 109 154 187 188 92 151 139 131 190 166 226 139 180 151 96 107 292 209 141 139 166 141 131 107 180 146 59 146 179 141 173 84 71 132 119 105 65 203 172 175 145 139 49 238 83 180 167 141 75 147 123 166 185 234 127 138 200 147 74 154 97 176 174 170 221 164 166 102 126 201 151 177 164 133 196 64 154 142 56 71 190 194 208 103 128 174 231 95 204 150 123 141 243 172 240 145 112 84 117 177 127 110 213 95 237 157 129 122 167 152 96 183 112 40 210 187 67 241 102 110 134 215 194 252 179 109 103 194 234 205 129 224 152 100 154 115 191 110 192 158 202 108 92 142 69 279 102 172 168 167 109 263 91 174 124 200 137 183 129 193 181 123 119 115 100 185 165 162 100 180 141 117 155 190 138 167 192 178 162 82 159 149 119 182 130 115 148 103 146 109 170 186 198 200 131 106 158 175 130 216 172 246 119 148 107 198 179 138 148 156 194 167 173 222 128 129 224 176 82 198 107 169 132 190 119 72 206 164 163 165 108 69 139 134 186 117 116 243 163 172 151 194 209 189 90 199 174 170 82 155 189 130 138 120 150 126 48 171 167 156 112 146 108 204 53 141 189 118 109 91 146 143 83 187 153 92 170 220 204 219 170 64 141 104 162 217 153 100 156 214 97 275 57 147 73 188 196 265 205 86 88 126 119 225 77 188 220 115 150 174 127 107 127 113 80 138 161 222 58 235 169 66 174 179 149 107 212 116 154 122 84 106 194 67 178 166 206 118 172 164 153 75 77 113 103 145 233 141 147 109 125 105 194 203 157 170 53 70 171 155 121 125 177 116 66 152 160 151 262 147 231 88 205 117 224 98 198 218 156 161 196 193 132 161 95 81 87 220 128 223 143 174 84 127 129 164 243 247 96 138 150 232 127 199 96 185 149 87 186 97 203 141 146 195 115 152 145 160 197 121 151 170 128 103 137 178 118 189 99 152 215 176 126 150 184 102 156 220 142 181 170 187 184 116 166 174 129 220 176 137 187 166 109 228 116 212 158 237 190 110 184 128 159 122 160 112 138 221 202 53 223 190 138 206 130 144 197 143 90 168 111 206 94 76 199 163 136 169 188 163 122 101 169 164 131 229 114 75 225 102 118 135 107 103 142 112 159 163 119 104 124 173 150 127 194 224 138 112 136 145 96 125 178 139 154 91 129 135 204 183 155 161 57 118 235 196 87 156 88 102 160 141 123 135 202 158 179 128 148 185 169 130 177 142 247 146 170 158 154 104 128 97 168 104 156 117 147 158 127 165 214 109 143 223 85 129 118 68 103 162 90 129 167 125 166 198 106 195 140 112 80 129 126 241 181 154 143 208 171 161 147 155 220 156 178 144 89 189 172 77 142 115 84 213 105 180 202 133 169 107 146 112 156 216 163 159 188 199 162 106 110 156 132 211 203 145 185 220 56 70 150 128 136 217 147 188 239 131 137 112 166 203 187 163 159 175 145 126 92 150 207 171 99 79 57 237 210 164 120 154 227 155 84 177 231 166 97 207 99 174 216 189 234 248 130 112 103 171 169 146 171 154 92 97 160 251 103 246 188 102 56 46 183 118 111 198 110 229 204 151 105 158 188 169 192 143 91 116 166 140 156 154 50 119 82 125 213 191 139 150 200 140 104 72 133 124 139 186 106 95 86 132 109 120 169 114 197 56 111 91 172 142 136 261 145 85 58 120 148 292 171 101 72 236 165 164 89 133 150 165 132 96 213 131 217 72 160 232 60 114 142 118 170 129 149 248 192 70 176 159 141 195 95 74 183 112 166 144 149 244 151 138 120 116 55 213 176 98 161 116 89 263 181 156 198 153 117 116 180 110 134 179 157 164 238 137 150 207 151 204 137 157 115 173 159 215 141 229 126 225 155 176 138 153 147 93 90 157 125 148 105 92 173 78 222 89 184 117 200 92 102 200 221 103 161 178 116 213 152 236 127 100 146 166 175 123 133 187 120 169 152 147 91 123 149 88 193 152 70 145 208 137 218 180 223 83 195 142 208 143 153 156 145 118 172 142 99 169 174 109 98 161 210 124 128 163 151 206 179 147 249 227 134 98 137 194 202 146 172 163 130 162 165 155 106 116 141 138 149 247 114 139 91 116 210 138 184 158 70 165 180 176 174 212 123 153 253 75 172 164 182 79 200 161 206 146 131 206 173 117 100 183 187 116 89 106 215 157 92 101 134 83 130 129 148 173 158 134 146 129 218 38 114 190 119 196 120 212 253 129 163 157 186 134 179 211 150 101 67 190 139 95 73 133 144 118 167 167 175 155 204 153 143 152 152 192 173 29 157 183 231 153 134 103 123 209 156 156 197 178 85 133 117 196 132 167 239 165 111 191 140 219 112 194 164 185 160 247 138 202 153 98 110 136 125 184 150 110 159 226 134 169 126 193 146 121 163 48 82 216 202 156 215 168 129 136 190 165 95 213 156 210 148 108 62 76 101 66 191 186 144 154 205 112 223 197 108 100 143 176 80 180 171 127 98 189 125 114 175 129 135 153 121 194 197 133 144 143 43 238 149 180 206 106 97 123 169 169 123 157 182 133 231 108 81 224 86 177 102 224 156 111 165 134 163 134 148 100 183 181 99 172 178 136 126 175 150 168 151 253 135 111 150 50 129 85 144 162 162 130 84 196 153 197 203 123 100 108 219 162 150 64 151 265 115 204 178 156 142 233 70 99 143 145 140 198 165 92 211 177 224 105 110 155 151 146 116 114 153 193 111 169 200 201 206 141 227 164 195 145 95 197 214 103 174 131 83 97 89 151 189 89 157 223 113 167 174 183 176 100 132 174 100 207 197 161 158 184 218 111 151 94 105 182 101 129 136 102 145 141 83 93 173 87 187 176 175 101 218 80 81 78 146 133 184 174 122 209 143 155 261 74 128 261 137 160 213 143 186 141 183 139 165 89 136 225 143 120 117 152 109 99 75 180 159 111 117 119 179 163 183 210 145 162 121 235 202 175 136 198 153 101 187 188 125 172 134 179 187 99 226 173 95 187 153 200 102 89 176 202 155 155 179 162 131 96 142 98 152 129 163 54 136 188 170 149 120 97 177 194 98 204 187 210 159 76 169 276 141 179 135 117 151 133 147 73 172 153 208 98 225 46 165 150 136 118 230 153 117 158 106 122 128 211 200 121 158 165 198 109 168 160 111 148 212 119 144 120 97 192 135 134 112 103 219 210 177 196 147 197 138 90 161 225 101 81 155 126 193 121 154 120 156 167 235 122 143 172 174 149 133 206 248 121 132 162 119 126 130 80 165 161 213 43 145 152 140 192 193 112 69 206 127 115 252 141 107 188 180 133 123 169 183 140 117 163 53 245 158 161 202 225 206 153 184 144 216 193 183 100 208 140 58 123 121 184 184 145 184 142 189 146 145 173 98 123 108 106 103 82 198 136 205 101 152 135 144 136 202 153 185 176 262 136 168 240 101 201 156 79 104 173 186 91 150 71 125 161 109 74 135 132 65 204 149 136 199 129 209 90 163 116 126 73 185 183 153 215 237 115 160 111 196 157 42 170 163 133 165 118 213 141 221 145 84 185 162 94 115 134 194 213 60 201 132 148 123 176 215 173 89 131 118 198 173 151 130 197 141 143 196 131 111 131 114 216 219 119 142 180 47 170 169 167 228 90 202 142 103 179 201 110 80 133 218 117 163 212 138 195 230 133 134 264 81 175 208 137 117 156 152 261 137 140 204 244 227 220 120 181 149 164 46 87 136 101 137 92 157 124 135 178 208 163 158 145 225 168 149 143 243 198 171 134 153 214 198 272 190 228 114 96 129 203 186 206 127 164 104 220 182 182 106 211 167 153 176 38 184 105 168 115 188 148 134 141 108 169 103 165 101 123 186 167 111 85 78 202 131 114 134 149 79 53 152 187 133 103 248 137 168 89 178 107 134 154 139 165 183 219 208 191 240 220 188 178 148 165 214 149 130 217 115 170 157 148 128 212 271 201 133 139 185 233 200 88 110 228 120 152 163 113 171 158 117 163 194 139 137 139 231 118 163 125 129 130 180 147 249 108 94 61 142 109 178 245 189 106 99 130 124 83 159 85 183 96 161 135 126 142 70 111 88 151 144 139 211 167 155 140 109 184 207 84 86 176 130 145 178 158 107 189 187 141 144 121 156 148 86 109 142 135 209 195 133 46 151 160 172 133 128 127 120 184 131 225 184 168 97 160 131 159 98 205 167 134 141 132 192 158 177 137 125 230 131 139 120 194 213 151 21 141 156 106 228 151 118 107 149 193 179 90 130 165 175 132 161 135 166 125 143 146 180 179 145 198 96 130 61 161 140 171 94 176 226 130 193 191 143 262 130 213 118 227 120 179 137 147 170 153 100 139 87 162 138 144 191 154 238 131 151 101 123 211 142 98 122 198 162 110 228 101 110 182 154 149 136 93 114 104 153 181 108 183 173 116 130 185 99 166 181 156 263 185 233 219 109 151 126 73 168 185 179 100 137 184 176 114 91 112 76 171 200 128 156 127 110 124 169 146 217 169 137 131 156 195 59 91 182 189 246 69 159 135 154 211 157 86 189 149 181 171 107 152 201 259 163 73 204 232 149 164 185 170 134 132 115 155 188 166 112 157 129 199 192 94 171 152 170 117 178 200 172 217 142 124 253 185 202 164 138 138 139 170 125 159 206 169 146 255 129 148 167' is not a valid format string (unrecognized character '0')"
     ]
    },
    {
     "data": {
      "image/png": "[encoded data removed]",
      "text/plain": [
       "<Figure size 640x480 with 1 Axes>"
      ]
     },
     "metadata": {},
     "output_type": "display_data"
    }
   ],
   "source": [
    "plt.plot(vec.vectime, vec.vecvalue, drawstyle='steps-post')"
   ]
  },
  {
   "cell_type": "code",
   "execution_count": 34,
   "id": "2303bd9c",
   "metadata": {},
   "outputs": [],
   "source": [
    "def running_avg(x):\n",
    "    return np.cumsum(x) / np.arange(1, x.size + 1)\n"
   ]
  },
  {
   "cell_type": "code",
   "execution_count": 35,
   "id": "39d3a2ba",
   "metadata": {},
   "outputs": [
    {
     "data": {
      "text/plain": [
       "run                      Validation1-0-20221208-22:09:54-55868\n",
       "type                                                    vector\n",
       "module                OpportunisticCellularNetwork.cellular[3]\n",
       "name                                     userThroughput:vector\n",
       "attrname                                                   NaN\n",
       "attrvalue                                                  NaN\n",
       "vectime      0 0.001 0.002 0.003 0.004 0.005 0.006 0.007 0....\n",
       "vecvalue     0 7 154 136 169 82 169 107 114 108 204 183 196...\n",
       "Name: 46, dtype: object"
      ]
     },
     "execution_count": 35,
     "metadata": {},
     "output_type": "execute_result"
    }
   ],
   "source": [
    "vec"
   ]
  },
  {
   "cell_type": "code",
   "execution_count": 36,
   "id": "5b4eab9f",
   "metadata": {},
   "outputs": [
    {
     "ename": "UFuncTypeError",
     "evalue": "ufunc 'add' did not contain a loop with signature matching types (dtype('<U11609'), dtype('<U11609')) -> None",
     "output_type": "error",
     "traceback": [
      "\u001b[0;31m---------------------------------------------------------------------------\u001b[0m",
      "\u001b[0;31mUFuncTypeError\u001b[0m                            Traceback (most recent call last)",
      "Cell \u001b[0;32mIn[36], line 1\u001b[0m\n\u001b[0;32m----> 1\u001b[0m plt\u001b[38;5;241m.\u001b[39mplot(vec\u001b[38;5;241m.\u001b[39mvectime, \u001b[43mrunning_avg\u001b[49m\u001b[43m(\u001b[49m\u001b[43mvec\u001b[49m\u001b[38;5;241;43m.\u001b[39;49m\u001b[43mvecvalue\u001b[49m\u001b[43m)\u001b[49m)\n",
      "Cell \u001b[0;32mIn[34], line 2\u001b[0m, in \u001b[0;36mrunning_avg\u001b[0;34m(x)\u001b[0m\n\u001b[1;32m      1\u001b[0m \u001b[38;5;28;01mdef\u001b[39;00m \u001b[38;5;21mrunning_avg\u001b[39m(x):\n\u001b[0;32m----> 2\u001b[0m     \u001b[38;5;28;01mreturn\u001b[39;00m \u001b[43mnp\u001b[49m\u001b[38;5;241;43m.\u001b[39;49m\u001b[43mcumsum\u001b[49m\u001b[43m(\u001b[49m\u001b[43mx\u001b[49m\u001b[43m)\u001b[49m \u001b[38;5;241m/\u001b[39m np\u001b[38;5;241m.\u001b[39marange(\u001b[38;5;241m1\u001b[39m, x\u001b[38;5;241m.\u001b[39msize \u001b[38;5;241m+\u001b[39m \u001b[38;5;241m1\u001b[39m)\n",
      "File \u001b[0;32m<__array_function__ internals>:180\u001b[0m, in \u001b[0;36mcumsum\u001b[0;34m(*args, **kwargs)\u001b[0m\n",
      "File \u001b[0;32m/usr/local/lib/python3.10/site-packages/numpy/core/fromnumeric.py:2571\u001b[0m, in \u001b[0;36mcumsum\u001b[0;34m(a, axis, dtype, out)\u001b[0m\n\u001b[1;32m   2497\u001b[0m \u001b[38;5;129m@array_function_dispatch\u001b[39m(_cumsum_dispatcher)\n\u001b[1;32m   2498\u001b[0m \u001b[38;5;28;01mdef\u001b[39;00m \u001b[38;5;21mcumsum\u001b[39m(a, axis\u001b[38;5;241m=\u001b[39m\u001b[38;5;28;01mNone\u001b[39;00m, dtype\u001b[38;5;241m=\u001b[39m\u001b[38;5;28;01mNone\u001b[39;00m, out\u001b[38;5;241m=\u001b[39m\u001b[38;5;28;01mNone\u001b[39;00m):\n\u001b[1;32m   2499\u001b[0m     \u001b[38;5;124;03m\"\"\"\u001b[39;00m\n\u001b[1;32m   2500\u001b[0m \u001b[38;5;124;03m    Return the cumulative sum of the elements along a given axis.\u001b[39;00m\n\u001b[1;32m   2501\u001b[0m \n\u001b[0;32m   (...)\u001b[0m\n\u001b[1;32m   2569\u001b[0m \n\u001b[1;32m   2570\u001b[0m \u001b[38;5;124;03m    \"\"\"\u001b[39;00m\n\u001b[0;32m-> 2571\u001b[0m     \u001b[38;5;28;01mreturn\u001b[39;00m \u001b[43m_wrapfunc\u001b[49m\u001b[43m(\u001b[49m\u001b[43ma\u001b[49m\u001b[43m,\u001b[49m\u001b[43m \u001b[49m\u001b[38;5;124;43m'\u001b[39;49m\u001b[38;5;124;43mcumsum\u001b[39;49m\u001b[38;5;124;43m'\u001b[39;49m\u001b[43m,\u001b[49m\u001b[43m \u001b[49m\u001b[43maxis\u001b[49m\u001b[38;5;241;43m=\u001b[39;49m\u001b[43maxis\u001b[49m\u001b[43m,\u001b[49m\u001b[43m \u001b[49m\u001b[43mdtype\u001b[49m\u001b[38;5;241;43m=\u001b[39;49m\u001b[43mdtype\u001b[49m\u001b[43m,\u001b[49m\u001b[43m \u001b[49m\u001b[43mout\u001b[49m\u001b[38;5;241;43m=\u001b[39;49m\u001b[43mout\u001b[49m\u001b[43m)\u001b[49m\n",
      "File \u001b[0;32m/usr/local/lib/python3.10/site-packages/numpy/core/fromnumeric.py:54\u001b[0m, in \u001b[0;36m_wrapfunc\u001b[0;34m(obj, method, *args, **kwds)\u001b[0m\n\u001b[1;32m     52\u001b[0m bound \u001b[38;5;241m=\u001b[39m \u001b[38;5;28mgetattr\u001b[39m(obj, method, \u001b[38;5;28;01mNone\u001b[39;00m)\n\u001b[1;32m     53\u001b[0m \u001b[38;5;28;01mif\u001b[39;00m bound \u001b[38;5;129;01mis\u001b[39;00m \u001b[38;5;28;01mNone\u001b[39;00m:\n\u001b[0;32m---> 54\u001b[0m     \u001b[38;5;28;01mreturn\u001b[39;00m \u001b[43m_wrapit\u001b[49m\u001b[43m(\u001b[49m\u001b[43mobj\u001b[49m\u001b[43m,\u001b[49m\u001b[43m \u001b[49m\u001b[43mmethod\u001b[49m\u001b[43m,\u001b[49m\u001b[43m \u001b[49m\u001b[38;5;241;43m*\u001b[39;49m\u001b[43margs\u001b[49m\u001b[43m,\u001b[49m\u001b[43m \u001b[49m\u001b[38;5;241;43m*\u001b[39;49m\u001b[38;5;241;43m*\u001b[39;49m\u001b[43mkwds\u001b[49m\u001b[43m)\u001b[49m\n\u001b[1;32m     56\u001b[0m \u001b[38;5;28;01mtry\u001b[39;00m:\n\u001b[1;32m     57\u001b[0m     \u001b[38;5;28;01mreturn\u001b[39;00m bound(\u001b[38;5;241m*\u001b[39margs, \u001b[38;5;241m*\u001b[39m\u001b[38;5;241m*\u001b[39mkwds)\n",
      "File \u001b[0;32m/usr/local/lib/python3.10/site-packages/numpy/core/fromnumeric.py:43\u001b[0m, in \u001b[0;36m_wrapit\u001b[0;34m(obj, method, *args, **kwds)\u001b[0m\n\u001b[1;32m     41\u001b[0m \u001b[38;5;28;01mexcept\u001b[39;00m \u001b[38;5;167;01mAttributeError\u001b[39;00m:\n\u001b[1;32m     42\u001b[0m     wrap \u001b[38;5;241m=\u001b[39m \u001b[38;5;28;01mNone\u001b[39;00m\n\u001b[0;32m---> 43\u001b[0m result \u001b[38;5;241m=\u001b[39m \u001b[38;5;28;43mgetattr\u001b[39;49m\u001b[43m(\u001b[49m\u001b[43masarray\u001b[49m\u001b[43m(\u001b[49m\u001b[43mobj\u001b[49m\u001b[43m)\u001b[49m\u001b[43m,\u001b[49m\u001b[43m \u001b[49m\u001b[43mmethod\u001b[49m\u001b[43m)\u001b[49m\u001b[43m(\u001b[49m\u001b[38;5;241;43m*\u001b[39;49m\u001b[43margs\u001b[49m\u001b[43m,\u001b[49m\u001b[43m \u001b[49m\u001b[38;5;241;43m*\u001b[39;49m\u001b[38;5;241;43m*\u001b[39;49m\u001b[43mkwds\u001b[49m\u001b[43m)\u001b[49m\n\u001b[1;32m     44\u001b[0m \u001b[38;5;28;01mif\u001b[39;00m wrap:\n\u001b[1;32m     45\u001b[0m     \u001b[38;5;28;01mif\u001b[39;00m \u001b[38;5;129;01mnot\u001b[39;00m \u001b[38;5;28misinstance\u001b[39m(result, mu\u001b[38;5;241m.\u001b[39mndarray):\n",
      "\u001b[0;31mUFuncTypeError\u001b[0m: ufunc 'add' did not contain a loop with signature matching types (dtype('<U11609'), dtype('<U11609')) -> None"
     ]
    }
   ],
   "source": [
    "plt.plot(vec.vectime, running_avg(vec.vecvalue))"
   ]
  },
  {
   "cell_type": "code",
   "execution_count": 39,
   "id": "6ca229d2",
   "metadata": {},
   "outputs": [],
   "source": [
    "\n",
    "\n",
    "def parse_if_number(s):\n",
    "    try: return float(s)\n",
    "    except: return True if s==\"true\" else False if s==\"false\" else s if s else None\n",
    "\n",
    "def parse_ndarray(s):\n",
    "    return np.fromstring(s, sep=' ') if s else None\n"
   ]
  },
  {
   "cell_type": "code",
   "execution_count": 40,
   "id": "24be8171",
   "metadata": {},
   "outputs": [
    {
     "ename": "SyntaxError",
     "evalue": "invalid syntax. Maybe you meant '==' or ':=' instead of '='? (1990925406.py, line 1)",
     "output_type": "error",
     "traceback": [
      "\u001b[0;36m  Cell \u001b[0;32mIn[40], line 1\u001b[0;36m\u001b[0m\n\u001b[0;31m    final = vec[converters = {\u001b[0m\n\u001b[0m                ^\u001b[0m\n\u001b[0;31mSyntaxError\u001b[0m\u001b[0;31m:\u001b[0m invalid syntax. Maybe you meant '==' or ':=' instead of '='?\n"
     ]
    }
   ],
   "source": [
    "final = vec[converters = {\n",
    "    'vectime' : parse_ndarray,\n",
    "    'vecvalue' : parse_ndarray\n",
    "}]"
   ]
  },
  {
   "cell_type": "code",
   "execution_count": 41,
   "id": "85e1c8c3",
   "metadata": {},
   "outputs": [],
   "source": [
    "test = pd.read_csv('Validation1.csv', converters = {\n",
    "    'attrvalue': parse_if_number,\n",
    "    'binedges': parse_ndarray,\n",
    "    'binvalues': parse_ndarray,\n",
    "    'vectime': parse_ndarray,\n",
    "    'vecvalue': parse_ndarray})"
   ]
  },
  {
   "cell_type": "code",
   "execution_count": 42,
   "id": "433a1ac3",
   "metadata": {},
   "outputs": [
    {
     "data": {
      "text/html": [
       "<div>\n",
       "<style scoped>\n",
       "    .dataframe tbody tr th:only-of-type {\n",
       "        vertical-align: middle;\n",
       "    }\n",
       "\n",
       "    .dataframe tbody tr th {\n",
       "        vertical-align: top;\n",
       "    }\n",
       "\n",
       "    .dataframe thead th {\n",
       "        text-align: right;\n",
       "    }\n",
       "</style>\n",
       "<table border=\"1\" class=\"dataframe\">\n",
       "  <thead>\n",
       "    <tr style=\"text-align: right;\">\n",
       "      <th></th>\n",
       "      <th>run</th>\n",
       "      <th>type</th>\n",
       "      <th>module</th>\n",
       "      <th>name</th>\n",
       "      <th>attrname</th>\n",
       "      <th>attrvalue</th>\n",
       "      <th>vectime</th>\n",
       "      <th>vecvalue</th>\n",
       "    </tr>\n",
       "  </thead>\n",
       "  <tbody>\n",
       "    <tr>\n",
       "      <th>0</th>\n",
       "      <td>Validation1-0-20221208-22:09:54-55868</td>\n",
       "      <td>runattr</td>\n",
       "      <td>NaN</td>\n",
       "      <td>NaN</td>\n",
       "      <td>configname</td>\n",
       "      <td>Validation1</td>\n",
       "      <td>None</td>\n",
       "      <td>None</td>\n",
       "    </tr>\n",
       "    <tr>\n",
       "      <th>1</th>\n",
       "      <td>Validation1-0-20221208-22:09:54-55868</td>\n",
       "      <td>runattr</td>\n",
       "      <td>NaN</td>\n",
       "      <td>NaN</td>\n",
       "      <td>datetime</td>\n",
       "      <td>20221208-22:09:54</td>\n",
       "      <td>None</td>\n",
       "      <td>None</td>\n",
       "    </tr>\n",
       "    <tr>\n",
       "      <th>2</th>\n",
       "      <td>Validation1-0-20221208-22:09:54-55868</td>\n",
       "      <td>runattr</td>\n",
       "      <td>NaN</td>\n",
       "      <td>NaN</td>\n",
       "      <td>datetimef</td>\n",
       "      <td>20221208-220954</td>\n",
       "      <td>None</td>\n",
       "      <td>None</td>\n",
       "    </tr>\n",
       "    <tr>\n",
       "      <th>3</th>\n",
       "      <td>Validation1-0-20221208-22:09:54-55868</td>\n",
       "      <td>runattr</td>\n",
       "      <td>NaN</td>\n",
       "      <td>NaN</td>\n",
       "      <td>experiment</td>\n",
       "      <td>Validation1</td>\n",
       "      <td>None</td>\n",
       "      <td>None</td>\n",
       "    </tr>\n",
       "    <tr>\n",
       "      <th>4</th>\n",
       "      <td>Validation1-0-20221208-22:09:54-55868</td>\n",
       "      <td>runattr</td>\n",
       "      <td>NaN</td>\n",
       "      <td>NaN</td>\n",
       "      <td>inifile</td>\n",
       "      <td>../simulations/omnetpp.ini</td>\n",
       "      <td>None</td>\n",
       "      <td>None</td>\n",
       "    </tr>\n",
       "    <tr>\n",
       "      <th>...</th>\n",
       "      <td>...</td>\n",
       "      <td>...</td>\n",
       "      <td>...</td>\n",
       "      <td>...</td>\n",
       "      <td>...</td>\n",
       "      <td>...</td>\n",
       "      <td>...</td>\n",
       "      <td>...</td>\n",
       "    </tr>\n",
       "    <tr>\n",
       "      <th>65</th>\n",
       "      <td>Validation1-0-20221208-22:09:54-55868</td>\n",
       "      <td>attr</td>\n",
       "      <td>OpportunisticCellularNetwork.cellular[0]</td>\n",
       "      <td>userResponseTime:vector</td>\n",
       "      <td>source</td>\n",
       "      <td>userResponseTimeSignal</td>\n",
       "      <td>None</td>\n",
       "      <td>None</td>\n",
       "    </tr>\n",
       "    <tr>\n",
       "      <th>66</th>\n",
       "      <td>Validation1-0-20221208-22:09:54-55868</td>\n",
       "      <td>vector</td>\n",
       "      <td>OpportunisticCellularNetwork.cellular[1]</td>\n",
       "      <td>userResponseTime:vector</td>\n",
       "      <td>NaN</td>\n",
       "      <td>None</td>\n",
       "      <td>[0.001843178248, 0.001843178248, 0.00275835764...</td>\n",
       "      <td>[0.000374997033, 0.000124997033, 0.00079017643...</td>\n",
       "    </tr>\n",
       "    <tr>\n",
       "      <th>67</th>\n",
       "      <td>Validation1-0-20221208-22:09:54-55868</td>\n",
       "      <td>attr</td>\n",
       "      <td>OpportunisticCellularNetwork.cellular[1]</td>\n",
       "      <td>userResponseTime:vector</td>\n",
       "      <td>NaN</td>\n",
       "      <td>None</td>\n",
       "      <td>None</td>\n",
       "      <td>None</td>\n",
       "    </tr>\n",
       "    <tr>\n",
       "      <th>68</th>\n",
       "      <td>Validation1-0-20221208-22:09:54-55868</td>\n",
       "      <td>attr</td>\n",
       "      <td>OpportunisticCellularNetwork.cellular[1]</td>\n",
       "      <td>userResponseTime:vector</td>\n",
       "      <td>recordingmode</td>\n",
       "      <td>vector</td>\n",
       "      <td>None</td>\n",
       "      <td>None</td>\n",
       "    </tr>\n",
       "    <tr>\n",
       "      <th>69</th>\n",
       "      <td>Validation1-0-20221208-22:09:54-55868</td>\n",
       "      <td>attr</td>\n",
       "      <td>OpportunisticCellularNetwork.cellular[1]</td>\n",
       "      <td>userResponseTime:vector</td>\n",
       "      <td>source</td>\n",
       "      <td>userResponseTimeSignal</td>\n",
       "      <td>None</td>\n",
       "      <td>None</td>\n",
       "    </tr>\n",
       "  </tbody>\n",
       "</table>\n",
       "<p>70 rows × 8 columns</p>\n",
       "</div>"
      ],
      "text/plain": [
       "                                      run     type  \\\n",
       "0   Validation1-0-20221208-22:09:54-55868  runattr   \n",
       "1   Validation1-0-20221208-22:09:54-55868  runattr   \n",
       "2   Validation1-0-20221208-22:09:54-55868  runattr   \n",
       "3   Validation1-0-20221208-22:09:54-55868  runattr   \n",
       "4   Validation1-0-20221208-22:09:54-55868  runattr   \n",
       "..                                    ...      ...   \n",
       "65  Validation1-0-20221208-22:09:54-55868     attr   \n",
       "66  Validation1-0-20221208-22:09:54-55868   vector   \n",
       "67  Validation1-0-20221208-22:09:54-55868     attr   \n",
       "68  Validation1-0-20221208-22:09:54-55868     attr   \n",
       "69  Validation1-0-20221208-22:09:54-55868     attr   \n",
       "\n",
       "                                      module                     name  \\\n",
       "0                                        NaN                      NaN   \n",
       "1                                        NaN                      NaN   \n",
       "2                                        NaN                      NaN   \n",
       "3                                        NaN                      NaN   \n",
       "4                                        NaN                      NaN   \n",
       "..                                       ...                      ...   \n",
       "65  OpportunisticCellularNetwork.cellular[0]  userResponseTime:vector   \n",
       "66  OpportunisticCellularNetwork.cellular[1]  userResponseTime:vector   \n",
       "67  OpportunisticCellularNetwork.cellular[1]  userResponseTime:vector   \n",
       "68  OpportunisticCellularNetwork.cellular[1]  userResponseTime:vector   \n",
       "69  OpportunisticCellularNetwork.cellular[1]  userResponseTime:vector   \n",
       "\n",
       "         attrname                   attrvalue  \\\n",
       "0      configname                 Validation1   \n",
       "1        datetime           20221208-22:09:54   \n",
       "2       datetimef             20221208-220954   \n",
       "3      experiment                 Validation1   \n",
       "4         inifile  ../simulations/omnetpp.ini   \n",
       "..            ...                         ...   \n",
       "65         source      userResponseTimeSignal   \n",
       "66            NaN                        None   \n",
       "67            NaN                        None   \n",
       "68  recordingmode                      vector   \n",
       "69         source      userResponseTimeSignal   \n",
       "\n",
       "                                              vectime  \\\n",
       "0                                                None   \n",
       "1                                                None   \n",
       "2                                                None   \n",
       "3                                                None   \n",
       "4                                                None   \n",
       "..                                                ...   \n",
       "65                                               None   \n",
       "66  [0.001843178248, 0.001843178248, 0.00275835764...   \n",
       "67                                               None   \n",
       "68                                               None   \n",
       "69                                               None   \n",
       "\n",
       "                                             vecvalue  \n",
       "0                                                None  \n",
       "1                                                None  \n",
       "2                                                None  \n",
       "3                                                None  \n",
       "4                                                None  \n",
       "..                                                ...  \n",
       "65                                               None  \n",
       "66  [0.000374997033, 0.000124997033, 0.00079017643...  \n",
       "67                                               None  \n",
       "68                                               None  \n",
       "69                                               None  \n",
       "\n",
       "[70 rows x 8 columns]"
      ]
     },
     "execution_count": 42,
     "metadata": {},
     "output_type": "execute_result"
    }
   ],
   "source": [
    "test"
   ]
  },
  {
   "cell_type": "code",
   "execution_count": 43,
   "id": "ee955bc0",
   "metadata": {},
   "outputs": [
    {
     "ename": "SyntaxError",
     "evalue": "cannot assign to attribute here. Maybe you meant '==' instead of '='? (2238556280.py, line 1)",
     "output_type": "error",
     "traceback": [
      "\u001b[0;36m  Cell \u001b[0;32mIn[43], line 1\u001b[0;36m\u001b[0m\n\u001b[0;31m    test = test[(test.type = 'vector')]\u001b[0m\n\u001b[0m                 ^\u001b[0m\n\u001b[0;31mSyntaxError\u001b[0m\u001b[0;31m:\u001b[0m cannot assign to attribute here. Maybe you meant '==' instead of '='?\n"
     ]
    }
   ],
   "source": [
    "test = test[(test.type = 'vector')]"
   ]
  },
  {
   "cell_type": "code",
   "execution_count": 44,
   "id": "de02cb42",
   "metadata": {},
   "outputs": [],
   "source": [
    "test = test[(test.type ==\n",
    "        'vector')]"
   ]
  },
  {
   "cell_type": "code",
   "execution_count": 45,
   "id": "7902b4f2",
   "metadata": {},
   "outputs": [
    {
     "data": {
      "text/html": [
       "<div>\n",
       "<style scoped>\n",
       "    .dataframe tbody tr th:only-of-type {\n",
       "        vertical-align: middle;\n",
       "    }\n",
       "\n",
       "    .dataframe tbody tr th {\n",
       "        vertical-align: top;\n",
       "    }\n",
       "\n",
       "    .dataframe thead th {\n",
       "        text-align: right;\n",
       "    }\n",
       "</style>\n",
       "<table border=\"1\" class=\"dataframe\">\n",
       "  <thead>\n",
       "    <tr style=\"text-align: right;\">\n",
       "      <th></th>\n",
       "      <th>run</th>\n",
       "      <th>type</th>\n",
       "      <th>module</th>\n",
       "      <th>name</th>\n",
       "      <th>attrname</th>\n",
       "      <th>attrvalue</th>\n",
       "      <th>vectime</th>\n",
       "      <th>vecvalue</th>\n",
       "    </tr>\n",
       "  </thead>\n",
       "  <tbody>\n",
       "    <tr>\n",
       "      <th>34</th>\n",
       "      <td>Validation1-0-20221208-22:09:54-55868</td>\n",
       "      <td>vector</td>\n",
       "      <td>OpportunisticCellularNetwork.cellular[0]</td>\n",
       "      <td>userThroughput:vector</td>\n",
       "      <td>NaN</td>\n",
       "      <td>None</td>\n",
       "      <td>[0.0, 0.001, 0.002, 0.003, 0.004, 0.005, 0.006...</td>\n",
       "      <td>[0.0, 147.0, 105.0, 145.0, 93.0, 264.0, 58.0, ...</td>\n",
       "    </tr>\n",
       "    <tr>\n",
       "      <th>38</th>\n",
       "      <td>Validation1-0-20221208-22:09:54-55868</td>\n",
       "      <td>vector</td>\n",
       "      <td>OpportunisticCellularNetwork.cellular[1]</td>\n",
       "      <td>userThroughput:vector</td>\n",
       "      <td>NaN</td>\n",
       "      <td>None</td>\n",
       "      <td>[0.0, 0.001, 0.002, 0.003, 0.004, 0.005, 0.006...</td>\n",
       "      <td>[0.0, 0.0, 37.0, 252.0, 153.0, 79.0, 131.0, 20...</td>\n",
       "    </tr>\n",
       "    <tr>\n",
       "      <th>42</th>\n",
       "      <td>Validation1-0-20221208-22:09:54-55868</td>\n",
       "      <td>vector</td>\n",
       "      <td>OpportunisticCellularNetwork.cellular[2]</td>\n",
       "      <td>userThroughput:vector</td>\n",
       "      <td>NaN</td>\n",
       "      <td>None</td>\n",
       "      <td>[0.0, 0.001, 0.002, 0.003, 0.004, 0.005, 0.006...</td>\n",
       "      <td>[0.0, 59.0, 93.0, 85.0, 144.0, 148.0, 151.0, 2...</td>\n",
       "    </tr>\n",
       "    <tr>\n",
       "      <th>46</th>\n",
       "      <td>Validation1-0-20221208-22:09:54-55868</td>\n",
       "      <td>vector</td>\n",
       "      <td>OpportunisticCellularNetwork.cellular[3]</td>\n",
       "      <td>userThroughput:vector</td>\n",
       "      <td>NaN</td>\n",
       "      <td>None</td>\n",
       "      <td>[0.0, 0.001, 0.002, 0.003, 0.004, 0.005, 0.006...</td>\n",
       "      <td>[0.0, 7.0, 154.0, 136.0, 169.0, 82.0, 169.0, 1...</td>\n",
       "    </tr>\n",
       "    <tr>\n",
       "      <th>50</th>\n",
       "      <td>Validation1-0-20221208-22:09:54-55868</td>\n",
       "      <td>vector</td>\n",
       "      <td>OpportunisticCellularNetwork.antenna</td>\n",
       "      <td>throughput:vector</td>\n",
       "      <td>NaN</td>\n",
       "      <td>None</td>\n",
       "      <td>[0.000837706298, 0.001843178248, 0.00275835764...</td>\n",
       "      <td>[213.0, 389.0, 618.0, 559.0, 573.0, 509.0, 652...</td>\n",
       "    </tr>\n",
       "    <tr>\n",
       "      <th>54</th>\n",
       "      <td>Validation1-0-20221208-22:09:54-55868</td>\n",
       "      <td>vector</td>\n",
       "      <td>OpportunisticCellularNetwork.cellular[3]</td>\n",
       "      <td>userResponseTime:vector</td>\n",
       "      <td>NaN</td>\n",
       "      <td>None</td>\n",
       "      <td>[0.000837706298, 0.001843178248, 0.00184317824...</td>\n",
       "      <td>[0.000163586839, 0.000919058789, 0.00066905878...</td>\n",
       "    </tr>\n",
       "    <tr>\n",
       "      <th>58</th>\n",
       "      <td>Validation1-0-20221208-22:09:54-55868</td>\n",
       "      <td>vector</td>\n",
       "      <td>OpportunisticCellularNetwork.cellular[2]</td>\n",
       "      <td>userResponseTime:vector</td>\n",
       "      <td>NaN</td>\n",
       "      <td>None</td>\n",
       "      <td>[0.000837706298, 0.000837706298, 0.00083770629...</td>\n",
       "      <td>[0.000519174988, 0.000269174988, 1.9174988e-05...</td>\n",
       "    </tr>\n",
       "    <tr>\n",
       "      <th>62</th>\n",
       "      <td>Validation1-0-20221208-22:09:54-55868</td>\n",
       "      <td>vector</td>\n",
       "      <td>OpportunisticCellularNetwork.cellular[0]</td>\n",
       "      <td>userResponseTime:vector</td>\n",
       "      <td>NaN</td>\n",
       "      <td>None</td>\n",
       "      <td>[0.000837706298, 0.000837706298, 0.00083770629...</td>\n",
       "      <td>[0.000702804841, 0.000452804841, 0.00020280484...</td>\n",
       "    </tr>\n",
       "    <tr>\n",
       "      <th>66</th>\n",
       "      <td>Validation1-0-20221208-22:09:54-55868</td>\n",
       "      <td>vector</td>\n",
       "      <td>OpportunisticCellularNetwork.cellular[1]</td>\n",
       "      <td>userResponseTime:vector</td>\n",
       "      <td>NaN</td>\n",
       "      <td>None</td>\n",
       "      <td>[0.001843178248, 0.001843178248, 0.00275835764...</td>\n",
       "      <td>[0.000374997033, 0.000124997033, 0.00079017643...</td>\n",
       "    </tr>\n",
       "  </tbody>\n",
       "</table>\n",
       "</div>"
      ],
      "text/plain": [
       "                                      run    type  \\\n",
       "34  Validation1-0-20221208-22:09:54-55868  vector   \n",
       "38  Validation1-0-20221208-22:09:54-55868  vector   \n",
       "42  Validation1-0-20221208-22:09:54-55868  vector   \n",
       "46  Validation1-0-20221208-22:09:54-55868  vector   \n",
       "50  Validation1-0-20221208-22:09:54-55868  vector   \n",
       "54  Validation1-0-20221208-22:09:54-55868  vector   \n",
       "58  Validation1-0-20221208-22:09:54-55868  vector   \n",
       "62  Validation1-0-20221208-22:09:54-55868  vector   \n",
       "66  Validation1-0-20221208-22:09:54-55868  vector   \n",
       "\n",
       "                                      module                     name  \\\n",
       "34  OpportunisticCellularNetwork.cellular[0]    userThroughput:vector   \n",
       "38  OpportunisticCellularNetwork.cellular[1]    userThroughput:vector   \n",
       "42  OpportunisticCellularNetwork.cellular[2]    userThroughput:vector   \n",
       "46  OpportunisticCellularNetwork.cellular[3]    userThroughput:vector   \n",
       "50      OpportunisticCellularNetwork.antenna        throughput:vector   \n",
       "54  OpportunisticCellularNetwork.cellular[3]  userResponseTime:vector   \n",
       "58  OpportunisticCellularNetwork.cellular[2]  userResponseTime:vector   \n",
       "62  OpportunisticCellularNetwork.cellular[0]  userResponseTime:vector   \n",
       "66  OpportunisticCellularNetwork.cellular[1]  userResponseTime:vector   \n",
       "\n",
       "   attrname attrvalue                                            vectime  \\\n",
       "34      NaN      None  [0.0, 0.001, 0.002, 0.003, 0.004, 0.005, 0.006...   \n",
       "38      NaN      None  [0.0, 0.001, 0.002, 0.003, 0.004, 0.005, 0.006...   \n",
       "42      NaN      None  [0.0, 0.001, 0.002, 0.003, 0.004, 0.005, 0.006...   \n",
       "46      NaN      None  [0.0, 0.001, 0.002, 0.003, 0.004, 0.005, 0.006...   \n",
       "50      NaN      None  [0.000837706298, 0.001843178248, 0.00275835764...   \n",
       "54      NaN      None  [0.000837706298, 0.001843178248, 0.00184317824...   \n",
       "58      NaN      None  [0.000837706298, 0.000837706298, 0.00083770629...   \n",
       "62      NaN      None  [0.000837706298, 0.000837706298, 0.00083770629...   \n",
       "66      NaN      None  [0.001843178248, 0.001843178248, 0.00275835764...   \n",
       "\n",
       "                                             vecvalue  \n",
       "34  [0.0, 147.0, 105.0, 145.0, 93.0, 264.0, 58.0, ...  \n",
       "38  [0.0, 0.0, 37.0, 252.0, 153.0, 79.0, 131.0, 20...  \n",
       "42  [0.0, 59.0, 93.0, 85.0, 144.0, 148.0, 151.0, 2...  \n",
       "46  [0.0, 7.0, 154.0, 136.0, 169.0, 82.0, 169.0, 1...  \n",
       "50  [213.0, 389.0, 618.0, 559.0, 573.0, 509.0, 652...  \n",
       "54  [0.000163586839, 0.000919058789, 0.00066905878...  \n",
       "58  [0.000519174988, 0.000269174988, 1.9174988e-05...  \n",
       "62  [0.000702804841, 0.000452804841, 0.00020280484...  \n",
       "66  [0.000374997033, 0.000124997033, 0.00079017643...  "
      ]
     },
     "execution_count": 45,
     "metadata": {},
     "output_type": "execute_result"
    }
   ],
   "source": [
    "test"
   ]
  },
  {
   "cell_type": "code",
   "execution_count": 46,
   "id": "beff7e5d",
   "metadata": {},
   "outputs": [
    {
     "ename": "SyntaxError",
     "evalue": "cannot assign to attribute here. Maybe you meant '==' instead of '='? (4290173928.py, line 1)",
     "output_type": "error",
     "traceback": [
      "\u001b[0;36m  Cell \u001b[0;32mIn[46], line 1\u001b[0;36m\u001b[0m\n\u001b[0;31m    test = test[(test.name = 'userThroughput:vector')]\u001b[0m\n\u001b[0m                 ^\u001b[0m\n\u001b[0;31mSyntaxError\u001b[0m\u001b[0;31m:\u001b[0m cannot assign to attribute here. Maybe you meant '==' instead of '='?\n"
     ]
    }
   ],
   "source": [
    "test = test[(test.name = 'userThroughput:vector')]"
   ]
  },
  {
   "cell_type": "code",
   "execution_count": 47,
   "id": "9833cb1b",
   "metadata": {},
   "outputs": [],
   "source": [
    "\n",
    "test = test[(test.name == 'userThroughput:vector')]\n"
   ]
  },
  {
   "cell_type": "code",
   "execution_count": 48,
   "id": "b9fc3d2f",
   "metadata": {},
   "outputs": [
    {
     "data": {
      "text/html": [
       "<div>\n",
       "<style scoped>\n",
       "    .dataframe tbody tr th:only-of-type {\n",
       "        vertical-align: middle;\n",
       "    }\n",
       "\n",
       "    .dataframe tbody tr th {\n",
       "        vertical-align: top;\n",
       "    }\n",
       "\n",
       "    .dataframe thead th {\n",
       "        text-align: right;\n",
       "    }\n",
       "</style>\n",
       "<table border=\"1\" class=\"dataframe\">\n",
       "  <thead>\n",
       "    <tr style=\"text-align: right;\">\n",
       "      <th></th>\n",
       "      <th>run</th>\n",
       "      <th>type</th>\n",
       "      <th>module</th>\n",
       "      <th>name</th>\n",
       "      <th>attrname</th>\n",
       "      <th>attrvalue</th>\n",
       "      <th>vectime</th>\n",
       "      <th>vecvalue</th>\n",
       "    </tr>\n",
       "  </thead>\n",
       "  <tbody>\n",
       "    <tr>\n",
       "      <th>34</th>\n",
       "      <td>Validation1-0-20221208-22:09:54-55868</td>\n",
       "      <td>vector</td>\n",
       "      <td>OpportunisticCellularNetwork.cellular[0]</td>\n",
       "      <td>userThroughput:vector</td>\n",
       "      <td>NaN</td>\n",
       "      <td>None</td>\n",
       "      <td>[0.0, 0.001, 0.002, 0.003, 0.004, 0.005, 0.006...</td>\n",
       "      <td>[0.0, 147.0, 105.0, 145.0, 93.0, 264.0, 58.0, ...</td>\n",
       "    </tr>\n",
       "    <tr>\n",
       "      <th>38</th>\n",
       "      <td>Validation1-0-20221208-22:09:54-55868</td>\n",
       "      <td>vector</td>\n",
       "      <td>OpportunisticCellularNetwork.cellular[1]</td>\n",
       "      <td>userThroughput:vector</td>\n",
       "      <td>NaN</td>\n",
       "      <td>None</td>\n",
       "      <td>[0.0, 0.001, 0.002, 0.003, 0.004, 0.005, 0.006...</td>\n",
       "      <td>[0.0, 0.0, 37.0, 252.0, 153.0, 79.0, 131.0, 20...</td>\n",
       "    </tr>\n",
       "    <tr>\n",
       "      <th>42</th>\n",
       "      <td>Validation1-0-20221208-22:09:54-55868</td>\n",
       "      <td>vector</td>\n",
       "      <td>OpportunisticCellularNetwork.cellular[2]</td>\n",
       "      <td>userThroughput:vector</td>\n",
       "      <td>NaN</td>\n",
       "      <td>None</td>\n",
       "      <td>[0.0, 0.001, 0.002, 0.003, 0.004, 0.005, 0.006...</td>\n",
       "      <td>[0.0, 59.0, 93.0, 85.0, 144.0, 148.0, 151.0, 2...</td>\n",
       "    </tr>\n",
       "    <tr>\n",
       "      <th>46</th>\n",
       "      <td>Validation1-0-20221208-22:09:54-55868</td>\n",
       "      <td>vector</td>\n",
       "      <td>OpportunisticCellularNetwork.cellular[3]</td>\n",
       "      <td>userThroughput:vector</td>\n",
       "      <td>NaN</td>\n",
       "      <td>None</td>\n",
       "      <td>[0.0, 0.001, 0.002, 0.003, 0.004, 0.005, 0.006...</td>\n",
       "      <td>[0.0, 7.0, 154.0, 136.0, 169.0, 82.0, 169.0, 1...</td>\n",
       "    </tr>\n",
       "  </tbody>\n",
       "</table>\n",
       "</div>"
      ],
      "text/plain": [
       "                                      run    type  \\\n",
       "34  Validation1-0-20221208-22:09:54-55868  vector   \n",
       "38  Validation1-0-20221208-22:09:54-55868  vector   \n",
       "42  Validation1-0-20221208-22:09:54-55868  vector   \n",
       "46  Validation1-0-20221208-22:09:54-55868  vector   \n",
       "\n",
       "                                      module                   name attrname  \\\n",
       "34  OpportunisticCellularNetwork.cellular[0]  userThroughput:vector      NaN   \n",
       "38  OpportunisticCellularNetwork.cellular[1]  userThroughput:vector      NaN   \n",
       "42  OpportunisticCellularNetwork.cellular[2]  userThroughput:vector      NaN   \n",
       "46  OpportunisticCellularNetwork.cellular[3]  userThroughput:vector      NaN   \n",
       "\n",
       "   attrvalue                                            vectime  \\\n",
       "34      None  [0.0, 0.001, 0.002, 0.003, 0.004, 0.005, 0.006...   \n",
       "38      None  [0.0, 0.001, 0.002, 0.003, 0.004, 0.005, 0.006...   \n",
       "42      None  [0.0, 0.001, 0.002, 0.003, 0.004, 0.005, 0.006...   \n",
       "46      None  [0.0, 0.001, 0.002, 0.003, 0.004, 0.005, 0.006...   \n",
       "\n",
       "                                             vecvalue  \n",
       "34  [0.0, 147.0, 105.0, 145.0, 93.0, 264.0, 58.0, ...  \n",
       "38  [0.0, 0.0, 37.0, 252.0, 153.0, 79.0, 131.0, 20...  \n",
       "42  [0.0, 59.0, 93.0, 85.0, 144.0, 148.0, 151.0, 2...  \n",
       "46  [0.0, 7.0, 154.0, 136.0, 169.0, 82.0, 169.0, 1...  "
      ]
     },
     "execution_count": 48,
     "metadata": {},
     "output_type": "execute_result"
    }
   ],
   "source": [
    "test\n"
   ]
  },
  {
   "cell_type": "code",
   "execution_count": 49,
   "id": "027561b0",
   "metadata": {},
   "outputs": [],
   "source": [
    "row4 = vec[4]"
   ]
  },
  {
   "cell_type": "code",
   "execution_count": 50,
   "id": "2af10404",
   "metadata": {},
   "outputs": [
    {
     "data": {
      "text/plain": [
       "nan"
      ]
     },
     "execution_count": 50,
     "metadata": {},
     "output_type": "execute_result"
    }
   ],
   "source": [
    "row4"
   ]
  },
  {
   "cell_type": "code",
   "execution_count": 51,
   "id": "3748e737",
   "metadata": {},
   "outputs": [],
   "source": [
    "row4 = vec[3]"
   ]
  },
  {
   "cell_type": "code",
   "execution_count": 52,
   "id": "9b4e011f",
   "metadata": {},
   "outputs": [
    {
     "data": {
      "text/plain": [
       "'userThroughput:vector'"
      ]
     },
     "execution_count": 52,
     "metadata": {},
     "output_type": "execute_result"
    }
   ],
   "source": [
    "row4"
   ]
  },
  {
   "cell_type": "code",
   "execution_count": 53,
   "id": "387848cf",
   "metadata": {},
   "outputs": [
    {
     "ename": "NameError",
     "evalue": "name 'row' is not defined",
     "output_type": "error",
     "traceback": [
      "\u001b[0;31m---------------------------------------------------------------------------\u001b[0m",
      "\u001b[0;31mNameError\u001b[0m                                 Traceback (most recent call last)",
      "Cell \u001b[0;32mIn[53], line 1\u001b[0m\n\u001b[0;32m----> 1\u001b[0m \u001b[43mrow\u001b[49m\n",
      "\u001b[0;31mNameError\u001b[0m: name 'row' is not defined"
     ]
    }
   ],
   "source": [
    "row"
   ]
  },
  {
   "cell_type": "code",
   "execution_count": 54,
   "id": "26845083",
   "metadata": {},
   "outputs": [
    {
     "data": {
      "text/plain": [
       "'userThroughput:vector'"
      ]
     },
     "execution_count": 54,
     "metadata": {},
     "output_type": "execute_result"
    }
   ],
   "source": [
    "row4"
   ]
  },
  {
   "cell_type": "code",
   "execution_count": 55,
   "id": "fc456774",
   "metadata": {},
   "outputs": [
    {
     "data": {
      "text/plain": [
       "'userThroughput:vector'"
      ]
     },
     "execution_count": 55,
     "metadata": {},
     "output_type": "execute_result"
    }
   ],
   "source": [
    "vec[3]"
   ]
  },
  {
   "cell_type": "code",
   "execution_count": 56,
   "id": "f127dabd",
   "metadata": {},
   "outputs": [
    {
     "data": {
      "text/plain": [
       "run                      Validation1-0-20221208-22:09:54-55868\n",
       "type                                                    vector\n",
       "module                OpportunisticCellularNetwork.cellular[3]\n",
       "name                                     userThroughput:vector\n",
       "attrname                                                   NaN\n",
       "attrvalue                                                  NaN\n",
       "vectime      0 0.001 0.002 0.003 0.004 0.005 0.006 0.007 0....\n",
       "vecvalue     0 7 154 136 169 82 169 107 114 108 204 183 196...\n",
       "Name: 46, dtype: object"
      ]
     },
     "execution_count": 56,
     "metadata": {},
     "output_type": "execute_result"
    }
   ],
   "source": [
    "vec\n"
   ]
  },
  {
   "cell_type": "code",
   "execution_count": 57,
   "id": "ce581982",
   "metadata": {},
   "outputs": [
    {
     "data": {
      "text/html": [
       "<div>\n",
       "<style scoped>\n",
       "    .dataframe tbody tr th:only-of-type {\n",
       "        vertical-align: middle;\n",
       "    }\n",
       "\n",
       "    .dataframe tbody tr th {\n",
       "        vertical-align: top;\n",
       "    }\n",
       "\n",
       "    .dataframe thead th {\n",
       "        text-align: right;\n",
       "    }\n",
       "</style>\n",
       "<table border=\"1\" class=\"dataframe\">\n",
       "  <thead>\n",
       "    <tr style=\"text-align: right;\">\n",
       "      <th></th>\n",
       "      <th>run</th>\n",
       "      <th>type</th>\n",
       "      <th>module</th>\n",
       "      <th>name</th>\n",
       "      <th>attrname</th>\n",
       "      <th>attrvalue</th>\n",
       "      <th>vectime</th>\n",
       "      <th>vecvalue</th>\n",
       "    </tr>\n",
       "  </thead>\n",
       "  <tbody>\n",
       "    <tr>\n",
       "      <th>34</th>\n",
       "      <td>Validation1-0-20221208-22:09:54-55868</td>\n",
       "      <td>vector</td>\n",
       "      <td>OpportunisticCellularNetwork.cellular[0]</td>\n",
       "      <td>userThroughput:vector</td>\n",
       "      <td>NaN</td>\n",
       "      <td>None</td>\n",
       "      <td>[0.0, 0.001, 0.002, 0.003, 0.004, 0.005, 0.006...</td>\n",
       "      <td>[0.0, 147.0, 105.0, 145.0, 93.0, 264.0, 58.0, ...</td>\n",
       "    </tr>\n",
       "    <tr>\n",
       "      <th>38</th>\n",
       "      <td>Validation1-0-20221208-22:09:54-55868</td>\n",
       "      <td>vector</td>\n",
       "      <td>OpportunisticCellularNetwork.cellular[1]</td>\n",
       "      <td>userThroughput:vector</td>\n",
       "      <td>NaN</td>\n",
       "      <td>None</td>\n",
       "      <td>[0.0, 0.001, 0.002, 0.003, 0.004, 0.005, 0.006...</td>\n",
       "      <td>[0.0, 0.0, 37.0, 252.0, 153.0, 79.0, 131.0, 20...</td>\n",
       "    </tr>\n",
       "    <tr>\n",
       "      <th>42</th>\n",
       "      <td>Validation1-0-20221208-22:09:54-55868</td>\n",
       "      <td>vector</td>\n",
       "      <td>OpportunisticCellularNetwork.cellular[2]</td>\n",
       "      <td>userThroughput:vector</td>\n",
       "      <td>NaN</td>\n",
       "      <td>None</td>\n",
       "      <td>[0.0, 0.001, 0.002, 0.003, 0.004, 0.005, 0.006...</td>\n",
       "      <td>[0.0, 59.0, 93.0, 85.0, 144.0, 148.0, 151.0, 2...</td>\n",
       "    </tr>\n",
       "    <tr>\n",
       "      <th>46</th>\n",
       "      <td>Validation1-0-20221208-22:09:54-55868</td>\n",
       "      <td>vector</td>\n",
       "      <td>OpportunisticCellularNetwork.cellular[3]</td>\n",
       "      <td>userThroughput:vector</td>\n",
       "      <td>NaN</td>\n",
       "      <td>None</td>\n",
       "      <td>[0.0, 0.001, 0.002, 0.003, 0.004, 0.005, 0.006...</td>\n",
       "      <td>[0.0, 7.0, 154.0, 136.0, 169.0, 82.0, 169.0, 1...</td>\n",
       "    </tr>\n",
       "  </tbody>\n",
       "</table>\n",
       "</div>"
      ],
      "text/plain": [
       "                                      run    type  \\\n",
       "34  Validation1-0-20221208-22:09:54-55868  vector   \n",
       "38  Validation1-0-20221208-22:09:54-55868  vector   \n",
       "42  Validation1-0-20221208-22:09:54-55868  vector   \n",
       "46  Validation1-0-20221208-22:09:54-55868  vector   \n",
       "\n",
       "                                      module                   name attrname  \\\n",
       "34  OpportunisticCellularNetwork.cellular[0]  userThroughput:vector      NaN   \n",
       "38  OpportunisticCellularNetwork.cellular[1]  userThroughput:vector      NaN   \n",
       "42  OpportunisticCellularNetwork.cellular[2]  userThroughput:vector      NaN   \n",
       "46  OpportunisticCellularNetwork.cellular[3]  userThroughput:vector      NaN   \n",
       "\n",
       "   attrvalue                                            vectime  \\\n",
       "34      None  [0.0, 0.001, 0.002, 0.003, 0.004, 0.005, 0.006...   \n",
       "38      None  [0.0, 0.001, 0.002, 0.003, 0.004, 0.005, 0.006...   \n",
       "42      None  [0.0, 0.001, 0.002, 0.003, 0.004, 0.005, 0.006...   \n",
       "46      None  [0.0, 0.001, 0.002, 0.003, 0.004, 0.005, 0.006...   \n",
       "\n",
       "                                             vecvalue  \n",
       "34  [0.0, 147.0, 105.0, 145.0, 93.0, 264.0, 58.0, ...  \n",
       "38  [0.0, 0.0, 37.0, 252.0, 153.0, 79.0, 131.0, 20...  \n",
       "42  [0.0, 59.0, 93.0, 85.0, 144.0, 148.0, 151.0, 2...  \n",
       "46  [0.0, 7.0, 154.0, 136.0, 169.0, 82.0, 169.0, 1...  "
      ]
     },
     "execution_count": 57,
     "metadata": {},
     "output_type": "execute_result"
    }
   ],
   "source": [
    "test\n",
    "\n"
   ]
  },
  {
   "cell_type": "code",
   "execution_count": 58,
   "id": "d65b5ae2",
   "metadata": {},
   "outputs": [
    {
     "ename": "KeyError",
     "evalue": "3",
     "output_type": "error",
     "traceback": [
      "\u001b[0;31m---------------------------------------------------------------------------\u001b[0m",
      "\u001b[0;31mKeyError\u001b[0m                                  Traceback (most recent call last)",
      "File \u001b[0;32m/usr/local/lib/python3.10/site-packages/pandas/core/indexes/base.py:3803\u001b[0m, in \u001b[0;36mIndex.get_loc\u001b[0;34m(self, key, method, tolerance)\u001b[0m\n\u001b[1;32m   3802\u001b[0m \u001b[38;5;28;01mtry\u001b[39;00m:\n\u001b[0;32m-> 3803\u001b[0m     \u001b[38;5;28;01mreturn\u001b[39;00m \u001b[38;5;28;43mself\u001b[39;49m\u001b[38;5;241;43m.\u001b[39;49m\u001b[43m_engine\u001b[49m\u001b[38;5;241;43m.\u001b[39;49m\u001b[43mget_loc\u001b[49m\u001b[43m(\u001b[49m\u001b[43mcasted_key\u001b[49m\u001b[43m)\u001b[49m\n\u001b[1;32m   3804\u001b[0m \u001b[38;5;28;01mexcept\u001b[39;00m \u001b[38;5;167;01mKeyError\u001b[39;00m \u001b[38;5;28;01mas\u001b[39;00m err:\n",
      "File \u001b[0;32m/usr/local/lib/python3.10/site-packages/pandas/_libs/index.pyx:138\u001b[0m, in \u001b[0;36mpandas._libs.index.IndexEngine.get_loc\u001b[0;34m()\u001b[0m\n",
      "File \u001b[0;32m/usr/local/lib/python3.10/site-packages/pandas/_libs/index.pyx:165\u001b[0m, in \u001b[0;36mpandas._libs.index.IndexEngine.get_loc\u001b[0;34m()\u001b[0m\n",
      "File \u001b[0;32mpandas/_libs/hashtable_class_helper.pxi:5745\u001b[0m, in \u001b[0;36mpandas._libs.hashtable.PyObjectHashTable.get_item\u001b[0;34m()\u001b[0m\n",
      "File \u001b[0;32mpandas/_libs/hashtable_class_helper.pxi:5753\u001b[0m, in \u001b[0;36mpandas._libs.hashtable.PyObjectHashTable.get_item\u001b[0;34m()\u001b[0m\n",
      "\u001b[0;31mKeyError\u001b[0m: 3",
      "\nThe above exception was the direct cause of the following exception:\n",
      "\u001b[0;31mKeyError\u001b[0m                                  Traceback (most recent call last)",
      "Cell \u001b[0;32mIn[58], line 1\u001b[0m\n\u001b[0;32m----> 1\u001b[0m row4 \u001b[38;5;241m=\u001b[39m \u001b[43mtest\u001b[49m\u001b[43m[\u001b[49m\u001b[38;5;241;43m3\u001b[39;49m\u001b[43m]\u001b[49m\n",
      "File \u001b[0;32m/usr/local/lib/python3.10/site-packages/pandas/core/frame.py:3805\u001b[0m, in \u001b[0;36mDataFrame.__getitem__\u001b[0;34m(self, key)\u001b[0m\n\u001b[1;32m   3803\u001b[0m \u001b[38;5;28;01mif\u001b[39;00m \u001b[38;5;28mself\u001b[39m\u001b[38;5;241m.\u001b[39mcolumns\u001b[38;5;241m.\u001b[39mnlevels \u001b[38;5;241m>\u001b[39m \u001b[38;5;241m1\u001b[39m:\n\u001b[1;32m   3804\u001b[0m     \u001b[38;5;28;01mreturn\u001b[39;00m \u001b[38;5;28mself\u001b[39m\u001b[38;5;241m.\u001b[39m_getitem_multilevel(key)\n\u001b[0;32m-> 3805\u001b[0m indexer \u001b[38;5;241m=\u001b[39m \u001b[38;5;28;43mself\u001b[39;49m\u001b[38;5;241;43m.\u001b[39;49m\u001b[43mcolumns\u001b[49m\u001b[38;5;241;43m.\u001b[39;49m\u001b[43mget_loc\u001b[49m\u001b[43m(\u001b[49m\u001b[43mkey\u001b[49m\u001b[43m)\u001b[49m\n\u001b[1;32m   3806\u001b[0m \u001b[38;5;28;01mif\u001b[39;00m is_integer(indexer):\n\u001b[1;32m   3807\u001b[0m     indexer \u001b[38;5;241m=\u001b[39m [indexer]\n",
      "File \u001b[0;32m/usr/local/lib/python3.10/site-packages/pandas/core/indexes/base.py:3805\u001b[0m, in \u001b[0;36mIndex.get_loc\u001b[0;34m(self, key, method, tolerance)\u001b[0m\n\u001b[1;32m   3803\u001b[0m     \u001b[38;5;28;01mreturn\u001b[39;00m \u001b[38;5;28mself\u001b[39m\u001b[38;5;241m.\u001b[39m_engine\u001b[38;5;241m.\u001b[39mget_loc(casted_key)\n\u001b[1;32m   3804\u001b[0m \u001b[38;5;28;01mexcept\u001b[39;00m \u001b[38;5;167;01mKeyError\u001b[39;00m \u001b[38;5;28;01mas\u001b[39;00m err:\n\u001b[0;32m-> 3805\u001b[0m     \u001b[38;5;28;01mraise\u001b[39;00m \u001b[38;5;167;01mKeyError\u001b[39;00m(key) \u001b[38;5;28;01mfrom\u001b[39;00m \u001b[38;5;21;01merr\u001b[39;00m\n\u001b[1;32m   3806\u001b[0m \u001b[38;5;28;01mexcept\u001b[39;00m \u001b[38;5;167;01mTypeError\u001b[39;00m:\n\u001b[1;32m   3807\u001b[0m     \u001b[38;5;66;03m# If we have a listlike key, _check_indexing_error will raise\u001b[39;00m\n\u001b[1;32m   3808\u001b[0m     \u001b[38;5;66;03m#  InvalidIndexError. Otherwise we fall through and re-raise\u001b[39;00m\n\u001b[1;32m   3809\u001b[0m     \u001b[38;5;66;03m#  the TypeError.\u001b[39;00m\n\u001b[1;32m   3810\u001b[0m     \u001b[38;5;28mself\u001b[39m\u001b[38;5;241m.\u001b[39m_check_indexing_error(key)\n",
      "\u001b[0;31mKeyError\u001b[0m: 3"
     ]
    }
   ],
   "source": [
    "row4 = test[3]"
   ]
  },
  {
   "cell_type": "code",
   "execution_count": 59,
   "id": "9555e7cd",
   "metadata": {},
   "outputs": [
    {
     "data": {
      "text/plain": [
       "'userThroughput:vector'"
      ]
     },
     "execution_count": 59,
     "metadata": {},
     "output_type": "execute_result"
    }
   ],
   "source": [
    "row4\n"
   ]
  },
  {
   "cell_type": "code",
   "execution_count": 60,
   "id": "e4ab9b73",
   "metadata": {},
   "outputs": [
    {
     "ename": "KeyError",
     "evalue": "3",
     "output_type": "error",
     "traceback": [
      "\u001b[0;31m---------------------------------------------------------------------------\u001b[0m",
      "\u001b[0;31mKeyError\u001b[0m                                  Traceback (most recent call last)",
      "File \u001b[0;32m/usr/local/lib/python3.10/site-packages/pandas/core/indexes/base.py:3803\u001b[0m, in \u001b[0;36mIndex.get_loc\u001b[0;34m(self, key, method, tolerance)\u001b[0m\n\u001b[1;32m   3802\u001b[0m \u001b[38;5;28;01mtry\u001b[39;00m:\n\u001b[0;32m-> 3803\u001b[0m     \u001b[38;5;28;01mreturn\u001b[39;00m \u001b[38;5;28;43mself\u001b[39;49m\u001b[38;5;241;43m.\u001b[39;49m\u001b[43m_engine\u001b[49m\u001b[38;5;241;43m.\u001b[39;49m\u001b[43mget_loc\u001b[49m\u001b[43m(\u001b[49m\u001b[43mcasted_key\u001b[49m\u001b[43m)\u001b[49m\n\u001b[1;32m   3804\u001b[0m \u001b[38;5;28;01mexcept\u001b[39;00m \u001b[38;5;167;01mKeyError\u001b[39;00m \u001b[38;5;28;01mas\u001b[39;00m err:\n",
      "File \u001b[0;32m/usr/local/lib/python3.10/site-packages/pandas/_libs/index.pyx:138\u001b[0m, in \u001b[0;36mpandas._libs.index.IndexEngine.get_loc\u001b[0;34m()\u001b[0m\n",
      "File \u001b[0;32m/usr/local/lib/python3.10/site-packages/pandas/_libs/index.pyx:165\u001b[0m, in \u001b[0;36mpandas._libs.index.IndexEngine.get_loc\u001b[0;34m()\u001b[0m\n",
      "File \u001b[0;32mpandas/_libs/hashtable_class_helper.pxi:5745\u001b[0m, in \u001b[0;36mpandas._libs.hashtable.PyObjectHashTable.get_item\u001b[0;34m()\u001b[0m\n",
      "File \u001b[0;32mpandas/_libs/hashtable_class_helper.pxi:5753\u001b[0m, in \u001b[0;36mpandas._libs.hashtable.PyObjectHashTable.get_item\u001b[0;34m()\u001b[0m\n",
      "\u001b[0;31mKeyError\u001b[0m: 3",
      "\nThe above exception was the direct cause of the following exception:\n",
      "\u001b[0;31mKeyError\u001b[0m                                  Traceback (most recent call last)",
      "Cell \u001b[0;32mIn[60], line 1\u001b[0m\n\u001b[0;32m----> 1\u001b[0m row \u001b[38;5;241m=\u001b[39m \u001b[43mtest\u001b[49m\u001b[43m[\u001b[49m\u001b[38;5;241;43m3\u001b[39;49m\u001b[43m]\u001b[49m\n",
      "File \u001b[0;32m/usr/local/lib/python3.10/site-packages/pandas/core/frame.py:3805\u001b[0m, in \u001b[0;36mDataFrame.__getitem__\u001b[0;34m(self, key)\u001b[0m\n\u001b[1;32m   3803\u001b[0m \u001b[38;5;28;01mif\u001b[39;00m \u001b[38;5;28mself\u001b[39m\u001b[38;5;241m.\u001b[39mcolumns\u001b[38;5;241m.\u001b[39mnlevels \u001b[38;5;241m>\u001b[39m \u001b[38;5;241m1\u001b[39m:\n\u001b[1;32m   3804\u001b[0m     \u001b[38;5;28;01mreturn\u001b[39;00m \u001b[38;5;28mself\u001b[39m\u001b[38;5;241m.\u001b[39m_getitem_multilevel(key)\n\u001b[0;32m-> 3805\u001b[0m indexer \u001b[38;5;241m=\u001b[39m \u001b[38;5;28;43mself\u001b[39;49m\u001b[38;5;241;43m.\u001b[39;49m\u001b[43mcolumns\u001b[49m\u001b[38;5;241;43m.\u001b[39;49m\u001b[43mget_loc\u001b[49m\u001b[43m(\u001b[49m\u001b[43mkey\u001b[49m\u001b[43m)\u001b[49m\n\u001b[1;32m   3806\u001b[0m \u001b[38;5;28;01mif\u001b[39;00m is_integer(indexer):\n\u001b[1;32m   3807\u001b[0m     indexer \u001b[38;5;241m=\u001b[39m [indexer]\n",
      "File \u001b[0;32m/usr/local/lib/python3.10/site-packages/pandas/core/indexes/base.py:3805\u001b[0m, in \u001b[0;36mIndex.get_loc\u001b[0;34m(self, key, method, tolerance)\u001b[0m\n\u001b[1;32m   3803\u001b[0m     \u001b[38;5;28;01mreturn\u001b[39;00m \u001b[38;5;28mself\u001b[39m\u001b[38;5;241m.\u001b[39m_engine\u001b[38;5;241m.\u001b[39mget_loc(casted_key)\n\u001b[1;32m   3804\u001b[0m \u001b[38;5;28;01mexcept\u001b[39;00m \u001b[38;5;167;01mKeyError\u001b[39;00m \u001b[38;5;28;01mas\u001b[39;00m err:\n\u001b[0;32m-> 3805\u001b[0m     \u001b[38;5;28;01mraise\u001b[39;00m \u001b[38;5;167;01mKeyError\u001b[39;00m(key) \u001b[38;5;28;01mfrom\u001b[39;00m \u001b[38;5;21;01merr\u001b[39;00m\n\u001b[1;32m   3806\u001b[0m \u001b[38;5;28;01mexcept\u001b[39;00m \u001b[38;5;167;01mTypeError\u001b[39;00m:\n\u001b[1;32m   3807\u001b[0m     \u001b[38;5;66;03m# If we have a listlike key, _check_indexing_error will raise\u001b[39;00m\n\u001b[1;32m   3808\u001b[0m     \u001b[38;5;66;03m#  InvalidIndexError. Otherwise we fall through and re-raise\u001b[39;00m\n\u001b[1;32m   3809\u001b[0m     \u001b[38;5;66;03m#  the TypeError.\u001b[39;00m\n\u001b[1;32m   3810\u001b[0m     \u001b[38;5;28mself\u001b[39m\u001b[38;5;241m.\u001b[39m_check_indexing_error(key)\n",
      "\u001b[0;31mKeyError\u001b[0m: 3"
     ]
    }
   ],
   "source": [
    "row = test[3]"
   ]
  },
  {
   "cell_type": "code",
   "execution_count": 61,
   "id": "0f9ba275",
   "metadata": {},
   "outputs": [],
   "source": [
    "row4 = test.iloc[3]"
   ]
  },
  {
   "cell_type": "code",
   "execution_count": 62,
   "id": "8a955806",
   "metadata": {},
   "outputs": [
    {
     "data": {
      "text/plain": [
       "run                      Validation1-0-20221208-22:09:54-55868\n",
       "type                                                    vector\n",
       "module                OpportunisticCellularNetwork.cellular[3]\n",
       "name                                     userThroughput:vector\n",
       "attrname                                                   NaN\n",
       "attrvalue                                                 None\n",
       "vectime      [0.0, 0.001, 0.002, 0.003, 0.004, 0.005, 0.006...\n",
       "vecvalue     [0.0, 7.0, 154.0, 136.0, 169.0, 82.0, 169.0, 1...\n",
       "Name: 46, dtype: object"
      ]
     },
     "execution_count": 62,
     "metadata": {},
     "output_type": "execute_result"
    }
   ],
   "source": [
    "row4"
   ]
  },
  {
   "cell_type": "code",
   "execution_count": 63,
   "id": "59b04926",
   "metadata": {},
   "outputs": [
    {
     "data": {
      "text/plain": [
       "[<matplotlib.lines.Line2D at 0x1668d0160>]"
      ]
     },
     "execution_count": 63,
     "metadata": {},
     "output_type": "execute_result"
    },
    {
     "data": {
      "image/png": "[encoded data removed]",
      "text/plain": [
       "<Figure size 640x480 with 1 Axes>"
      ]
     },
     "metadata": {},
     "output_type": "display_data"
    }
   ],
   "source": [
    "plt.plot(row4.vectime,row4.vecvalue,drawstyle='steps-post')"
   ]
  },
  {
   "cell_type": "code",
   "execution_count": 64,
   "id": "989ffbef",
   "metadata": {},
   "outputs": [],
   "source": [
    "plt.show(0,10000)"
   ]
  },
  {
   "cell_type": "code",
   "execution_count": 65,
   "id": "1f2e271f",
   "metadata": {},
   "outputs": [
    {
     "data": {
      "text/plain": [
       "(0.0, 1000.0)"
      ]
     },
     "execution_count": 65,
     "metadata": {},
     "output_type": "execute_result"
    },
    {
     "data": {
      "image/png": "[encoded data removed]",
      "text/plain": [
       "<Figure size 640x480 with 1 Axes>"
      ]
     },
     "metadata": {},
     "output_type": "display_data"
    }
   ],
   "source": [
    "plt.xlim(0,1000)"
   ]
  },
  {
   "cell_type": "code",
   "execution_count": 66,
   "id": "9a2997ed",
   "metadata": {},
   "outputs": [
    {
     "data": {
      "text/plain": [
       "[<matplotlib.lines.Line2D at 0x166981240>]"
      ]
     },
     "execution_count": 66,
     "metadata": {},
     "output_type": "execute_result"
    },
    {
     "data": {
      "image/png": "[encoded data removed]",
      "text/plain": [
       "<Figure size 640x480 with 1 Axes>"
      ]
     },
     "metadata": {},
     "output_type": "display_data"
    }
   ],
   "source": [
    "plt.plot(row4.vectime,row4.vecvalue,drawstyle='steps-post')"
   ]
  },
  {
   "cell_type": "code",
   "execution_count": 68,
   "id": "bdd318f4",
   "metadata": {},
   "outputs": [
    {
     "data": {
      "image/png": "[encoded data removed]",
      "text/plain": [
       "<Figure size 640x480 with 1 Axes>"
      ]
     },
     "metadata": {},
     "output_type": "display_data"
    }
   ],
   "source": [
    "plot = plt.plot(row4.vectime,row4.vecvalue,drawstyle='steps-post')\n"
   ]
  },
  {
   "cell_type": "code",
   "execution_count": 69,
   "id": "244195ce",
   "metadata": {},
   "outputs": [
    {
     "ename": "AttributeError",
     "evalue": "'list' object has no attribute 'xlim'",
     "output_type": "error",
     "traceback": [
      "\u001b[0;31m---------------------------------------------------------------------------\u001b[0m",
      "\u001b[0;31mAttributeError\u001b[0m                            Traceback (most recent call last)",
      "Cell \u001b[0;32mIn[69], line 1\u001b[0m\n\u001b[0;32m----> 1\u001b[0m \u001b[43mplot\u001b[49m\u001b[38;5;241;43m.\u001b[39;49m\u001b[43mxlim\u001b[49m(\u001b[38;5;241m0\u001b[39m,\u001b[38;5;241m1000\u001b[39m)\n",
      "\u001b[0;31mAttributeError\u001b[0m: 'list' object has no attribute 'xlim'"
     ]
    }
   ],
   "source": [
    "plot.xlim(0,1000)"
   ]
  },
  {
   "cell_type": "code",
   "execution_count": 70,
   "id": "e1482298",
   "metadata": {},
   "outputs": [
    {
     "data": {
      "text/plain": [
       "(0.0, 100.0)"
      ]
     },
     "execution_count": 70,
     "metadata": {},
     "output_type": "execute_result"
    },
    {
     "data": {
      "image/png": "[encoded data removed]",
      "text/plain": [
       "<Figure size 640x480 with 1 Axes>"
      ]
     },
     "metadata": {},
     "output_type": "display_data"
    }
   ],
   "source": [
    "plt.xlim(0,100)"
   ]
  },
  {
   "cell_type": "code",
   "execution_count": 71,
   "id": "fa586f22",
   "metadata": {},
   "outputs": [
    {
     "ename": "AttributeError",
     "evalue": "'list' object has no attribute 'xlim'",
     "output_type": "error",
     "traceback": [
      "\u001b[0;31m---------------------------------------------------------------------------\u001b[0m",
      "\u001b[0;31mAttributeError\u001b[0m                            Traceback (most recent call last)",
      "Cell \u001b[0;32mIn[71], line 1\u001b[0m\n\u001b[0;32m----> 1\u001b[0m \u001b[43mplt\u001b[49m\u001b[38;5;241;43m.\u001b[39;49m\u001b[43mplot\u001b[49m\u001b[43m(\u001b[49m\u001b[43mrow4\u001b[49m\u001b[38;5;241;43m.\u001b[39;49m\u001b[43mvectime\u001b[49m\u001b[43m,\u001b[49m\u001b[43mrow4\u001b[49m\u001b[38;5;241;43m.\u001b[39;49m\u001b[43mvecvalue\u001b[49m\u001b[43m,\u001b[49m\u001b[43mdrawstyle\u001b[49m\u001b[38;5;241;43m=\u001b[39;49m\u001b[38;5;124;43m'\u001b[39;49m\u001b[38;5;124;43msteps-post\u001b[39;49m\u001b[38;5;124;43m'\u001b[39;49m\u001b[43m)\u001b[49m\u001b[38;5;241;43m.\u001b[39;49m\u001b[43mxlim\u001b[49m(\u001b[38;5;241m0\u001b[39m,\u001b[38;5;241m1000\u001b[39m\n\u001b[1;32m      2\u001b[0m                                                                )\n",
      "\u001b[0;31mAttributeError\u001b[0m: 'list' object has no attribute 'xlim'"
     ]
    },
    {
     "data": {
      "image/png": "[encoded data removed]",
      "text/plain": [
       "<Figure size 640x480 with 1 Axes>"
      ]
     },
     "metadata": {},
     "output_type": "display_data"
    }
   ],
   "source": [
    " plt.plot(row4.vectime,row4.vecvalue,drawstyle='steps-post').xlim(0,1000\n",
    "                                                                )"
   ]
  },
  {
   "cell_type": "code",
   "execution_count": 72,
   "id": "4726948f",
   "metadata": {},
   "outputs": [
    {
     "data": {
      "text/plain": [
       "(0.0, 100.0)"
      ]
     },
     "execution_count": 72,
     "metadata": {},
     "output_type": "execute_result"
    },
    {
     "data": {
      "image/png": "[encoded data removed]",
      "text/plain": [
       "<Figure size 640x480 with 1 Axes>"
      ]
     },
     "metadata": {},
     "output_type": "display_data"
    }
   ],
   "source": [
    "plt.xlim(0,100)"
   ]
  },
  {
   "cell_type": "code",
   "execution_count": 73,
   "id": "38e21651",
   "metadata": {},
   "outputs": [],
   "source": [
    "plt.show()"
   ]
  },
  {
   "cell_type": "code",
   "execution_count": 74,
   "id": "c498711e",
   "metadata": {},
   "outputs": [
    {
     "data": {
      "text/plain": [
       "Text(0.5, 1.0, '46')"
      ]
     },
     "execution_count": 74,
     "metadata": {},
     "output_type": "execute_result"
    },
    {
     "data": {
      "image/png": "[encoded data removed]",
      "text/plain": [
       "<Figure size 640x480 with 1 Axes>"
      ]
     },
     "metadata": {},
     "output_type": "display_data"
    }
   ],
   "source": [
    "plt.title(row4.name)"
   ]
  },
  {
   "cell_type": "code",
   "execution_count": 75,
   "id": "45411022",
   "metadata": {},
   "outputs": [
    {
     "ename": "AttributeError",
     "evalue": "'numpy.int64' object has no attribute 'values'",
     "output_type": "error",
     "traceback": [
      "\u001b[0;31m---------------------------------------------------------------------------\u001b[0m",
      "\u001b[0;31mAttributeError\u001b[0m                            Traceback (most recent call last)",
      "Cell \u001b[0;32mIn[75], line 1\u001b[0m\n\u001b[0;32m----> 1\u001b[0m plt\u001b[38;5;241m.\u001b[39mtitle(\u001b[43mrow4\u001b[49m\u001b[38;5;241;43m.\u001b[39;49m\u001b[43mname\u001b[49m\u001b[38;5;241;43m.\u001b[39;49m\u001b[43mvalues\u001b[49m[\u001b[38;5;241m0\u001b[39m])\n",
      "\u001b[0;31mAttributeError\u001b[0m: 'numpy.int64' object has no attribute 'values'"
     ]
    }
   ],
   "source": [
    "plt.title(row4.name.values[0])"
   ]
  },
  {
   "cell_type": "code",
   "execution_count": 76,
   "id": "044080ff",
   "metadata": {},
   "outputs": [
    {
     "name": "stderr",
     "output_type": "stream",
     "text": [
      "No artists with labels found to put in legend.  Note that artists whose label start with an underscore are ignored when legend() is called with no argument.\n"
     ]
    },
    {
     "data": {
      "text/plain": [
       "<matplotlib.legend.Legend at 0x165fc7130>"
      ]
     },
     "execution_count": 76,
     "metadata": {},
     "output_type": "execute_result"
    },
    {
     "data": {
      "image/png": "[encoded data removed]",
      "text/plain": [
       "<Figure size 640x480 with 1 Axes>"
      ]
     },
     "metadata": {},
     "output_type": "display_data"
    }
   ],
   "source": [
    "plt.legend()"
   ]
  },
  {
   "cell_type": "code",
   "execution_count": null,
   "id": "f8e7b711",
   "metadata": {},
   "outputs": [],
   "source": [
    "def compute_ci_student_t (alpha, degrees, std) : "
   ]
  },
  {
   "cell_type": "code",
   "execution_count": 77,
   "id": "9d8408a7",
   "metadata": {},
   "outputs": [],
   "source": [
    "from scipy.stats import t"
   ]
  },
  {
   "cell_type": "code",
   "execution_count": 78,
   "id": "1bc36dde",
   "metadata": {},
   "outputs": [],
   "source": [
    "numargs = t.numargs"
   ]
  },
  {
   "cell_type": "code",
   "execution_count": null,
   "id": "0b64010c",
   "metadata": {},
   "outputs": [],
   "source": []
  },
  {
   "cell_type": "code",
   "execution_count": 79,
   "id": "d0c644a8",
   "metadata": {},
   "outputs": [],
   "source": [
    "[ df ] = [0.9,] * numargs\n"
   ]
  },
  {
   "cell_type": "code",
   "execution_count": null,
   "id": "b21b46bf",
   "metadata": {},
   "outputs": [],
   "source": []
  },
  {
   "cell_type": "code",
   "execution_count": 80,
   "id": "d67dca47",
   "metadata": {},
   "outputs": [],
   "source": [
    "rv = t(df)"
   ]
  },
  {
   "cell_type": "code",
   "execution_count": 81,
   "id": "342d1b8e",
   "metadata": {},
   "outputs": [],
   "source": [
    "x = np.linspace(0, np.minimum(rv.dist.b, 3))"
   ]
  },
  {
   "cell_type": "code",
   "execution_count": 82,
   "id": "2ea00e86",
   "metadata": {},
   "outputs": [
    {
     "data": {
      "image/png": "[encoded data removed]",
      "text/plain": [
       "<Figure size 640x480 with 1 Axes>"
      ]
     },
     "metadata": {},
     "output_type": "display_data"
    }
   ],
   "source": [
    "h = plt.plot(x, rv.pdf(x))"
   ]
  },
  {
   "cell_type": "code",
   "execution_count": 1,
   "id": "54424dfd",
   "metadata": {},
   "outputs": [
    {
     "ename": "SyntaxError",
     "evalue": "invalid syntax. Maybe you meant '==' or ':=' instead of '='? (1968272217.py, line 2)",
     "output_type": "error",
     "traceback": [
      "\u001b[0;36m  Cell \u001b[0;32mIn[1], line 2\u001b[0;36m\u001b[0m\n\u001b[0;31m    degrees = len(data) - 1\u001b[0m\n\u001b[0m    ^\u001b[0m\n\u001b[0;31mSyntaxError\u001b[0m\u001b[0;31m:\u001b[0m invalid syntax. Maybe you meant '==' or ':=' instead of '='?\n"
     ]
    }
   ],
   "source": [
    "def compute_ci_student_t (data,alpha = 0.95) : {\n",
    "    degrees = len(data) - 1\n",
    "    mean = np.mean(data)\n",
    "    sem = np.sem(data)\n",
    "    return st.t.interval(alpha)    \n",
    "}"
   ]
  },
  {
   "cell_type": "code",
   "execution_count": 2,
   "id": "e29cd41d",
   "metadata": {},
   "outputs": [
    {
     "ename": "SyntaxError",
     "evalue": "invalid syntax. Perhaps you forgot a comma? (2941822084.py, line 2)",
     "output_type": "error",
     "traceback": [
      "\u001b[0;36m  Cell \u001b[0;32mIn[2], line 2\u001b[0;36m\u001b[0m\n\u001b[0;31m    degrees := len(data) - 1\u001b[0m\n\u001b[0m               ^\u001b[0m\n\u001b[0;31mSyntaxError\u001b[0m\u001b[0;31m:\u001b[0m invalid syntax. Perhaps you forgot a comma?\n"
     ]
    }
   ],
   "source": [
    "def compute_ci_student_t (data,alpha = 0.95) : {\n",
    "    degrees := len(data) - 1\n",
    "    mean = np.mean(data)\n",
    "    sem = np.sem(data)\n",
    "    return st.t.interval(alpha)    \n",
    "}"
   ]
  },
  {
   "cell_type": "code",
   "execution_count": 3,
   "id": "83c93e31",
   "metadata": {},
   "outputs": [
    {
     "ename": "SyntaxError",
     "evalue": "invalid syntax. Maybe you meant '==' or ':=' instead of '='? (3402166947.py, line 2)",
     "output_type": "error",
     "traceback": [
      "\u001b[0;36m  Cell \u001b[0;32mIn[3], line 2\u001b[0;36m\u001b[0m\n\u001b[0;31m    degrees = len(data)-1\u001b[0m\n\u001b[0m    ^\u001b[0m\n\u001b[0;31mSyntaxError\u001b[0m\u001b[0;31m:\u001b[0m invalid syntax. Maybe you meant '==' or ':=' instead of '='?\n"
     ]
    }
   ],
   "source": [
    "def compute_ci_student_t (data,alpha = 0.95) : {\n",
    "    degrees = len(data)-1\n",
    "    mean = np.mean(data)\n",
    "    sem = np.sem(data)\n",
    "    return st.t.interval(alpha)    \n",
    "}"
   ]
  },
  {
   "cell_type": "code",
   "execution_count": 4,
   "id": "2bd80ef8",
   "metadata": {},
   "outputs": [],
   "source": [
    "import numpy as np\n",
    "import scipy.stats as st"
   ]
  },
  {
   "cell_type": "code",
   "execution_count": 5,
   "id": "280fcb86",
   "metadata": {},
   "outputs": [],
   "source": [
    "def compute_ci_student_t (data,alpha = 0.95) : \n",
    "    degrees = len(data)-1\n",
    "    mean = np.mean(data)\n",
    "    sem = np.sem(data)\n",
    "    return st.t.interval(alpha,degrees,mean,sem)    \n"
   ]
  },
  {
   "cell_type": "code",
   "execution_count": 6,
   "id": "7467acd4",
   "metadata": {},
   "outputs": [
    {
     "ename": "NameError",
     "evalue": "name 'row4' is not defined",
     "output_type": "error",
     "traceback": [
      "\u001b[0;31m---------------------------------------------------------------------------\u001b[0m",
      "\u001b[0;31mNameError\u001b[0m                                 Traceback (most recent call last)",
      "Cell \u001b[0;32mIn[6], line 1\u001b[0m\n\u001b[0;32m----> 1\u001b[0m \u001b[43mrow4\u001b[49m\n",
      "\u001b[0;31mNameError\u001b[0m: name 'row4' is not defined"
     ]
    }
   ],
   "source": [
    "row4"
   ]
  },
  {
   "cell_type": "code",
   "execution_count": 7,
   "id": "28c76422",
   "metadata": {},
   "outputs": [
    {
     "ename": "NameError",
     "evalue": "name 'row4' is not defined",
     "output_type": "error",
     "traceback": [
      "\u001b[0;31m---------------------------------------------------------------------------\u001b[0m",
      "\u001b[0;31mNameError\u001b[0m                                 Traceback (most recent call last)",
      "Cell \u001b[0;32mIn[7], line 1\u001b[0m\n\u001b[0;32m----> 1\u001b[0m \u001b[43mrow4\u001b[49m\u001b[38;5;241m.\u001b[39mvecvalue\n",
      "\u001b[0;31mNameError\u001b[0m: name 'row4' is not defined"
     ]
    }
   ],
   "source": [
    "row4.vecvalue"
   ]
  },
  {
   "cell_type": "code",
   "execution_count": 8,
   "id": "96e2a405",
   "metadata": {},
   "outputs": [
    {
     "ename": "NameError",
     "evalue": "name 'row4' is not defined",
     "output_type": "error",
     "traceback": [
      "\u001b[0;31m---------------------------------------------------------------------------\u001b[0m",
      "\u001b[0;31mNameError\u001b[0m                                 Traceback (most recent call last)",
      "Cell \u001b[0;32mIn[8], line 1\u001b[0m\n\u001b[0;32m----> 1\u001b[0m \u001b[43mrow4\u001b[49m\u001b[38;5;241m.\u001b[39mvectime\n",
      "\u001b[0;31mNameError\u001b[0m: name 'row4' is not defined"
     ]
    }
   ],
   "source": [
    "row4.vectime"
   ]
  },
  {
   "cell_type": "code",
   "execution_count": 9,
   "id": "d3fc8468",
   "metadata": {},
   "outputs": [
    {
     "ename": "NameError",
     "evalue": "name 'pd' is not defined",
     "output_type": "error",
     "traceback": [
      "\u001b[0;31m---------------------------------------------------------------------------\u001b[0m",
      "\u001b[0;31mNameError\u001b[0m                                 Traceback (most recent call last)",
      "Cell \u001b[0;32mIn[9], line 1\u001b[0m\n\u001b[0;32m----> 1\u001b[0m test \u001b[38;5;241m=\u001b[39m \u001b[43mpd\u001b[49m\u001b[38;5;241m.\u001b[39mread_csv(\u001b[38;5;124m'\u001b[39m\u001b[38;5;124mValidation1.csv\u001b[39m\u001b[38;5;124m'\u001b[39m, converters \u001b[38;5;241m=\u001b[39m {\n\u001b[1;32m      2\u001b[0m     \u001b[38;5;124m'\u001b[39m\u001b[38;5;124mattrvalue\u001b[39m\u001b[38;5;124m'\u001b[39m: parse_if_number,\n\u001b[1;32m      3\u001b[0m     \u001b[38;5;124m'\u001b[39m\u001b[38;5;124mbinedges\u001b[39m\u001b[38;5;124m'\u001b[39m: parse_ndarray,\n\u001b[1;32m      4\u001b[0m     \u001b[38;5;124m'\u001b[39m\u001b[38;5;124mbinvalues\u001b[39m\u001b[38;5;124m'\u001b[39m: parse_ndarray,\n\u001b[1;32m      5\u001b[0m     \u001b[38;5;124m'\u001b[39m\u001b[38;5;124mvectime\u001b[39m\u001b[38;5;124m'\u001b[39m: parse_ndarray,\n\u001b[1;32m      6\u001b[0m     \u001b[38;5;124m'\u001b[39m\u001b[38;5;124mvecvalue\u001b[39m\u001b[38;5;124m'\u001b[39m: parse_ndarray})\n",
      "\u001b[0;31mNameError\u001b[0m: name 'pd' is not defined"
     ]
    }
   ],
   "source": [
    "test = pd.read_csv('Validation1.csv', converters = {\n",
    "    'attrvalue': parse_if_number,\n",
    "    'binedges': parse_ndarray,\n",
    "    'binvalues': parse_ndarray,\n",
    "    'vectime': parse_ndarray,\n",
    "    'vecvalue': parse_ndarray})\n"
   ]
  },
  {
   "cell_type": "code",
   "execution_count": 10,
   "id": "14e7eabf",
   "metadata": {},
   "outputs": [],
   "source": [
    "def compute_ci_student_t (data,alpha = 0.95) : \n",
    "    degrees = len(data)-1\n",
    "    mean = np.mean(data)\n",
    "    sem = np.sem(data)\n",
    "    return st.t.interval(alpha,degrees,mean,sem)    "
   ]
  },
  {
   "cell_type": "code",
   "execution_count": 11,
   "id": "4b72f4f6",
   "metadata": {},
   "outputs": [],
   "source": [
    "vec = [1,2,3,4,5,6,7,8,9]"
   ]
  },
  {
   "cell_type": "code",
   "execution_count": 12,
   "id": "83562288",
   "metadata": {},
   "outputs": [
    {
     "ename": "AttributeError",
     "evalue": "module 'numpy' has no attribute 'sem'",
     "output_type": "error",
     "traceback": [
      "\u001b[0;31m---------------------------------------------------------------------------\u001b[0m",
      "\u001b[0;31mAttributeError\u001b[0m                            Traceback (most recent call last)",
      "Cell \u001b[0;32mIn[12], line 1\u001b[0m\n\u001b[0;32m----> 1\u001b[0m \u001b[43mcompute_ci_student_t\u001b[49m\u001b[43m(\u001b[49m\u001b[43mvec\u001b[49m\u001b[43m)\u001b[49m\n",
      "Cell \u001b[0;32mIn[10], line 4\u001b[0m, in \u001b[0;36mcompute_ci_student_t\u001b[0;34m(data, alpha)\u001b[0m\n\u001b[1;32m      2\u001b[0m degrees \u001b[38;5;241m=\u001b[39m \u001b[38;5;28mlen\u001b[39m(data)\u001b[38;5;241m-\u001b[39m\u001b[38;5;241m1\u001b[39m\n\u001b[1;32m      3\u001b[0m mean \u001b[38;5;241m=\u001b[39m np\u001b[38;5;241m.\u001b[39mmean(data)\n\u001b[0;32m----> 4\u001b[0m sem \u001b[38;5;241m=\u001b[39m \u001b[43mnp\u001b[49m\u001b[38;5;241;43m.\u001b[39;49m\u001b[43msem\u001b[49m(data)\n\u001b[1;32m      5\u001b[0m \u001b[38;5;28;01mreturn\u001b[39;00m st\u001b[38;5;241m.\u001b[39mt\u001b[38;5;241m.\u001b[39minterval(alpha,degrees,mean,sem)\n",
      "File \u001b[0;32m/usr/local/lib/python3.10/site-packages/numpy/__init__.py:311\u001b[0m, in \u001b[0;36m__getattr__\u001b[0;34m(attr)\u001b[0m\n\u001b[1;32m    308\u001b[0m     \u001b[38;5;28;01mfrom\u001b[39;00m \u001b[38;5;21;01m.\u001b[39;00m\u001b[38;5;21;01mtesting\u001b[39;00m \u001b[38;5;28;01mimport\u001b[39;00m Tester\n\u001b[1;32m    309\u001b[0m     \u001b[38;5;28;01mreturn\u001b[39;00m Tester\n\u001b[0;32m--> 311\u001b[0m \u001b[38;5;28;01mraise\u001b[39;00m \u001b[38;5;167;01mAttributeError\u001b[39;00m(\u001b[38;5;124m\"\u001b[39m\u001b[38;5;124mmodule \u001b[39m\u001b[38;5;132;01m{!r}\u001b[39;00m\u001b[38;5;124m has no attribute \u001b[39m\u001b[38;5;124m\"\u001b[39m\n\u001b[1;32m    312\u001b[0m                      \u001b[38;5;124m\"\u001b[39m\u001b[38;5;132;01m{!r}\u001b[39;00m\u001b[38;5;124m\"\u001b[39m\u001b[38;5;241m.\u001b[39mformat(\u001b[38;5;18m__name__\u001b[39m, attr))\n",
      "\u001b[0;31mAttributeError\u001b[0m: module 'numpy' has no attribute 'sem'"
     ]
    }
   ],
   "source": [
    "compute_ci_student_t(vec)"
   ]
  },
  {
   "cell_type": "code",
   "execution_count": 13,
   "id": "7f6f90f9",
   "metadata": {},
   "outputs": [],
   "source": [
    "def compute_ci_student_t (data,alpha = 0.95) : \n",
    "    degrees = len(data)-1\n",
    "    mean = np.mean(data)\n",
    "    sem = st.sem(data)\n",
    "    return st.t.interval(alpha,degrees,mean,sem)    "
   ]
  },
  {
   "cell_type": "code",
   "execution_count": 14,
   "id": "6973a1c0",
   "metadata": {},
   "outputs": [
    {
     "data": {
      "text/plain": [
       "(2.8949158625700564, 7.105084137429944)"
      ]
     },
     "execution_count": 14,
     "metadata": {},
     "output_type": "execute_result"
    }
   ],
   "source": [
    "compute_ci_student_t(vec)"
   ]
  },
  {
   "cell_type": "code",
   "execution_count": null,
   "id": "44de691f",
   "metadata": {},
   "outputs": [],
   "source": []
  }
 ],
 "metadata": {
  "celltoolbar": "Slideshow",
  "kernelspec": {
   "display_name": "Python 3 (ipykernel)",
   "language": "python",
   "name": "python3"
  },
  "language_info": {
   "codemirror_mode": {
    "name": "ipython",
    "version": 3
   },
   "file_extension": ".py",
   "mimetype": "text/x-python",
   "name": "python",
   "nbconvert_exporter": "python",
   "pygments_lexer": "ipython3",
   "version": "3.10.8"
  }
 },
 "nbformat": 4,
 "nbformat_minor": 5
}
